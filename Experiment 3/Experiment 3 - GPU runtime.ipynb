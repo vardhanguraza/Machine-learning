{
 "cells": [
  {
   "cell_type": "code",
   "execution_count": 1,
   "metadata": {},
   "outputs": [
    {
     "name": "stdout",
     "output_type": "stream",
     "text": [
      "Requirement already satisfied: xgboost in c:\\python36\\lib\\site-packages (1.0.1)\n",
      "Requirement already satisfied: numpy in c:\\python36\\lib\\site-packages (from xgboost) (1.18.1)\n",
      "Requirement already satisfied: scipy in c:\\python36\\lib\\site-packages (from xgboost) (1.4.1)\n",
      "Requirement already satisfied: graphviz in c:\\python36\\lib\\site-packages (0.13.2)\n",
      "Requirement already satisfied: pydotplus in c:\\python36\\lib\\site-packages (2.0.2)\n",
      "Requirement already satisfied: pyparsing>=2.0.1 in c:\\python36\\lib\\site-packages (from pydotplus) (2.4.6)\n",
      "Requirement already satisfied: pandas in c:\\python36\\lib\\site-packages (1.0.1)\n",
      "Requirement already satisfied: numpy>=1.13.3 in c:\\python36\\lib\\site-packages (from pandas) (1.18.1)\n",
      "Requirement already satisfied: pytz>=2017.2 in c:\\python36\\lib\\site-packages (from pandas) (2019.3)\n",
      "Requirement already satisfied: python-dateutil>=2.6.1 in c:\\python36\\lib\\site-packages (from pandas) (2.8.1)\n",
      "Requirement already satisfied: six>=1.5 in c:\\python36\\lib\\site-packages (from python-dateutil>=2.6.1->pandas) (1.14.0)\n",
      "Requirement already satisfied: matplotlib in c:\\python36\\lib\\site-packages (3.1.3)\n",
      "Requirement already satisfied: pyparsing!=2.0.4,!=2.1.2,!=2.1.6,>=2.0.1 in c:\\python36\\lib\\site-packages (from matplotlib) (2.4.6)\n",
      "Requirement already satisfied: python-dateutil>=2.1 in c:\\python36\\lib\\site-packages (from matplotlib) (2.8.1)\n",
      "Requirement already satisfied: kiwisolver>=1.0.1 in c:\\python36\\lib\\site-packages (from matplotlib) (1.1.0)\n",
      "Requirement already satisfied: cycler>=0.10 in c:\\python36\\lib\\site-packages (from matplotlib) (0.10.0)\n",
      "Requirement already satisfied: numpy>=1.11 in c:\\python36\\lib\\site-packages (from matplotlib) (1.18.1)\n",
      "Requirement already satisfied: six>=1.5 in c:\\python36\\lib\\site-packages (from python-dateutil>=2.1->matplotlib) (1.14.0)\n",
      "Requirement already satisfied: setuptools in c:\\python36\\lib\\site-packages (from kiwisolver>=1.0.1->matplotlib) (28.8.0)\n",
      "Requirement already satisfied: seaborn in c:\\python36\\lib\\site-packages (0.10.0)\n",
      "Requirement already satisfied: scipy>=1.0.1 in c:\\python36\\lib\\site-packages (from seaborn) (1.4.1)\n",
      "Requirement already satisfied: matplotlib>=2.1.2 in c:\\python36\\lib\\site-packages (from seaborn) (3.1.3)\n",
      "Requirement already satisfied: pandas>=0.22.0 in c:\\python36\\lib\\site-packages (from seaborn) (1.0.1)\n",
      "Requirement already satisfied: numpy>=1.13.3 in c:\\python36\\lib\\site-packages (from seaborn) (1.18.1)\n",
      "Requirement already satisfied: pyparsing!=2.0.4,!=2.1.2,!=2.1.6,>=2.0.1 in c:\\python36\\lib\\site-packages (from matplotlib>=2.1.2->seaborn) (2.4.6)\n",
      "Requirement already satisfied: kiwisolver>=1.0.1 in c:\\python36\\lib\\site-packages (from matplotlib>=2.1.2->seaborn) (1.1.0)\n",
      "Requirement already satisfied: cycler>=0.10 in c:\\python36\\lib\\site-packages (from matplotlib>=2.1.2->seaborn) (0.10.0)\n",
      "Requirement already satisfied: python-dateutil>=2.1 in c:\\python36\\lib\\site-packages (from matplotlib>=2.1.2->seaborn) (2.8.1)\n",
      "Requirement already satisfied: pytz>=2017.2 in c:\\python36\\lib\\site-packages (from pandas>=0.22.0->seaborn) (2019.3)\n",
      "Requirement already satisfied: setuptools in c:\\python36\\lib\\site-packages (from kiwisolver>=1.0.1->matplotlib>=2.1.2->seaborn) (28.8.0)\n",
      "Requirement already satisfied: six in c:\\python36\\lib\\site-packages (from cycler>=0.10->matplotlib>=2.1.2->seaborn) (1.14.0)\n",
      "Requirement already satisfied: sklearn in c:\\python36\\lib\\site-packages (0.0)\n",
      "Requirement already satisfied: scikit-learn in c:\\python36\\lib\\site-packages (from sklearn) (0.22.1)\n",
      "Requirement already satisfied: numpy>=1.11.0 in c:\\python36\\lib\\site-packages (from scikit-learn->sklearn) (1.18.1)\n",
      "Requirement already satisfied: joblib>=0.11 in c:\\python36\\lib\\site-packages (from scikit-learn->sklearn) (0.14.1)\n",
      "Requirement already satisfied: scipy>=0.17.0 in c:\\python36\\lib\\site-packages (from scikit-learn->sklearn) (1.4.1)\n",
      "Requirement already satisfied: chart_studio in c:\\python36\\lib\\site-packages (1.0.0)\n",
      "Requirement already satisfied: retrying>=1.3.3 in c:\\python36\\lib\\site-packages (from chart_studio) (1.3.3)\n",
      "Requirement already satisfied: six in c:\\python36\\lib\\site-packages (from chart_studio) (1.14.0)\n",
      "Requirement already satisfied: requests in c:\\python36\\lib\\site-packages\\requests-2.21.0-py3.6.egg (from chart_studio) (2.21.0)\n",
      "Requirement already satisfied: plotly in c:\\python36\\lib\\site-packages (from chart_studio) (4.5.1)\n",
      "Requirement already satisfied: chardet<3.1.0,>=3.0.2 in c:\\python36\\lib\\site-packages\\chardet-3.0.4-py3.6.egg (from requests->chart_studio) (3.0.4)\n",
      "Requirement already satisfied: idna<2.9,>=2.5 in c:\\python36\\lib\\site-packages\\idna-2.8-py3.6.egg (from requests->chart_studio) (2.8)\n",
      "Requirement already satisfied: urllib3<1.25,>=1.21.1 in c:\\python36\\lib\\site-packages\\urllib3-1.24.1-py3.6.egg (from requests->chart_studio) (1.24.1)\n",
      "Requirement already satisfied: certifi>=2017.4.17 in c:\\python36\\lib\\site-packages\\certifi-2018.11.29-py3.6.egg (from requests->chart_studio) (2018.11.29)\n"
     ]
    }
   ],
   "source": [
    "#Install these libraries if you dont have\n",
    "!pip install xgboost\n",
    "!pip install graphviz\n",
    "\n",
    "!pip install pydotplus\n",
    "!pip install pandas\n",
    "!pip install matplotlib\n",
    "!pip install seaborn\n",
    "!pip install sklearn\n",
    "!pip install chart_studio"
   ]
  },
  {
   "cell_type": "code",
   "execution_count": 3,
   "metadata": {},
   "outputs": [
    {
     "name": "stderr",
     "output_type": "stream",
     "text": [
      "Using TensorFlow backend.\n"
     ]
    }
   ],
   "source": [
    "import numpy as np\n",
    "import pandas as pd\n",
    "\n",
    "from sklearn import decomposition\n",
    "from sklearn.model_selection import train_test_split\n",
    "from sklearn import metrics\n",
    "from sklearn.metrics import classification_report,confusion_matrix\n",
    "from sklearn.neighbors import KNeighborsClassifier \n",
    "import matplotlib.pyplot as plt\n",
    "import seaborn as sns\n",
    "from keras.models import Sequential\n",
    "from keras.layers import Dense"
   ]
  },
  {
   "cell_type": "code",
   "execution_count": 4,
   "metadata": {},
   "outputs": [],
   "source": [
    "#Set Seed\n",
    "np.random.seed(2020)"
   ]
  },
  {
   "cell_type": "markdown",
   "metadata": {},
   "source": [
    "# Reading the data"
   ]
  },
  {
   "cell_type": "code",
   "execution_count": 5,
   "metadata": {},
   "outputs": [
    {
     "data": {
      "text/plain": [
       "(60600, 18)"
      ]
     },
     "execution_count": 5,
     "metadata": {},
     "output_type": "execute_result"
    }
   ],
   "source": [
    "gpu_usage =pd.read_csv(\"sgemm_product.csv\")\n",
    "remove_n = 181000\n",
    "df = pd.DataFrame(gpu_usage)\n",
    "drop_indices = np.random.choice(df.index, remove_n, replace=False)\n",
    "gpu_usage = df.drop(drop_indices)\n",
    "gpu_usage.shape"
   ]
  },
  {
   "cell_type": "code",
   "execution_count": 6,
   "metadata": {},
   "outputs": [
    {
     "name": "stdout",
     "output_type": "stream",
     "text": [
      "<class 'pandas.core.frame.DataFrame'>\n",
      "Int64Index: 60600 entries, 6 to 241598\n",
      "Data columns (total 18 columns):\n",
      " #   Column     Non-Null Count  Dtype  \n",
      "---  ------     --------------  -----  \n",
      " 0   MWG        60600 non-null  int64  \n",
      " 1   NWG        60600 non-null  int64  \n",
      " 2   KWG        60600 non-null  int64  \n",
      " 3   MDIMC      60600 non-null  int64  \n",
      " 4   NDIMC      60600 non-null  int64  \n",
      " 5   MDIMA      60600 non-null  int64  \n",
      " 6   NDIMB      60600 non-null  int64  \n",
      " 7   KWI        60600 non-null  int64  \n",
      " 8   VWM        60600 non-null  int64  \n",
      " 9   VWN        60600 non-null  int64  \n",
      " 10  STRM       60600 non-null  int64  \n",
      " 11  STRN       60600 non-null  int64  \n",
      " 12  SA         60600 non-null  int64  \n",
      " 13  SB         60600 non-null  int64  \n",
      " 14  Run1 (ms)  60600 non-null  float64\n",
      " 15  Run2 (ms)  60600 non-null  float64\n",
      " 16  Run3 (ms)  60600 non-null  float64\n",
      " 17  Run4 (ms)  60600 non-null  float64\n",
      "dtypes: float64(4), int64(14)\n",
      "memory usage: 8.8 MB\n"
     ]
    }
   ],
   "source": [
    "gpu_usage_1=gpu_usage\n",
    "gpu_usage_1.info()"
   ]
  },
  {
   "cell_type": "code",
   "execution_count": 7,
   "metadata": {},
   "outputs": [
    {
     "data": {
      "text/html": [
       "<div>\n",
       "<style scoped>\n",
       "    .dataframe tbody tr th:only-of-type {\n",
       "        vertical-align: middle;\n",
       "    }\n",
       "\n",
       "    .dataframe tbody tr th {\n",
       "        vertical-align: top;\n",
       "    }\n",
       "\n",
       "    .dataframe thead th {\n",
       "        text-align: right;\n",
       "    }\n",
       "</style>\n",
       "<table border=\"1\" class=\"dataframe\">\n",
       "  <thead>\n",
       "    <tr style=\"text-align: right;\">\n",
       "      <th></th>\n",
       "      <th>MWG</th>\n",
       "      <th>NWG</th>\n",
       "      <th>KWG</th>\n",
       "      <th>MDIMC</th>\n",
       "      <th>NDIMC</th>\n",
       "      <th>MDIMA</th>\n",
       "      <th>NDIMB</th>\n",
       "      <th>KWI</th>\n",
       "      <th>VWM</th>\n",
       "      <th>VWN</th>\n",
       "      <th>STRM</th>\n",
       "      <th>STRN</th>\n",
       "      <th>SA</th>\n",
       "      <th>SB</th>\n",
       "      <th>Run1 (ms)</th>\n",
       "      <th>Run2 (ms)</th>\n",
       "      <th>Run3 (ms)</th>\n",
       "      <th>Run4 (ms)</th>\n",
       "      <th>average_gpu_runtime</th>\n",
       "    </tr>\n",
       "  </thead>\n",
       "  <tbody>\n",
       "    <tr>\n",
       "      <th>6</th>\n",
       "      <td>16</td>\n",
       "      <td>16</td>\n",
       "      <td>16</td>\n",
       "      <td>8</td>\n",
       "      <td>8</td>\n",
       "      <td>8</td>\n",
       "      <td>8</td>\n",
       "      <td>2</td>\n",
       "      <td>1</td>\n",
       "      <td>1</td>\n",
       "      <td>0</td>\n",
       "      <td>1</td>\n",
       "      <td>1</td>\n",
       "      <td>0</td>\n",
       "      <td>83.31</td>\n",
       "      <td>82.86</td>\n",
       "      <td>88.60</td>\n",
       "      <td>82.97</td>\n",
       "      <td>84.4350</td>\n",
       "    </tr>\n",
       "    <tr>\n",
       "      <th>9</th>\n",
       "      <td>16</td>\n",
       "      <td>16</td>\n",
       "      <td>16</td>\n",
       "      <td>8</td>\n",
       "      <td>8</td>\n",
       "      <td>8</td>\n",
       "      <td>8</td>\n",
       "      <td>2</td>\n",
       "      <td>1</td>\n",
       "      <td>1</td>\n",
       "      <td>1</td>\n",
       "      <td>0</td>\n",
       "      <td>0</td>\n",
       "      <td>1</td>\n",
       "      <td>85.76</td>\n",
       "      <td>85.30</td>\n",
       "      <td>86.96</td>\n",
       "      <td>87.19</td>\n",
       "      <td>86.3025</td>\n",
       "    </tr>\n",
       "    <tr>\n",
       "      <th>13</th>\n",
       "      <td>16</td>\n",
       "      <td>16</td>\n",
       "      <td>16</td>\n",
       "      <td>8</td>\n",
       "      <td>8</td>\n",
       "      <td>8</td>\n",
       "      <td>8</td>\n",
       "      <td>2</td>\n",
       "      <td>1</td>\n",
       "      <td>1</td>\n",
       "      <td>1</td>\n",
       "      <td>1</td>\n",
       "      <td>0</td>\n",
       "      <td>1</td>\n",
       "      <td>91.28</td>\n",
       "      <td>92.42</td>\n",
       "      <td>92.42</td>\n",
       "      <td>93.40</td>\n",
       "      <td>92.3800</td>\n",
       "    </tr>\n",
       "    <tr>\n",
       "      <th>20</th>\n",
       "      <td>16</td>\n",
       "      <td>16</td>\n",
       "      <td>16</td>\n",
       "      <td>8</td>\n",
       "      <td>8</td>\n",
       "      <td>8</td>\n",
       "      <td>8</td>\n",
       "      <td>2</td>\n",
       "      <td>1</td>\n",
       "      <td>2</td>\n",
       "      <td>0</td>\n",
       "      <td>1</td>\n",
       "      <td>0</td>\n",
       "      <td>0</td>\n",
       "      <td>76.78</td>\n",
       "      <td>76.71</td>\n",
       "      <td>77.83</td>\n",
       "      <td>77.79</td>\n",
       "      <td>77.2775</td>\n",
       "    </tr>\n",
       "    <tr>\n",
       "      <th>21</th>\n",
       "      <td>16</td>\n",
       "      <td>16</td>\n",
       "      <td>16</td>\n",
       "      <td>8</td>\n",
       "      <td>8</td>\n",
       "      <td>8</td>\n",
       "      <td>8</td>\n",
       "      <td>2</td>\n",
       "      <td>1</td>\n",
       "      <td>2</td>\n",
       "      <td>0</td>\n",
       "      <td>1</td>\n",
       "      <td>0</td>\n",
       "      <td>1</td>\n",
       "      <td>65.37</td>\n",
       "      <td>64.81</td>\n",
       "      <td>65.77</td>\n",
       "      <td>65.78</td>\n",
       "      <td>65.4325</td>\n",
       "    </tr>\n",
       "    <tr>\n",
       "      <th>27</th>\n",
       "      <td>16</td>\n",
       "      <td>16</td>\n",
       "      <td>16</td>\n",
       "      <td>8</td>\n",
       "      <td>8</td>\n",
       "      <td>8</td>\n",
       "      <td>8</td>\n",
       "      <td>2</td>\n",
       "      <td>1</td>\n",
       "      <td>2</td>\n",
       "      <td>1</td>\n",
       "      <td>0</td>\n",
       "      <td>1</td>\n",
       "      <td>1</td>\n",
       "      <td>76.73</td>\n",
       "      <td>74.15</td>\n",
       "      <td>76.63</td>\n",
       "      <td>74.84</td>\n",
       "      <td>75.5875</td>\n",
       "    </tr>\n",
       "    <tr>\n",
       "      <th>31</th>\n",
       "      <td>16</td>\n",
       "      <td>16</td>\n",
       "      <td>16</td>\n",
       "      <td>8</td>\n",
       "      <td>8</td>\n",
       "      <td>8</td>\n",
       "      <td>8</td>\n",
       "      <td>2</td>\n",
       "      <td>1</td>\n",
       "      <td>2</td>\n",
       "      <td>1</td>\n",
       "      <td>1</td>\n",
       "      <td>1</td>\n",
       "      <td>1</td>\n",
       "      <td>75.30</td>\n",
       "      <td>74.06</td>\n",
       "      <td>76.74</td>\n",
       "      <td>77.70</td>\n",
       "      <td>75.9500</td>\n",
       "    </tr>\n",
       "    <tr>\n",
       "      <th>38</th>\n",
       "      <td>16</td>\n",
       "      <td>16</td>\n",
       "      <td>16</td>\n",
       "      <td>8</td>\n",
       "      <td>8</td>\n",
       "      <td>8</td>\n",
       "      <td>8</td>\n",
       "      <td>2</td>\n",
       "      <td>2</td>\n",
       "      <td>1</td>\n",
       "      <td>0</td>\n",
       "      <td>1</td>\n",
       "      <td>1</td>\n",
       "      <td>0</td>\n",
       "      <td>63.68</td>\n",
       "      <td>63.10</td>\n",
       "      <td>64.26</td>\n",
       "      <td>67.56</td>\n",
       "      <td>64.6500</td>\n",
       "    </tr>\n",
       "    <tr>\n",
       "      <th>42</th>\n",
       "      <td>16</td>\n",
       "      <td>16</td>\n",
       "      <td>16</td>\n",
       "      <td>8</td>\n",
       "      <td>8</td>\n",
       "      <td>8</td>\n",
       "      <td>8</td>\n",
       "      <td>2</td>\n",
       "      <td>2</td>\n",
       "      <td>1</td>\n",
       "      <td>1</td>\n",
       "      <td>0</td>\n",
       "      <td>1</td>\n",
       "      <td>0</td>\n",
       "      <td>62.38</td>\n",
       "      <td>60.36</td>\n",
       "      <td>62.70</td>\n",
       "      <td>69.10</td>\n",
       "      <td>63.6350</td>\n",
       "    </tr>\n",
       "    <tr>\n",
       "      <th>44</th>\n",
       "      <td>16</td>\n",
       "      <td>16</td>\n",
       "      <td>16</td>\n",
       "      <td>8</td>\n",
       "      <td>8</td>\n",
       "      <td>8</td>\n",
       "      <td>8</td>\n",
       "      <td>2</td>\n",
       "      <td>2</td>\n",
       "      <td>1</td>\n",
       "      <td>1</td>\n",
       "      <td>1</td>\n",
       "      <td>0</td>\n",
       "      <td>0</td>\n",
       "      <td>74.73</td>\n",
       "      <td>74.77</td>\n",
       "      <td>76.03</td>\n",
       "      <td>79.50</td>\n",
       "      <td>76.2575</td>\n",
       "    </tr>\n",
       "  </tbody>\n",
       "</table>\n",
       "</div>"
      ],
      "text/plain": [
       "    MWG  NWG  KWG  MDIMC  NDIMC  MDIMA  NDIMB  KWI  VWM  VWN  STRM  STRN  SA  \\\n",
       "6    16   16   16      8      8      8      8    2    1    1     0     1   1   \n",
       "9    16   16   16      8      8      8      8    2    1    1     1     0   0   \n",
       "13   16   16   16      8      8      8      8    2    1    1     1     1   0   \n",
       "20   16   16   16      8      8      8      8    2    1    2     0     1   0   \n",
       "21   16   16   16      8      8      8      8    2    1    2     0     1   0   \n",
       "27   16   16   16      8      8      8      8    2    1    2     1     0   1   \n",
       "31   16   16   16      8      8      8      8    2    1    2     1     1   1   \n",
       "38   16   16   16      8      8      8      8    2    2    1     0     1   1   \n",
       "42   16   16   16      8      8      8      8    2    2    1     1     0   1   \n",
       "44   16   16   16      8      8      8      8    2    2    1     1     1   0   \n",
       "\n",
       "    SB  Run1 (ms)  Run2 (ms)  Run3 (ms)  Run4 (ms)  average_gpu_runtime  \n",
       "6    0      83.31      82.86      88.60      82.97              84.4350  \n",
       "9    1      85.76      85.30      86.96      87.19              86.3025  \n",
       "13   1      91.28      92.42      92.42      93.40              92.3800  \n",
       "20   0      76.78      76.71      77.83      77.79              77.2775  \n",
       "21   1      65.37      64.81      65.77      65.78              65.4325  \n",
       "27   1      76.73      74.15      76.63      74.84              75.5875  \n",
       "31   1      75.30      74.06      76.74      77.70              75.9500  \n",
       "38   0      63.68      63.10      64.26      67.56              64.6500  \n",
       "42   0      62.38      60.36      62.70      69.10              63.6350  \n",
       "44   0      74.73      74.77      76.03      79.50              76.2575  "
      ]
     },
     "execution_count": 7,
     "metadata": {},
     "output_type": "execute_result"
    }
   ],
   "source": [
    "#Calculate the average and setting the average_gpu_usage column\n",
    "gpu_usage['average_gpu_runtime'] = gpu_usage[['Run1 (ms)', 'Run2 (ms)', 'Run3 (ms)', 'Run4 (ms)']].mean(axis = 1)\n",
    "gpu_usage.head(10)"
   ]
  },
  {
   "cell_type": "code",
   "execution_count": 8,
   "metadata": {},
   "outputs": [
    {
     "name": "stdout",
     "output_type": "stream",
     "text": [
      "<class 'pandas.core.frame.DataFrame'>\n",
      "Int64Index: 60600 entries, 6 to 241598\n",
      "Data columns (total 19 columns):\n",
      " #   Column               Non-Null Count  Dtype  \n",
      "---  ------               --------------  -----  \n",
      " 0   MWG                  60600 non-null  int64  \n",
      " 1   NWG                  60600 non-null  int64  \n",
      " 2   KWG                  60600 non-null  int64  \n",
      " 3   MDIMC                60600 non-null  int64  \n",
      " 4   NDIMC                60600 non-null  int64  \n",
      " 5   MDIMA                60600 non-null  int64  \n",
      " 6   NDIMB                60600 non-null  int64  \n",
      " 7   KWI                  60600 non-null  int64  \n",
      " 8   VWM                  60600 non-null  int64  \n",
      " 9   VWN                  60600 non-null  int64  \n",
      " 10  STRM                 60600 non-null  int64  \n",
      " 11  STRN                 60600 non-null  int64  \n",
      " 12  SA                   60600 non-null  int64  \n",
      " 13  SB                   60600 non-null  int64  \n",
      " 14  Run1 (ms)            60600 non-null  float64\n",
      " 15  Run2 (ms)            60600 non-null  float64\n",
      " 16  Run3 (ms)            60600 non-null  float64\n",
      " 17  Run4 (ms)            60600 non-null  float64\n",
      " 18  average_gpu_runtime  60600 non-null  float64\n",
      "dtypes: float64(5), int64(14)\n",
      "memory usage: 9.2 MB\n"
     ]
    }
   ],
   "source": [
    "gpu_usage.info()"
   ]
  },
  {
   "cell_type": "code",
   "execution_count": 9,
   "metadata": {},
   "outputs": [
    {
     "data": {
      "text/html": [
       "<div>\n",
       "<style scoped>\n",
       "    .dataframe tbody tr th:only-of-type {\n",
       "        vertical-align: middle;\n",
       "    }\n",
       "\n",
       "    .dataframe tbody tr th {\n",
       "        vertical-align: top;\n",
       "    }\n",
       "\n",
       "    .dataframe thead th {\n",
       "        text-align: right;\n",
       "    }\n",
       "</style>\n",
       "<table border=\"1\" class=\"dataframe\">\n",
       "  <thead>\n",
       "    <tr style=\"text-align: right;\">\n",
       "      <th></th>\n",
       "      <th>MWG</th>\n",
       "      <th>NWG</th>\n",
       "      <th>KWG</th>\n",
       "      <th>MDIMC</th>\n",
       "      <th>NDIMC</th>\n",
       "      <th>MDIMA</th>\n",
       "      <th>NDIMB</th>\n",
       "      <th>KWI</th>\n",
       "      <th>VWM</th>\n",
       "      <th>VWN</th>\n",
       "      <th>STRM</th>\n",
       "      <th>STRN</th>\n",
       "      <th>SA</th>\n",
       "      <th>SB</th>\n",
       "      <th>Run1 (ms)</th>\n",
       "      <th>Run2 (ms)</th>\n",
       "      <th>Run3 (ms)</th>\n",
       "      <th>Run4 (ms)</th>\n",
       "      <th>average_gpu_runtime</th>\n",
       "    </tr>\n",
       "  </thead>\n",
       "  <tbody>\n",
       "    <tr>\n",
       "      <th>count</th>\n",
       "      <td>60600.000000</td>\n",
       "      <td>60600.000000</td>\n",
       "      <td>60600.000000</td>\n",
       "      <td>60600.000000</td>\n",
       "      <td>60600.000000</td>\n",
       "      <td>60600.000000</td>\n",
       "      <td>60600.000000</td>\n",
       "      <td>60600.000000</td>\n",
       "      <td>60600.000000</td>\n",
       "      <td>60600.000000</td>\n",
       "      <td>60600.000000</td>\n",
       "      <td>60600.000000</td>\n",
       "      <td>60600.000000</td>\n",
       "      <td>60600.000000</td>\n",
       "      <td>60600.000000</td>\n",
       "      <td>60600.000000</td>\n",
       "      <td>60600.000000</td>\n",
       "      <td>60600.000000</td>\n",
       "      <td>60600.000000</td>\n",
       "    </tr>\n",
       "    <tr>\n",
       "      <th>mean</th>\n",
       "      <td>80.425875</td>\n",
       "      <td>80.678284</td>\n",
       "      <td>25.520000</td>\n",
       "      <td>13.923036</td>\n",
       "      <td>13.988119</td>\n",
       "      <td>17.391815</td>\n",
       "      <td>17.424158</td>\n",
       "      <td>5.000396</td>\n",
       "      <td>2.459241</td>\n",
       "      <td>2.446502</td>\n",
       "      <td>0.498911</td>\n",
       "      <td>0.498251</td>\n",
       "      <td>0.502954</td>\n",
       "      <td>0.499554</td>\n",
       "      <td>216.619880</td>\n",
       "      <td>216.550341</td>\n",
       "      <td>216.484744</td>\n",
       "      <td>216.498575</td>\n",
       "      <td>216.538385</td>\n",
       "    </tr>\n",
       "    <tr>\n",
       "      <th>std</th>\n",
       "      <td>42.455838</td>\n",
       "      <td>42.493932</td>\n",
       "      <td>7.854338</td>\n",
       "      <td>7.880116</td>\n",
       "      <td>7.900125</td>\n",
       "      <td>9.387198</td>\n",
       "      <td>9.399608</td>\n",
       "      <td>3.000025</td>\n",
       "      <td>1.954259</td>\n",
       "      <td>1.953479</td>\n",
       "      <td>0.500003</td>\n",
       "      <td>0.500001</td>\n",
       "      <td>0.499995</td>\n",
       "      <td>0.500004</td>\n",
       "      <td>366.320505</td>\n",
       "      <td>365.947998</td>\n",
       "      <td>365.828413</td>\n",
       "      <td>365.928583</td>\n",
       "      <td>366.000845</td>\n",
       "    </tr>\n",
       "    <tr>\n",
       "      <th>min</th>\n",
       "      <td>16.000000</td>\n",
       "      <td>16.000000</td>\n",
       "      <td>16.000000</td>\n",
       "      <td>8.000000</td>\n",
       "      <td>8.000000</td>\n",
       "      <td>8.000000</td>\n",
       "      <td>8.000000</td>\n",
       "      <td>2.000000</td>\n",
       "      <td>1.000000</td>\n",
       "      <td>1.000000</td>\n",
       "      <td>0.000000</td>\n",
       "      <td>0.000000</td>\n",
       "      <td>0.000000</td>\n",
       "      <td>0.000000</td>\n",
       "      <td>13.290000</td>\n",
       "      <td>13.360000</td>\n",
       "      <td>13.380000</td>\n",
       "      <td>13.650000</td>\n",
       "      <td>13.420000</td>\n",
       "    </tr>\n",
       "    <tr>\n",
       "      <th>25%</th>\n",
       "      <td>32.000000</td>\n",
       "      <td>32.000000</td>\n",
       "      <td>16.000000</td>\n",
       "      <td>8.000000</td>\n",
       "      <td>8.000000</td>\n",
       "      <td>8.000000</td>\n",
       "      <td>8.000000</td>\n",
       "      <td>2.000000</td>\n",
       "      <td>1.000000</td>\n",
       "      <td>1.000000</td>\n",
       "      <td>0.000000</td>\n",
       "      <td>0.000000</td>\n",
       "      <td>0.000000</td>\n",
       "      <td>0.000000</td>\n",
       "      <td>40.610000</td>\n",
       "      <td>40.650000</td>\n",
       "      <td>40.620000</td>\n",
       "      <td>40.590000</td>\n",
       "      <td>40.612500</td>\n",
       "    </tr>\n",
       "    <tr>\n",
       "      <th>50%</th>\n",
       "      <td>64.000000</td>\n",
       "      <td>64.000000</td>\n",
       "      <td>32.000000</td>\n",
       "      <td>8.000000</td>\n",
       "      <td>8.000000</td>\n",
       "      <td>16.000000</td>\n",
       "      <td>16.000000</td>\n",
       "      <td>8.000000</td>\n",
       "      <td>2.000000</td>\n",
       "      <td>2.000000</td>\n",
       "      <td>0.000000</td>\n",
       "      <td>0.000000</td>\n",
       "      <td>1.000000</td>\n",
       "      <td>0.000000</td>\n",
       "      <td>69.650000</td>\n",
       "      <td>69.760000</td>\n",
       "      <td>69.585000</td>\n",
       "      <td>69.680000</td>\n",
       "      <td>69.618750</td>\n",
       "    </tr>\n",
       "    <tr>\n",
       "      <th>75%</th>\n",
       "      <td>128.000000</td>\n",
       "      <td>128.000000</td>\n",
       "      <td>32.000000</td>\n",
       "      <td>16.000000</td>\n",
       "      <td>16.000000</td>\n",
       "      <td>32.000000</td>\n",
       "      <td>32.000000</td>\n",
       "      <td>8.000000</td>\n",
       "      <td>4.000000</td>\n",
       "      <td>4.000000</td>\n",
       "      <td>1.000000</td>\n",
       "      <td>1.000000</td>\n",
       "      <td>1.000000</td>\n",
       "      <td>1.000000</td>\n",
       "      <td>226.672500</td>\n",
       "      <td>226.742500</td>\n",
       "      <td>226.797500</td>\n",
       "      <td>226.772500</td>\n",
       "      <td>226.749375</td>\n",
       "    </tr>\n",
       "    <tr>\n",
       "      <th>max</th>\n",
       "      <td>128.000000</td>\n",
       "      <td>128.000000</td>\n",
       "      <td>32.000000</td>\n",
       "      <td>32.000000</td>\n",
       "      <td>32.000000</td>\n",
       "      <td>32.000000</td>\n",
       "      <td>32.000000</td>\n",
       "      <td>8.000000</td>\n",
       "      <td>8.000000</td>\n",
       "      <td>8.000000</td>\n",
       "      <td>1.000000</td>\n",
       "      <td>1.000000</td>\n",
       "      <td>1.000000</td>\n",
       "      <td>1.000000</td>\n",
       "      <td>3256.030000</td>\n",
       "      <td>3271.650000</td>\n",
       "      <td>3283.590000</td>\n",
       "      <td>3279.910000</td>\n",
       "      <td>3257.582500</td>\n",
       "    </tr>\n",
       "  </tbody>\n",
       "</table>\n",
       "</div>"
      ],
      "text/plain": [
       "                MWG           NWG           KWG         MDIMC         NDIMC  \\\n",
       "count  60600.000000  60600.000000  60600.000000  60600.000000  60600.000000   \n",
       "mean      80.425875     80.678284     25.520000     13.923036     13.988119   \n",
       "std       42.455838     42.493932      7.854338      7.880116      7.900125   \n",
       "min       16.000000     16.000000     16.000000      8.000000      8.000000   \n",
       "25%       32.000000     32.000000     16.000000      8.000000      8.000000   \n",
       "50%       64.000000     64.000000     32.000000      8.000000      8.000000   \n",
       "75%      128.000000    128.000000     32.000000     16.000000     16.000000   \n",
       "max      128.000000    128.000000     32.000000     32.000000     32.000000   \n",
       "\n",
       "              MDIMA         NDIMB           KWI           VWM           VWN  \\\n",
       "count  60600.000000  60600.000000  60600.000000  60600.000000  60600.000000   \n",
       "mean      17.391815     17.424158      5.000396      2.459241      2.446502   \n",
       "std        9.387198      9.399608      3.000025      1.954259      1.953479   \n",
       "min        8.000000      8.000000      2.000000      1.000000      1.000000   \n",
       "25%        8.000000      8.000000      2.000000      1.000000      1.000000   \n",
       "50%       16.000000     16.000000      8.000000      2.000000      2.000000   \n",
       "75%       32.000000     32.000000      8.000000      4.000000      4.000000   \n",
       "max       32.000000     32.000000      8.000000      8.000000      8.000000   \n",
       "\n",
       "               STRM          STRN            SA            SB     Run1 (ms)  \\\n",
       "count  60600.000000  60600.000000  60600.000000  60600.000000  60600.000000   \n",
       "mean       0.498911      0.498251      0.502954      0.499554    216.619880   \n",
       "std        0.500003      0.500001      0.499995      0.500004    366.320505   \n",
       "min        0.000000      0.000000      0.000000      0.000000     13.290000   \n",
       "25%        0.000000      0.000000      0.000000      0.000000     40.610000   \n",
       "50%        0.000000      0.000000      1.000000      0.000000     69.650000   \n",
       "75%        1.000000      1.000000      1.000000      1.000000    226.672500   \n",
       "max        1.000000      1.000000      1.000000      1.000000   3256.030000   \n",
       "\n",
       "          Run2 (ms)     Run3 (ms)     Run4 (ms)  average_gpu_runtime  \n",
       "count  60600.000000  60600.000000  60600.000000         60600.000000  \n",
       "mean     216.550341    216.484744    216.498575           216.538385  \n",
       "std      365.947998    365.828413    365.928583           366.000845  \n",
       "min       13.360000     13.380000     13.650000            13.420000  \n",
       "25%       40.650000     40.620000     40.590000            40.612500  \n",
       "50%       69.760000     69.585000     69.680000            69.618750  \n",
       "75%      226.742500    226.797500    226.772500           226.749375  \n",
       "max     3271.650000   3283.590000   3279.910000          3257.582500  "
      ]
     },
     "execution_count": 9,
     "metadata": {},
     "output_type": "execute_result"
    }
   ],
   "source": [
    "gpu_usage.describe()"
   ]
  },
  {
   "cell_type": "code",
   "execution_count": 10,
   "metadata": {},
   "outputs": [
    {
     "data": {
      "text/plain": [
       "(60600, 19)"
      ]
     },
     "execution_count": 10,
     "metadata": {},
     "output_type": "execute_result"
    }
   ],
   "source": [
    "gpu_usage.shape"
   ]
  },
  {
   "cell_type": "markdown",
   "metadata": {},
   "source": [
    "# training and test split"
   ]
  },
  {
   "cell_type": "code",
   "execution_count": 11,
   "metadata": {},
   "outputs": [
    {
     "data": {
      "text/plain": [
       "Text(0.5, 1.0, 'Average gpu runtime distribution')"
      ]
     },
     "execution_count": 11,
     "metadata": {},
     "output_type": "execute_result"
    },
    {
     "data": {
      "image/png": "[encoded data removed]",
      "text/plain": [
       "<Figure size 864x576 with 1 Axes>"
      ]
     },
     "metadata": {
      "needs_background": "light"
     },
     "output_type": "display_data"
    }
   ],
   "source": [
    "#Visualiztion\n",
    "# Find outliers\n",
    "sorted_average_gpu_runtime = gpu_usage.sort_values('average_gpu_runtime',ascending=False)\n",
    "#print(\"The number of the 0,1% top values of average gpu usage' load is\",\n",
    "#      len(sorted_average_gpu_runtime.head(len(sorted_average_gpu_runtime)//1000)),\"and they have average gpu runtime higher than\",\n",
    "#      sorted_average_gpu_runtime.average_gpu_runtime[19])\n",
    "\n",
    "# boxplot average_gpu_runtime\n",
    "plt.figure(figsize=(12,8))\n",
    "sns.boxplot(x=\"average_gpu_runtime\", data=gpu_usage)\n",
    "plt.xlabel('Average gpu runtime', fontsize=12)\n",
    "plt.title(\"Average gpu runtime distribution\", fontsize=15)"
   ]
  },
  {
   "cell_type": "code",
   "execution_count": 12,
   "metadata": {},
   "outputs": [
    {
     "name": "stdout",
     "output_type": "stream",
     "text": [
      "<class 'pandas.core.frame.DataFrame'>\n",
      "Int64Index: 60487 entries, 6 to 241598\n",
      "Data columns (total 19 columns):\n",
      " #   Column               Non-Null Count  Dtype  \n",
      "---  ------               --------------  -----  \n",
      " 0   MWG                  60487 non-null  int64  \n",
      " 1   NWG                  60487 non-null  int64  \n",
      " 2   KWG                  60487 non-null  int64  \n",
      " 3   MDIMC                60487 non-null  int64  \n",
      " 4   NDIMC                60487 non-null  int64  \n",
      " 5   MDIMA                60487 non-null  int64  \n",
      " 6   NDIMB                60487 non-null  int64  \n",
      " 7   KWI                  60487 non-null  int64  \n",
      " 8   VWM                  60487 non-null  int64  \n",
      " 9   VWN                  60487 non-null  int64  \n",
      " 10  STRM                 60487 non-null  int64  \n",
      " 11  STRN                 60487 non-null  int64  \n",
      " 12  SA                   60487 non-null  int64  \n",
      " 13  SB                   60487 non-null  int64  \n",
      " 14  Run1 (ms)            60487 non-null  float64\n",
      " 15  Run2 (ms)            60487 non-null  float64\n",
      " 16  Run3 (ms)            60487 non-null  float64\n",
      " 17  Run4 (ms)            60487 non-null  float64\n",
      " 18  average_gpu_runtime  60487 non-null  float64\n",
      "dtypes: float64(5), int64(14)\n",
      "memory usage: 9.2 MB\n"
     ]
    }
   ],
   "source": [
    "# Outliers removal\n",
    "gpu_usage_a = gpu_usage.drop(gpu_usage[(gpu_usage.average_gpu_runtime>2500)|(gpu_usage.average_gpu_runtime<0)].index)\n",
    "gpu_usage_a.info()"
   ]
  },
  {
   "cell_type": "code",
   "execution_count": 13,
   "metadata": {},
   "outputs": [
    {
     "name": "stdout",
     "output_type": "stream",
     "text": [
      "<class 'pandas.core.frame.DataFrame'>\n",
      "Int64Index: 60487 entries, 6 to 241598\n",
      "Data columns (total 15 columns):\n",
      " #   Column               Non-Null Count  Dtype  \n",
      "---  ------               --------------  -----  \n",
      " 0   MWG                  60487 non-null  int64  \n",
      " 1   NWG                  60487 non-null  int64  \n",
      " 2   KWG                  60487 non-null  int64  \n",
      " 3   MDIMC                60487 non-null  int64  \n",
      " 4   NDIMC                60487 non-null  int64  \n",
      " 5   MDIMA                60487 non-null  int64  \n",
      " 6   NDIMB                60487 non-null  int64  \n",
      " 7   KWI                  60487 non-null  int64  \n",
      " 8   VWM                  60487 non-null  int64  \n",
      " 9   VWN                  60487 non-null  int64  \n",
      " 10  STRM                 60487 non-null  int64  \n",
      " 11  STRN                 60487 non-null  int64  \n",
      " 12  SA                   60487 non-null  int64  \n",
      " 13  SB                   60487 non-null  int64  \n",
      " 14  average_gpu_runtime  60487 non-null  float64\n",
      "dtypes: float64(1), int64(14)\n",
      "memory usage: 7.4 MB\n"
     ]
    }
   ],
   "source": [
    "gpu_usage_a = gpu_usage_a.drop(\"Run1 (ms)\", axis= 1)\n",
    "gpu_usage_a = gpu_usage_a.drop(\"Run2 (ms)\", axis= 1)\n",
    "gpu_usage_a = gpu_usage_a.drop(\"Run3 (ms)\", axis= 1)\n",
    "gpu_usage_a = gpu_usage_a.drop(\"Run4 (ms)\", axis= 1)\n",
    "gpu_usage_a.info()"
   ]
  },
  {
   "cell_type": "code",
   "execution_count": 14,
   "metadata": {},
   "outputs": [],
   "source": [
    "gpu_usage_a['log_average_gpu_runtime'] = np.log(gpu_usage_a.average_gpu_runtime)"
   ]
  },
  {
   "cell_type": "code",
   "execution_count": 15,
   "metadata": {},
   "outputs": [
    {
     "data": {
      "text/html": [
       "<div>\n",
       "<style scoped>\n",
       "    .dataframe tbody tr th:only-of-type {\n",
       "        vertical-align: middle;\n",
       "    }\n",
       "\n",
       "    .dataframe tbody tr th {\n",
       "        vertical-align: top;\n",
       "    }\n",
       "\n",
       "    .dataframe thead th {\n",
       "        text-align: right;\n",
       "    }\n",
       "</style>\n",
       "<table border=\"1\" class=\"dataframe\">\n",
       "  <thead>\n",
       "    <tr style=\"text-align: right;\">\n",
       "      <th></th>\n",
       "      <th>MWG</th>\n",
       "      <th>NWG</th>\n",
       "      <th>KWG</th>\n",
       "      <th>MDIMC</th>\n",
       "      <th>NDIMC</th>\n",
       "      <th>MDIMA</th>\n",
       "      <th>NDIMB</th>\n",
       "      <th>KWI</th>\n",
       "      <th>VWM</th>\n",
       "      <th>VWN</th>\n",
       "      <th>STRM</th>\n",
       "      <th>STRN</th>\n",
       "      <th>SA</th>\n",
       "      <th>SB</th>\n",
       "      <th>average_gpu_runtime</th>\n",
       "      <th>log_average_gpu_runtime</th>\n",
       "    </tr>\n",
       "  </thead>\n",
       "  <tbody>\n",
       "    <tr>\n",
       "      <th>MWG</th>\n",
       "      <td>1.000000</td>\n",
       "      <td>0.000699</td>\n",
       "      <td>0.006878</td>\n",
       "      <td>0.106021</td>\n",
       "      <td>-0.007320</td>\n",
       "      <td>0.160282</td>\n",
       "      <td>0.013172</td>\n",
       "      <td>-0.008551</td>\n",
       "      <td>0.354453</td>\n",
       "      <td>0.003137</td>\n",
       "      <td>-0.005119</td>\n",
       "      <td>-0.002926</td>\n",
       "      <td>-0.001964</td>\n",
       "      <td>-0.003480</td>\n",
       "      <td>0.360678</td>\n",
       "      <td>0.457656</td>\n",
       "    </tr>\n",
       "    <tr>\n",
       "      <th>NWG</th>\n",
       "      <td>0.000699</td>\n",
       "      <td>1.000000</td>\n",
       "      <td>0.008874</td>\n",
       "      <td>-0.001960</td>\n",
       "      <td>0.107703</td>\n",
       "      <td>0.013042</td>\n",
       "      <td>0.158994</td>\n",
       "      <td>-0.005073</td>\n",
       "      <td>-0.006136</td>\n",
       "      <td>0.355350</td>\n",
       "      <td>-0.002437</td>\n",
       "      <td>0.000025</td>\n",
       "      <td>-0.007129</td>\n",
       "      <td>-0.006474</td>\n",
       "      <td>0.319918</td>\n",
       "      <td>0.341122</td>\n",
       "    </tr>\n",
       "    <tr>\n",
       "      <th>KWG</th>\n",
       "      <td>0.006878</td>\n",
       "      <td>0.008874</td>\n",
       "      <td>1.000000</td>\n",
       "      <td>0.149484</td>\n",
       "      <td>0.154424</td>\n",
       "      <td>-0.034312</td>\n",
       "      <td>-0.039266</td>\n",
       "      <td>-0.006973</td>\n",
       "      <td>-0.016338</td>\n",
       "      <td>-0.015940</td>\n",
       "      <td>0.001990</td>\n",
       "      <td>0.003264</td>\n",
       "      <td>-0.004700</td>\n",
       "      <td>0.004419</td>\n",
       "      <td>-0.006681</td>\n",
       "      <td>-0.028682</td>\n",
       "    </tr>\n",
       "    <tr>\n",
       "      <th>MDIMC</th>\n",
       "      <td>0.106021</td>\n",
       "      <td>-0.001960</td>\n",
       "      <td>0.149484</td>\n",
       "      <td>1.000000</td>\n",
       "      <td>-0.215026</td>\n",
       "      <td>0.195893</td>\n",
       "      <td>0.079626</td>\n",
       "      <td>-0.001224</td>\n",
       "      <td>-0.135971</td>\n",
       "      <td>0.014643</td>\n",
       "      <td>-0.002982</td>\n",
       "      <td>-0.001209</td>\n",
       "      <td>0.004585</td>\n",
       "      <td>0.006826</td>\n",
       "      <td>-0.224736</td>\n",
       "      <td>-0.251496</td>\n",
       "    </tr>\n",
       "    <tr>\n",
       "      <th>NDIMC</th>\n",
       "      <td>-0.007320</td>\n",
       "      <td>0.107703</td>\n",
       "      <td>0.154424</td>\n",
       "      <td>-0.215026</td>\n",
       "      <td>1.000000</td>\n",
       "      <td>0.078758</td>\n",
       "      <td>0.193264</td>\n",
       "      <td>-0.001962</td>\n",
       "      <td>0.013267</td>\n",
       "      <td>-0.132051</td>\n",
       "      <td>0.000473</td>\n",
       "      <td>0.001251</td>\n",
       "      <td>0.000373</td>\n",
       "      <td>0.002899</td>\n",
       "      <td>-0.217065</td>\n",
       "      <td>-0.241641</td>\n",
       "    </tr>\n",
       "    <tr>\n",
       "      <th>MDIMA</th>\n",
       "      <td>0.160282</td>\n",
       "      <td>0.013042</td>\n",
       "      <td>-0.034312</td>\n",
       "      <td>0.195893</td>\n",
       "      <td>0.078758</td>\n",
       "      <td>1.000000</td>\n",
       "      <td>0.085457</td>\n",
       "      <td>0.004262</td>\n",
       "      <td>-0.204189</td>\n",
       "      <td>-0.019946</td>\n",
       "      <td>-0.001798</td>\n",
       "      <td>-0.003541</td>\n",
       "      <td>-0.000191</td>\n",
       "      <td>0.000085</td>\n",
       "      <td>-0.008178</td>\n",
       "      <td>-0.023883</td>\n",
       "    </tr>\n",
       "    <tr>\n",
       "      <th>NDIMB</th>\n",
       "      <td>0.013172</td>\n",
       "      <td>0.158994</td>\n",
       "      <td>-0.039266</td>\n",
       "      <td>0.079626</td>\n",
       "      <td>0.193264</td>\n",
       "      <td>0.085457</td>\n",
       "      <td>1.000000</td>\n",
       "      <td>0.001743</td>\n",
       "      <td>-0.016085</td>\n",
       "      <td>-0.200751</td>\n",
       "      <td>0.001884</td>\n",
       "      <td>0.000206</td>\n",
       "      <td>-0.001852</td>\n",
       "      <td>0.003626</td>\n",
       "      <td>-0.007781</td>\n",
       "      <td>-0.033009</td>\n",
       "    </tr>\n",
       "    <tr>\n",
       "      <th>KWI</th>\n",
       "      <td>-0.008551</td>\n",
       "      <td>-0.005073</td>\n",
       "      <td>-0.006973</td>\n",
       "      <td>-0.001224</td>\n",
       "      <td>-0.001962</td>\n",
       "      <td>0.004262</td>\n",
       "      <td>0.001743</td>\n",
       "      <td>1.000000</td>\n",
       "      <td>-0.001857</td>\n",
       "      <td>-0.002772</td>\n",
       "      <td>0.001601</td>\n",
       "      <td>0.009435</td>\n",
       "      <td>0.001345</td>\n",
       "      <td>0.003451</td>\n",
       "      <td>0.020837</td>\n",
       "      <td>-0.015536</td>\n",
       "    </tr>\n",
       "    <tr>\n",
       "      <th>VWM</th>\n",
       "      <td>0.354453</td>\n",
       "      <td>-0.006136</td>\n",
       "      <td>-0.016338</td>\n",
       "      <td>-0.135971</td>\n",
       "      <td>0.013267</td>\n",
       "      <td>-0.204189</td>\n",
       "      <td>-0.016085</td>\n",
       "      <td>-0.001857</td>\n",
       "      <td>1.000000</td>\n",
       "      <td>-0.008284</td>\n",
       "      <td>0.003338</td>\n",
       "      <td>0.002770</td>\n",
       "      <td>0.002337</td>\n",
       "      <td>-0.004180</td>\n",
       "      <td>0.168838</td>\n",
       "      <td>0.207622</td>\n",
       "    </tr>\n",
       "    <tr>\n",
       "      <th>VWN</th>\n",
       "      <td>0.003137</td>\n",
       "      <td>0.355350</td>\n",
       "      <td>-0.015940</td>\n",
       "      <td>0.014643</td>\n",
       "      <td>-0.132051</td>\n",
       "      <td>-0.019946</td>\n",
       "      <td>-0.200751</td>\n",
       "      <td>-0.002772</td>\n",
       "      <td>-0.008284</td>\n",
       "      <td>1.000000</td>\n",
       "      <td>-0.006082</td>\n",
       "      <td>-0.005660</td>\n",
       "      <td>-0.003896</td>\n",
       "      <td>-0.007846</td>\n",
       "      <td>0.145872</td>\n",
       "      <td>0.145051</td>\n",
       "    </tr>\n",
       "    <tr>\n",
       "      <th>STRM</th>\n",
       "      <td>-0.005119</td>\n",
       "      <td>-0.002437</td>\n",
       "      <td>0.001990</td>\n",
       "      <td>-0.002982</td>\n",
       "      <td>0.000473</td>\n",
       "      <td>-0.001798</td>\n",
       "      <td>0.001884</td>\n",
       "      <td>0.001601</td>\n",
       "      <td>0.003338</td>\n",
       "      <td>-0.006082</td>\n",
       "      <td>1.000000</td>\n",
       "      <td>-0.004223</td>\n",
       "      <td>-0.000868</td>\n",
       "      <td>-0.000683</td>\n",
       "      <td>-0.015297</td>\n",
       "      <td>-0.058807</td>\n",
       "    </tr>\n",
       "    <tr>\n",
       "      <th>STRN</th>\n",
       "      <td>-0.002926</td>\n",
       "      <td>0.000025</td>\n",
       "      <td>0.003264</td>\n",
       "      <td>-0.001209</td>\n",
       "      <td>0.001251</td>\n",
       "      <td>-0.003541</td>\n",
       "      <td>0.000206</td>\n",
       "      <td>0.009435</td>\n",
       "      <td>0.002770</td>\n",
       "      <td>-0.005660</td>\n",
       "      <td>-0.004223</td>\n",
       "      <td>1.000000</td>\n",
       "      <td>-0.003871</td>\n",
       "      <td>-0.007665</td>\n",
       "      <td>-0.003879</td>\n",
       "      <td>-0.010538</td>\n",
       "    </tr>\n",
       "    <tr>\n",
       "      <th>SA</th>\n",
       "      <td>-0.001964</td>\n",
       "      <td>-0.007129</td>\n",
       "      <td>-0.004700</td>\n",
       "      <td>0.004585</td>\n",
       "      <td>0.000373</td>\n",
       "      <td>-0.000191</td>\n",
       "      <td>-0.001852</td>\n",
       "      <td>0.001345</td>\n",
       "      <td>0.002337</td>\n",
       "      <td>-0.003896</td>\n",
       "      <td>-0.000868</td>\n",
       "      <td>-0.003871</td>\n",
       "      <td>1.000000</td>\n",
       "      <td>-0.003378</td>\n",
       "      <td>0.033392</td>\n",
       "      <td>-0.095114</td>\n",
       "    </tr>\n",
       "    <tr>\n",
       "      <th>SB</th>\n",
       "      <td>-0.003480</td>\n",
       "      <td>-0.006474</td>\n",
       "      <td>0.004419</td>\n",
       "      <td>0.006826</td>\n",
       "      <td>0.002899</td>\n",
       "      <td>0.000085</td>\n",
       "      <td>0.003626</td>\n",
       "      <td>0.003451</td>\n",
       "      <td>-0.004180</td>\n",
       "      <td>-0.007846</td>\n",
       "      <td>-0.000683</td>\n",
       "      <td>-0.007665</td>\n",
       "      <td>-0.003378</td>\n",
       "      <td>1.000000</td>\n",
       "      <td>0.049173</td>\n",
       "      <td>-0.030531</td>\n",
       "    </tr>\n",
       "    <tr>\n",
       "      <th>average_gpu_runtime</th>\n",
       "      <td>0.360678</td>\n",
       "      <td>0.319918</td>\n",
       "      <td>-0.006681</td>\n",
       "      <td>-0.224736</td>\n",
       "      <td>-0.217065</td>\n",
       "      <td>-0.008178</td>\n",
       "      <td>-0.007781</td>\n",
       "      <td>0.020837</td>\n",
       "      <td>0.168838</td>\n",
       "      <td>0.145872</td>\n",
       "      <td>-0.015297</td>\n",
       "      <td>-0.003879</td>\n",
       "      <td>0.033392</td>\n",
       "      <td>0.049173</td>\n",
       "      <td>1.000000</td>\n",
       "      <td>0.821797</td>\n",
       "    </tr>\n",
       "    <tr>\n",
       "      <th>log_average_gpu_runtime</th>\n",
       "      <td>0.457656</td>\n",
       "      <td>0.341122</td>\n",
       "      <td>-0.028682</td>\n",
       "      <td>-0.251496</td>\n",
       "      <td>-0.241641</td>\n",
       "      <td>-0.023883</td>\n",
       "      <td>-0.033009</td>\n",
       "      <td>-0.015536</td>\n",
       "      <td>0.207622</td>\n",
       "      <td>0.145051</td>\n",
       "      <td>-0.058807</td>\n",
       "      <td>-0.010538</td>\n",
       "      <td>-0.095114</td>\n",
       "      <td>-0.030531</td>\n",
       "      <td>0.821797</td>\n",
       "      <td>1.000000</td>\n",
       "    </tr>\n",
       "  </tbody>\n",
       "</table>\n",
       "</div>"
      ],
      "text/plain": [
       "                              MWG       NWG       KWG     MDIMC     NDIMC  \\\n",
       "MWG                      1.000000  0.000699  0.006878  0.106021 -0.007320   \n",
       "NWG                      0.000699  1.000000  0.008874 -0.001960  0.107703   \n",
       "KWG                      0.006878  0.008874  1.000000  0.149484  0.154424   \n",
       "MDIMC                    0.106021 -0.001960  0.149484  1.000000 -0.215026   \n",
       "NDIMC                   -0.007320  0.107703  0.154424 -0.215026  1.000000   \n",
       "MDIMA                    0.160282  0.013042 -0.034312  0.195893  0.078758   \n",
       "NDIMB                    0.013172  0.158994 -0.039266  0.079626  0.193264   \n",
       "KWI                     -0.008551 -0.005073 -0.006973 -0.001224 -0.001962   \n",
       "VWM                      0.354453 -0.006136 -0.016338 -0.135971  0.013267   \n",
       "VWN                      0.003137  0.355350 -0.015940  0.014643 -0.132051   \n",
       "STRM                    -0.005119 -0.002437  0.001990 -0.002982  0.000473   \n",
       "STRN                    -0.002926  0.000025  0.003264 -0.001209  0.001251   \n",
       "SA                      -0.001964 -0.007129 -0.004700  0.004585  0.000373   \n",
       "SB                      -0.003480 -0.006474  0.004419  0.006826  0.002899   \n",
       "average_gpu_runtime      0.360678  0.319918 -0.006681 -0.224736 -0.217065   \n",
       "log_average_gpu_runtime  0.457656  0.341122 -0.028682 -0.251496 -0.241641   \n",
       "\n",
       "                            MDIMA     NDIMB       KWI       VWM       VWN  \\\n",
       "MWG                      0.160282  0.013172 -0.008551  0.354453  0.003137   \n",
       "NWG                      0.013042  0.158994 -0.005073 -0.006136  0.355350   \n",
       "KWG                     -0.034312 -0.039266 -0.006973 -0.016338 -0.015940   \n",
       "MDIMC                    0.195893  0.079626 -0.001224 -0.135971  0.014643   \n",
       "NDIMC                    0.078758  0.193264 -0.001962  0.013267 -0.132051   \n",
       "MDIMA                    1.000000  0.085457  0.004262 -0.204189 -0.019946   \n",
       "NDIMB                    0.085457  1.000000  0.001743 -0.016085 -0.200751   \n",
       "KWI                      0.004262  0.001743  1.000000 -0.001857 -0.002772   \n",
       "VWM                     -0.204189 -0.016085 -0.001857  1.000000 -0.008284   \n",
       "VWN                     -0.019946 -0.200751 -0.002772 -0.008284  1.000000   \n",
       "STRM                    -0.001798  0.001884  0.001601  0.003338 -0.006082   \n",
       "STRN                    -0.003541  0.000206  0.009435  0.002770 -0.005660   \n",
       "SA                      -0.000191 -0.001852  0.001345  0.002337 -0.003896   \n",
       "SB                       0.000085  0.003626  0.003451 -0.004180 -0.007846   \n",
       "average_gpu_runtime     -0.008178 -0.007781  0.020837  0.168838  0.145872   \n",
       "log_average_gpu_runtime -0.023883 -0.033009 -0.015536  0.207622  0.145051   \n",
       "\n",
       "                             STRM      STRN        SA        SB  \\\n",
       "MWG                     -0.005119 -0.002926 -0.001964 -0.003480   \n",
       "NWG                     -0.002437  0.000025 -0.007129 -0.006474   \n",
       "KWG                      0.001990  0.003264 -0.004700  0.004419   \n",
       "MDIMC                   -0.002982 -0.001209  0.004585  0.006826   \n",
       "NDIMC                    0.000473  0.001251  0.000373  0.002899   \n",
       "MDIMA                   -0.001798 -0.003541 -0.000191  0.000085   \n",
       "NDIMB                    0.001884  0.000206 -0.001852  0.003626   \n",
       "KWI                      0.001601  0.009435  0.001345  0.003451   \n",
       "VWM                      0.003338  0.002770  0.002337 -0.004180   \n",
       "VWN                     -0.006082 -0.005660 -0.003896 -0.007846   \n",
       "STRM                     1.000000 -0.004223 -0.000868 -0.000683   \n",
       "STRN                    -0.004223  1.000000 -0.003871 -0.007665   \n",
       "SA                      -0.000868 -0.003871  1.000000 -0.003378   \n",
       "SB                      -0.000683 -0.007665 -0.003378  1.000000   \n",
       "average_gpu_runtime     -0.015297 -0.003879  0.033392  0.049173   \n",
       "log_average_gpu_runtime -0.058807 -0.010538 -0.095114 -0.030531   \n",
       "\n",
       "                         average_gpu_runtime  log_average_gpu_runtime  \n",
       "MWG                                 0.360678                 0.457656  \n",
       "NWG                                 0.319918                 0.341122  \n",
       "KWG                                -0.006681                -0.028682  \n",
       "MDIMC                              -0.224736                -0.251496  \n",
       "NDIMC                              -0.217065                -0.241641  \n",
       "MDIMA                              -0.008178                -0.023883  \n",
       "NDIMB                              -0.007781                -0.033009  \n",
       "KWI                                 0.020837                -0.015536  \n",
       "VWM                                 0.168838                 0.207622  \n",
       "VWN                                 0.145872                 0.145051  \n",
       "STRM                               -0.015297                -0.058807  \n",
       "STRN                               -0.003879                -0.010538  \n",
       "SA                                  0.033392                -0.095114  \n",
       "SB                                  0.049173                -0.030531  \n",
       "average_gpu_runtime                 1.000000                 0.821797  \n",
       "log_average_gpu_runtime             0.821797                 1.000000  "
      ]
     },
     "execution_count": 15,
     "metadata": {},
     "output_type": "execute_result"
    }
   ],
   "source": [
    "# finding correlatin matrix of all the attributes\n",
    "gpu_usage_a.corr()"
   ]
  },
  {
   "cell_type": "markdown",
   "metadata": {},
   "source": [
    "# Checking for multi collinearity"
   ]
  },
  {
   "cell_type": "code",
   "execution_count": 16,
   "metadata": {},
   "outputs": [
    {
     "name": "stdout",
     "output_type": "stream",
     "text": [
      "Top Absolute Correlations\n",
      "Run2 (ms)  average_gpu_runtime    0.999991\n",
      "Run4 (ms)  average_gpu_runtime    0.999991\n",
      "Run3 (ms)  average_gpu_runtime    0.999990\n",
      "Run2 (ms)  Run4 (ms)              0.999983\n",
      "Run3 (ms)  Run4 (ms)              0.999982\n",
      "Run2 (ms)  Run3 (ms)              0.999981\n",
      "Run1 (ms)  average_gpu_runtime    0.999968\n",
      "           Run2 (ms)              0.999939\n",
      "           Run4 (ms)              0.999938\n",
      "           Run3 (ms)              0.999936\n",
      "MWG        Run3 (ms)              0.355357\n",
      "           Run4 (ms)              0.355309\n",
      "           Run2 (ms)              0.355256\n",
      "           average_gpu_runtime    0.355203\n",
      "NWG        VWN                    0.355166\n",
      "MWG        Run1 (ms)              0.354870\n",
      "           VWM                    0.354641\n",
      "NWG        Run3 (ms)              0.316926\n",
      "           Run4 (ms)              0.316833\n",
      "           average_gpu_runtime    0.316824\n",
      "           Run2 (ms)              0.316779\n",
      "           Run1 (ms)              0.316739\n",
      "MDIMC      Run1 (ms)              0.222439\n",
      "           average_gpu_runtime    0.222246\n",
      "           Run3 (ms)              0.222213\n",
      "           Run4 (ms)              0.222173\n",
      "           Run2 (ms)              0.222145\n",
      "NDIMC      Run1 (ms)              0.215365\n",
      "           average_gpu_runtime    0.215128\n",
      "           Run2 (ms)              0.215088\n",
      "           Run4 (ms)              0.215039\n",
      "           Run3 (ms)              0.215009\n",
      "MDIMC      NDIMC                  0.213733\n",
      "MDIMA      VWM                    0.204142\n",
      "NDIMB      VWN                    0.200705\n",
      "MDIMC      MDIMA                  0.195416\n",
      "NDIMC      NDIMB                  0.192912\n",
      "VWM        Run3 (ms)              0.167250\n",
      "           Run4 (ms)              0.167160\n",
      "           average_gpu_runtime    0.167155\n",
      "dtype: float64\n"
     ]
    }
   ],
   "source": [
    "def get_redundant_pairs(df):\n",
    "    '''Get diagonal and lower triangular pairs of correlation matrix'''\n",
    "    pairs_to_drop = set()\n",
    "    cols = df.columns\n",
    "    for i in range(0, df.shape[1]):\n",
    "        for j in range(0, i+1):\n",
    "            pairs_to_drop.add((cols[i], cols[j]))\n",
    "    return pairs_to_drop\n",
    "\n",
    "# Function to get top correlations \n",
    "\n",
    "def get_top_abs_correlations(df, n=5):\n",
    "    au_corr = df.corr().abs().unstack()\n",
    "    labels_to_drop = get_redundant_pairs(df)\n",
    "    au_corr = au_corr.drop(labels=labels_to_drop).sort_values(ascending=False)\n",
    "    return au_corr[0:n]\n",
    "\n",
    "print(\"Top Absolute Correlations\")\n",
    "print(get_top_abs_correlations(gpu_usage, 40))"
   ]
  },
  {
   "cell_type": "code",
   "execution_count": 17,
   "metadata": {},
   "outputs": [
    {
     "data": {
      "text/plain": [
       "MWG                        0.457656\n",
       "NWG                        0.341122\n",
       "KWG                       -0.028682\n",
       "MDIMC                     -0.251496\n",
       "NDIMC                     -0.241641\n",
       "MDIMA                     -0.023883\n",
       "NDIMB                     -0.033009\n",
       "KWI                       -0.015536\n",
       "VWM                        0.207622\n",
       "VWN                        0.145051\n",
       "STRM                      -0.058807\n",
       "STRN                      -0.010538\n",
       "SA                        -0.095114\n",
       "SB                        -0.030531\n",
       "average_gpu_runtime        0.821797\n",
       "log_average_gpu_runtime    1.000000\n",
       "Name: log_average_gpu_runtime, dtype: float64"
      ]
     },
     "execution_count": 17,
     "metadata": {},
     "output_type": "execute_result"
    }
   ],
   "source": [
    "gpu_usage_a[gpu_usage_a.columns[:]].corr()['log_average_gpu_runtime'][:]"
   ]
  },
  {
   "cell_type": "markdown",
   "metadata": {},
   "source": [
    "# Column management"
   ]
  },
  {
   "cell_type": "code",
   "execution_count": 18,
   "metadata": {},
   "outputs": [],
   "source": [
    "feature_b=['MWG', 'NWG', 'KWG', 'MDIMC', 'NDIMC', 'MDIMA', 'NDIMB', 'KWI', 'VWM', 'VWN', 'STRM', 'STRN']\n",
    "feature_1b = gpu_usage_a[feature_b]\n"
   ]
  },
  {
   "cell_type": "code",
   "execution_count": 19,
   "metadata": {},
   "outputs": [],
   "source": [
    "gpu_usage_a['average_gpu_runtime_Class'] = np.where(gpu_usage_a['average_gpu_runtime']>=70, 1, 0)\n",
    "gpu_usage_a['average_gpu_runtime_Class'] = gpu_usage_a['average_gpu_runtime_Class'].astype('category')"
   ]
  },
  {
   "cell_type": "code",
   "execution_count": 20,
   "metadata": {},
   "outputs": [
    {
     "data": {
      "text/plain": [
       "6     1\n",
       "9     1\n",
       "13    1\n",
       "20    1\n",
       "21    0\n",
       "Name: average_gpu_runtime_Class, dtype: category\n",
       "Categories (2, int64): [0, 1]"
      ]
     },
     "execution_count": 20,
     "metadata": {},
     "output_type": "execute_result"
    }
   ],
   "source": [
    "target_2 = gpu_usage_a['average_gpu_runtime_Class']\n",
    "target_2.head()"
   ]
  },
  {
   "cell_type": "code",
   "execution_count": 21,
   "metadata": {},
   "outputs": [],
   "source": [
    "avg_gpu_usage_x = ['average_gpu_runtime_Class']\n",
    "target_x = gpu_usage_a[avg_gpu_usage_x]"
   ]
  },
  {
   "cell_type": "code",
   "execution_count": 22,
   "metadata": {},
   "outputs": [],
   "source": [
    "X_train, X_test, y_train, y_test = train_test_split(feature_1b, target_x, test_size = 0.4, random_state = 0)"
   ]
  },
  {
   "cell_type": "markdown",
   "metadata": {},
   "source": [
    "# Scaling"
   ]
  },
  {
   "cell_type": "code",
   "execution_count": 23,
   "metadata": {},
   "outputs": [],
   "source": [
    "\n",
    "from sklearn.preprocessing import StandardScaler\n",
    "scaler = StandardScaler() \n",
    "  \n",
    "# To scale data \n",
    "X_train=scaler.fit_transform(X_train)\n",
    "X_test=scaler.transform(X_test)\n",
    "#y_trainS = scaler.fit_transform(y_train)\n",
    "#y_testS=scaler.transform(y_test)"
   ]
  },
  {
   "cell_type": "code",
   "execution_count": 24,
   "metadata": {},
   "outputs": [],
   "source": [
    "trainValues = []\n",
    "testValues = []"
   ]
  },
  {
   "cell_type": "markdown",
   "metadata": {},
   "source": [
    "# KNN - K nearest neighbours"
   ]
  },
  {
   "cell_type": "code",
   "execution_count": 25,
   "metadata": {},
   "outputs": [
    {
     "name": "stderr",
     "output_type": "stream",
     "text": [
      "c:\\python36\\lib\\site-packages\\ipykernel_launcher.py:2: DataConversionWarning: A column-vector y was passed when a 1d array was expected. Please change the shape of y to (n_samples, ), for example using ravel().\n",
      "  \n"
     ]
    },
    {
     "name": "stdout",
     "output_type": "stream",
     "text": [
      "Train Data 0.9182464454976303\n",
      "Test Data 0.8374457532548047\n",
      "\n",
      "Classification Report\n",
      "\n",
      "               precision    recall  f1-score   support\n",
      "\n",
      "           0       0.83      0.86      0.84     12234\n",
      "           1       0.85      0.82      0.83     11961\n",
      "\n",
      "    accuracy                           0.84     24195\n",
      "   macro avg       0.84      0.84      0.84     24195\n",
      "weighted avg       0.84      0.84      0.84     24195\n",
      "\n",
      "Confusion matrix\n",
      "\n",
      " AxesSubplot(0.125,0.125;0.62x0.755)\n"
     ]
    },
    {
     "data": {
      "image/png": "[encoded data removed]",
      "text/plain": [
       "<Figure size 432x288 with 2 Axes>"
      ]
     },
     "metadata": {
      "needs_background": "light"
     },
     "output_type": "display_data"
    }
   ],
   "source": [
    "knn = KNeighborsClassifier(n_neighbors=3)  \n",
    "knn.fit(X_train, y_train) \n",
    "predictionsknn3Test = knn.predict(X_test)\n",
    "predictionsknn3Train = knn.predict(X_train)\n",
    "print('Train Data', metrics.accuracy_score(y_train,predictionsknn3Train))\n",
    "print('Test Data', metrics.accuracy_score(y_test,predictionsknn3Test))\n",
    "trainValues.append(metrics.accuracy_score(y_train,predictionsknn3Train))\n",
    "testValues.append(metrics.accuracy_score(y_test,predictionsknn3Test))\n",
    "print('\\nClassification Report\\n\\n', classification_report(y_test,predictionsknn3Test)) \n",
    "print('Confusion matrix\\n\\n', sns.heatmap(pd.DataFrame(confusion_matrix(y_test,predictionsknn3Test)),annot=True,fmt=\"g\",cmap='viridis'))"
   ]
  },
  {
   "cell_type": "code",
   "execution_count": 26,
   "metadata": {},
   "outputs": [
    {
     "name": "stderr",
     "output_type": "stream",
     "text": [
      "c:\\python36\\lib\\site-packages\\ipykernel_launcher.py:2: DataConversionWarning: A column-vector y was passed when a 1d array was expected. Please change the shape of y to (n_samples, ), for example using ravel().\n",
      "  \n"
     ]
    },
    {
     "name": "stdout",
     "output_type": "stream",
     "text": [
      "Train Data 0.8960376942576876\n",
      "Test Data 0.8369084521595371\n",
      "\n",
      "Classification Report\n",
      "\n",
      "               precision    recall  f1-score   support\n",
      "\n",
      "           0       0.82      0.86      0.84     12234\n",
      "           1       0.85      0.81      0.83     11961\n",
      "\n",
      "    accuracy                           0.84     24195\n",
      "   macro avg       0.84      0.84      0.84     24195\n",
      "weighted avg       0.84      0.84      0.84     24195\n",
      "\n",
      "Confusion matrix\n",
      "\n",
      " AxesSubplot(0.125,0.125;0.62x0.755)\n"
     ]
    },
    {
     "data": {
      "image/png": "[encoded data removed]",
      "text/plain": [
       "<Figure size 432x288 with 2 Axes>"
      ]
     },
     "metadata": {
      "needs_background": "light"
     },
     "output_type": "display_data"
    }
   ],
   "source": [
    "knn = KNeighborsClassifier(n_neighbors=5)  \n",
    "knn.fit(X_train, y_train)\n",
    "predictionsknn5Test = knn.predict(X_test)\n",
    "predictionsknn5Train = knn.predict(X_train)\n",
    "print('Train Data', metrics.accuracy_score(y_train,predictionsknn5Train))\n",
    "print('Test Data', metrics.accuracy_score(y_test,predictionsknn5Test))\n",
    "trainValues.append(metrics.accuracy_score(y_train,predictionsknn5Train))\n",
    "testValues.append(metrics.accuracy_score(y_test,predictionsknn5Test))  \n",
    "print('\\nClassification Report\\n\\n', classification_report(y_test,predictionsknn5Test))  \n",
    "print('Confusion matrix\\n\\n', sns.heatmap(pd.DataFrame(confusion_matrix(y_test,predictionsknn5Test)),annot=True,fmt=\"g\",cmap='viridis'))"
   ]
  },
  {
   "cell_type": "code",
   "execution_count": 27,
   "metadata": {},
   "outputs": [
    {
     "name": "stderr",
     "output_type": "stream",
     "text": [
      "c:\\python36\\lib\\site-packages\\ipykernel_launcher.py:2: DataConversionWarning: A column-vector y was passed when a 1d array was expected. Please change the shape of y to (n_samples, ), for example using ravel().\n",
      "  \n"
     ]
    },
    {
     "name": "stdout",
     "output_type": "stream",
     "text": [
      "Train Data 0.874628017193872\n",
      "Test Data 0.8335193221740029\n",
      "\n",
      "Classification Report\n",
      "\n",
      "               precision    recall  f1-score   support\n",
      "\n",
      "           0       0.82      0.86      0.84     12234\n",
      "           1       0.85      0.80      0.83     11961\n",
      "\n",
      "    accuracy                           0.83     24195\n",
      "   macro avg       0.83      0.83      0.83     24195\n",
      "weighted avg       0.83      0.83      0.83     24195\n",
      "\n",
      "Confusion matrix\n",
      "\n",
      " AxesSubplot(0.125,0.125;0.62x0.755)\n"
     ]
    },
    {
     "data": {
      "image/png": "[encoded data removed]",
      "text/plain": [
       "<Figure size 432x288 with 2 Axes>"
      ]
     },
     "metadata": {
      "needs_background": "light"
     },
     "output_type": "display_data"
    }
   ],
   "source": [
    "knn = KNeighborsClassifier(n_neighbors=9)  \n",
    "knn.fit(X_train, y_train)  \n",
    "predictionsknn9Test = knn.predict(X_test)\n",
    "predictionsknn9Train = knn.predict(X_train)\n",
    "print('Train Data', metrics.accuracy_score(y_train,predictionsknn9Train))\n",
    "print('Test Data', metrics.accuracy_score(y_test,predictionsknn9Test))\n",
    "trainValues.append(metrics.accuracy_score(y_train,predictionsknn9Train))\n",
    "testValues.append(metrics.accuracy_score(y_test,predictionsknn9Test))  \n",
    "print('\\nClassification Report\\n\\n', classification_report(y_test,predictionsknn9Test))  \n",
    "print('Confusion matrix\\n\\n', sns.heatmap(pd.DataFrame(confusion_matrix(y_test,predictionsknn9Test)),annot=True,fmt=\"g\",cmap='viridis'))"
   ]
  },
  {
   "cell_type": "code",
   "execution_count": 28,
   "metadata": {},
   "outputs": [
    {
     "data": {
      "image/png": "[encoded data removed]",
      "text/plain": [
       "<Figure size 432x288 with 1 Axes>"
      ]
     },
     "metadata": {
      "needs_background": "light"
     },
     "output_type": "display_data"
    }
   ],
   "source": [
    "# Generate plot \n",
    "plt.plot([3, 5, 9], testValues, 'o-', label = 'Testing dataset Accuracy') \n",
    "plt.plot([3, 5, 9], trainValues, 'o-', label = 'Training dataset Accuracy') \n",
    "  \n",
    "plt.legend() \n",
    "plt.xlabel('n_neighbors') \n",
    "plt.ylabel('Accuracy') \n",
    "plt.title(\"Accuracy for different K values\")\n",
    "plt.show() "
   ]
  },
  {
   "cell_type": "code",
   "execution_count": 29,
   "metadata": {},
   "outputs": [],
   "source": [
    "trainValuesDist = []\n",
    "testValuesDist = []"
   ]
  },
  {
   "cell_type": "code",
   "execution_count": 30,
   "metadata": {},
   "outputs": [
    {
     "name": "stderr",
     "output_type": "stream",
     "text": [
      "c:\\python36\\lib\\site-packages\\ipykernel_launcher.py:2: DataConversionWarning: A column-vector y was passed when a 1d array was expected. Please change the shape of y to (n_samples, ), for example using ravel().\n",
      "  \n"
     ]
    },
    {
     "name": "stdout",
     "output_type": "stream",
     "text": [
      "Train Data 0.9182464454976303\n",
      "Test Data 0.8374457532548047\n",
      "\n",
      "Classification Report\n",
      "\n",
      "               precision    recall  f1-score   support\n",
      "\n",
      "           0       0.83      0.86      0.84     12234\n",
      "           1       0.85      0.82      0.83     11961\n",
      "\n",
      "    accuracy                           0.84     24195\n",
      "   macro avg       0.84      0.84      0.84     24195\n",
      "weighted avg       0.84      0.84      0.84     24195\n",
      "\n",
      "Confusion matrix\n",
      "\n",
      " AxesSubplot(0.125,0.125;0.62x0.755)\n"
     ]
    },
    {
     "data": {
      "image/png": "[encoded data removed]",
      "text/plain": [
       "<Figure size 432x288 with 2 Axes>"
      ]
     },
     "metadata": {
      "needs_background": "light"
     },
     "output_type": "display_data"
    }
   ],
   "source": [
    "knn = KNeighborsClassifier(n_neighbors=3, metric = \"euclidean\")  \n",
    "knn.fit(X_train, y_train)  \n",
    "predictionsknn9Test = knn.predict(X_test)\n",
    "predictionsknn9Train = knn.predict(X_train)\n",
    "print('Train Data', metrics.accuracy_score(y_train,predictionsknn9Train))\n",
    "trainValuesDist.append(metrics.accuracy_score(y_train,predictionsknn9Train))\n",
    "print('Test Data', metrics.accuracy_score(y_test,predictionsknn9Test))\n",
    "testValuesDist.append(metrics.accuracy_score(y_test,predictionsknn9Test))  \n",
    "print('\\nClassification Report\\n\\n', classification_report(y_test,predictionsknn9Test)) \n",
    "print('Confusion matrix\\n\\n', sns.heatmap(pd.DataFrame(confusion_matrix(y_test,predictionsknn9Test)),annot=True,fmt=\"g\",cmap='viridis'))"
   ]
  },
  {
   "cell_type": "code",
   "execution_count": 31,
   "metadata": {},
   "outputs": [
    {
     "name": "stderr",
     "output_type": "stream",
     "text": [
      "c:\\python36\\lib\\site-packages\\ipykernel_launcher.py:2: DataConversionWarning: A column-vector y was passed when a 1d array was expected. Please change the shape of y to (n_samples, ), for example using ravel().\n",
      "  \n"
     ]
    },
    {
     "name": "stdout",
     "output_type": "stream",
     "text": [
      "Train Data 0.9232888790918109\n",
      "Test Data 0.8439346972514983\n",
      "\n",
      "Classification Report\n",
      "\n",
      "               precision    recall  f1-score   support\n",
      "\n",
      "           0       0.84      0.86      0.85     12234\n",
      "           1       0.85      0.83      0.84     11961\n",
      "\n",
      "    accuracy                           0.84     24195\n",
      "   macro avg       0.84      0.84      0.84     24195\n",
      "weighted avg       0.84      0.84      0.84     24195\n",
      "\n",
      "Confusion matrix\n",
      "\n",
      " AxesSubplot(0.125,0.125;0.62x0.755)\n"
     ]
    },
    {
     "data": {
      "image/png": "[encoded data removed]",
      "text/plain": [
       "<Figure size 432x288 with 2 Axes>"
      ]
     },
     "metadata": {
      "needs_background": "light"
     },
     "output_type": "display_data"
    }
   ],
   "source": [
    "knn = KNeighborsClassifier(n_neighbors=3, metric = \"manhattan\")  \n",
    "knn.fit(X_train, y_train)  \n",
    "predictionsknn9Test = knn.predict(X_test)\n",
    "predictionsknn9Train = knn.predict(X_train)\n",
    "print('Train Data', metrics.accuracy_score(y_train,predictionsknn9Train))\n",
    "trainValuesDist.append(metrics.accuracy_score(y_train,predictionsknn9Train))\n",
    "print('Test Data', metrics.accuracy_score(y_test,predictionsknn9Test))\n",
    "testValuesDist.append(metrics.accuracy_score(y_test,predictionsknn9Test))  \n",
    "print('\\nClassification Report\\n\\n', classification_report(y_test,predictionsknn9Test)) \n",
    "print('Confusion matrix\\n\\n', sns.heatmap(pd.DataFrame(confusion_matrix(y_test,predictionsknn9Test)),annot=True,fmt=\"g\",cmap='viridis'))"
   ]
  },
  {
   "cell_type": "code",
   "execution_count": 32,
   "metadata": {},
   "outputs": [
    {
     "name": "stderr",
     "output_type": "stream",
     "text": [
      "c:\\python36\\lib\\site-packages\\ipykernel_launcher.py:2: DataConversionWarning: A column-vector y was passed when a 1d array was expected. Please change the shape of y to (n_samples, ), for example using ravel().\n",
      "  \n"
     ]
    },
    {
     "name": "stdout",
     "output_type": "stream",
     "text": [
      "Train Data 0.9249145817260003\n",
      "Test Data 0.8447613143211408\n",
      "\n",
      "Classification Report\n",
      "\n",
      "               precision    recall  f1-score   support\n",
      "\n",
      "           0       0.85      0.84      0.85     12234\n",
      "           1       0.84      0.85      0.84     11961\n",
      "\n",
      "    accuracy                           0.84     24195\n",
      "   macro avg       0.84      0.84      0.84     24195\n",
      "weighted avg       0.84      0.84      0.84     24195\n",
      "\n",
      "Confusion matrix\n",
      "\n",
      " AxesSubplot(0.125,0.125;0.62x0.755)\n"
     ]
    },
    {
     "data": {
      "image/png": "[encoded data removed]",
      "text/plain": [
       "<Figure size 432x288 with 2 Axes>"
      ]
     },
     "metadata": {
      "needs_background": "light"
     },
     "output_type": "display_data"
    }
   ],
   "source": [
    "knn = KNeighborsClassifier(n_neighbors=3, metric = \"hamming\")  \n",
    "knn.fit(X_train, y_train)  \n",
    "predictionsknn9Test = knn.predict(X_test)\n",
    "predictionsknn9Train = knn.predict(X_train)\n",
    "print('Train Data', metrics.accuracy_score(y_train,predictionsknn9Train))\n",
    "trainValuesDist.append(metrics.accuracy_score(y_train,predictionsknn9Train))\n",
    "print('Test Data', metrics.accuracy_score(y_test,predictionsknn9Test))\n",
    "testValuesDist.append(metrics.accuracy_score(y_test,predictionsknn9Test))  \n",
    "print('\\nClassification Report\\n\\n', classification_report(y_test,predictionsknn9Test)) \n",
    "print('Confusion matrix\\n\\n', sns.heatmap(pd.DataFrame(confusion_matrix(y_test,predictionsknn9Test)),annot=True,fmt=\"g\",cmap='viridis'))"
   ]
  },
  {
   "cell_type": "code",
   "execution_count": 33,
   "metadata": {},
   "outputs": [
    {
     "data": {
      "image/png": "[encoded data removed]",
      "text/plain": [
       "<Figure size 432x288 with 1 Axes>"
      ]
     },
     "metadata": {
      "needs_background": "light"
     },
     "output_type": "display_data"
    }
   ],
   "source": [
    "# Generate plot \n",
    "plt.plot(['euclidean', 'manhattan', 'hamming'], testValuesDist, 'o-', label = 'Testing dataset Accuracy') \n",
    "plt.plot(['euclidean', 'manhattan', 'hamming'], trainValuesDist, 'o-', label = 'Training dataset Accuracy') \n",
    "  \n",
    "plt.legend() \n",
    "plt.xlabel('distance_metric') \n",
    "plt.ylabel('Accuracy') \n",
    "plt.title(\"Accuracy for different distance metric\")\n",
    "plt.show()"
   ]
  },
  {
   "cell_type": "code",
   "execution_count": 34,
   "metadata": {},
   "outputs": [],
   "source": [
    "trainValuesLayers = []\n",
    "testValuesLayers = []"
   ]
  },
  {
   "cell_type": "markdown",
   "metadata": {},
   "source": [
    "# Artificial Neural network - ANN"
   ]
  },
  {
   "cell_type": "code",
   "execution_count": 36,
   "metadata": {},
   "outputs": [
    {
     "name": "stdout",
     "output_type": "stream",
     "text": [
      "Epoch 1/10\n",
      "36292/36292 [==============================] - 11s 293us/step - loss: 0.3609 - accuracy: 0.8365\n",
      "Epoch 2/10\n",
      "36292/36292 [==============================] - 10s 278us/step - loss: 0.2371 - accuracy: 0.8959\n",
      "Epoch 3/10\n",
      "36292/36292 [==============================] - 10s 277us/step - loss: 0.2144 - accuracy: 0.9048\n",
      "Epoch 4/10\n",
      "36292/36292 [==============================] - 10s 276us/step - loss: 0.2048 - accuracy: 0.9064\n",
      "Epoch 5/10\n",
      "36292/36292 [==============================] - 10s 275us/step - loss: 0.1984 - accuracy: 0.9082\n",
      "Epoch 6/10\n",
      "36292/36292 [==============================] - 10s 285us/step - loss: 0.1954 - accuracy: 0.9093\n",
      "Epoch 7/10\n",
      "36292/36292 [==============================] - 10s 278us/step - loss: 0.1927 - accuracy: 0.9094\n",
      "Epoch 8/10\n",
      "36292/36292 [==============================] - 10s 275us/step - loss: 0.1908 - accuracy: 0.9095\n",
      "Epoch 9/10\n",
      "36292/36292 [==============================] - 10s 276us/step - loss: 0.1886 - accuracy: 0.9100\n",
      "Epoch 10/10\n",
      "36292/36292 [==============================] - 10s 276us/step - loss: 0.1870 - accuracy: 0.9103\n",
      "Accuracy-> 0.9048977061376318\n",
      "Accuracy Train-> 0.9094841838421691\n"
     ]
    },
    {
     "data": {
      "image/png": "[encoded data removed]",
      "text/plain": [
       "<Figure size 432x288 with 2 Axes>"
      ]
     },
     "metadata": {
      "needs_background": "light"
     },
     "output_type": "display_data"
    }
   ],
   "source": [
    "# create model\n",
    "model = Sequential()\n",
    "model.add(Dense(16, input_dim=12, activation='relu'))\n",
    "model.add(Dense(8, activation='relu'))\n",
    "model.add(Dense(1, activation='sigmoid'))\n",
    "# Compile model\n",
    "model.compile(loss='binary_crossentropy', optimizer='adam', metrics=['accuracy'])\n",
    "# Fit the model\n",
    "model.fit(X_train, y_train, epochs=10, batch_size=10)\n",
    "\n",
    "y_pred = model.predict(X_test)\n",
    "thresh = 0.5\n",
    "y_pred = pd.Series(y_pred.flatten())\n",
    "y_pred = (y_pred > thresh).astype(np.int)\n",
    "sns.heatmap(pd.DataFrame(confusion_matrix(y_test,y_pred)),annot=True,fmt=\"g\",cmap='viridis')\n",
    "\n",
    "y_predTrain = model.predict(X_train)\n",
    "thresh = 0.5\n",
    "y_predTrain = pd.Series(y_predTrain.flatten())\n",
    "y_predTrain = (y_predTrain > thresh).astype(np.int)\n",
    "\n",
    "print('Accuracy->', metrics.accuracy_score(y_test,y_pred))\n",
    "testValuesLayers.append(metrics.accuracy_score(y_test,y_pred))\n",
    "\n",
    "print('Accuracy Train->', metrics.accuracy_score(y_train,y_predTrain))\n",
    "trainValuesLayers.append(metrics.accuracy_score(y_train,y_predTrain))"
   ]
  },
  {
   "cell_type": "code",
   "execution_count": 37,
   "metadata": {},
   "outputs": [
    {
     "name": "stdout",
     "output_type": "stream",
     "text": [
      "Epoch 1/10\n",
      "36292/36292 [==============================] - 11s 316us/step - loss: 0.3284 - accuracy: 0.8557\n",
      "Epoch 2/10\n",
      "36292/36292 [==============================] - 11s 312us/step - loss: 0.2300 - accuracy: 0.8988\n",
      "Epoch 3/10\n",
      "36292/36292 [==============================] - 12s 325us/step - loss: 0.2135 - accuracy: 0.9035\n",
      "Epoch 4/10\n",
      "36292/36292 [==============================] - 14s 374us/step - loss: 0.2029 - accuracy: 0.9063\n",
      "Epoch 5/10\n",
      "36292/36292 [==============================] - 13s 362us/step - loss: 0.1970 - accuracy: 0.9077\n",
      "Epoch 6/10\n",
      "36292/36292 [==============================] - 11s 307us/step - loss: 0.1934 - accuracy: 0.9093\n",
      "Epoch 7/10\n",
      "36292/36292 [==============================] - 11s 306us/step - loss: 0.1916 - accuracy: 0.9096\n",
      "Epoch 8/10\n",
      "36292/36292 [==============================] - 11s 306us/step - loss: 0.1902 - accuracy: 0.9095\n",
      "Epoch 9/10\n",
      "36292/36292 [==============================] - 11s 306us/step - loss: 0.1879 - accuracy: 0.9103\n",
      "Epoch 10/10\n",
      "36292/36292 [==============================] - 11s 303us/step - loss: 0.1859 - accuracy: 0.9101\n",
      "Accuracy-> 0.9085348212440587\n",
      "Accuracy Train-> 0.9127355891105478\n"
     ]
    },
    {
     "data": {
      "image/png": "[encoded data removed]",
      "text/plain": [
       "<Figure size 432x288 with 2 Axes>"
      ]
     },
     "metadata": {
      "needs_background": "light"
     },
     "output_type": "display_data"
    }
   ],
   "source": [
    "# create model\n",
    "model = Sequential()\n",
    "model.add(Dense(16, input_dim=12, activation='relu'))\n",
    "model.add(Dense(8, activation='relu'))\n",
    "model.add(Dense(8, activation='tanh'))\n",
    "model.add(Dense(1, activation='sigmoid'))\n",
    "# Compile model\n",
    "model.compile(loss='binary_crossentropy', optimizer='adam', metrics=['accuracy'])\n",
    "# Fit the model\n",
    "model.fit(X_train, y_train, epochs=10, batch_size=10)\n",
    "\n",
    "y_pred = model.predict(X_test)\n",
    "thresh = 0.5\n",
    "y_pred = pd.Series(y_pred.flatten())\n",
    "y_pred = (y_pred > thresh).astype(np.int)\n",
    "sns.heatmap(pd.DataFrame(confusion_matrix(y_test,y_pred)),annot=True,fmt=\"g\",cmap='viridis')\n",
    "\n",
    "y_predTrain = model.predict(X_train)\n",
    "thresh = 0.5\n",
    "y_predTrain = pd.Series(y_predTrain.flatten())\n",
    "y_predTrain = (y_predTrain > thresh).astype(np.int)\n",
    "\n",
    "print('Accuracy->', metrics.accuracy_score(y_test,y_pred))\n",
    "testValuesLayers.append(metrics.accuracy_score(y_test,y_pred))\n",
    "\n",
    "print('Accuracy Train->', metrics.accuracy_score(y_train,y_predTrain))\n",
    "trainValuesLayers.append(metrics.accuracy_score(y_train,y_predTrain))"
   ]
  },
  {
   "cell_type": "code",
   "execution_count": 38,
   "metadata": {},
   "outputs": [
    {
     "name": "stdout",
     "output_type": "stream",
     "text": [
      "Epoch 1/10\n",
      "36292/36292 [==============================] - 13s 355us/step - loss: 0.3230 - accuracy: 0.8589\n",
      "Epoch 2/10\n",
      "36292/36292 [==============================] - 12s 332us/step - loss: 0.2251 - accuracy: 0.9009\n",
      "Epoch 3/10\n",
      "36292/36292 [==============================] - 12s 332us/step - loss: 0.2098 - accuracy: 0.9055\n",
      "Epoch 4/10\n",
      "36292/36292 [==============================] - 12s 331us/step - loss: 0.2026 - accuracy: 0.9082\n",
      "Epoch 5/10\n",
      "36292/36292 [==============================] - 11s 316us/step - loss: 0.1968 - accuracy: 0.9079\n",
      "Epoch 6/10\n",
      "36292/36292 [==============================] - 12s 328us/step - loss: 0.1932 - accuracy: 0.9082\n",
      "Epoch 7/10\n",
      "36292/36292 [==============================] - 12s 336us/step - loss: 0.1900 - accuracy: 0.9082\n",
      "Epoch 8/10\n",
      "36292/36292 [==============================] - 12s 339us/step - loss: 0.1873 - accuracy: 0.9092\n",
      "Epoch 9/10\n",
      "36292/36292 [==============================] - 12s 332us/step - loss: 0.1866 - accuracy: 0.9087\n",
      "Epoch 10/10\n",
      "36292/36292 [==============================] - 12s 335us/step - loss: 0.1847 - accuracy: 0.9095\n",
      "Accuracy-> 0.9056003306468279\n",
      "Accuracy Train-> 0.9101454866086189\n"
     ]
    },
    {
     "data": {
      "image/png": "[encoded data removed]",
      "text/plain": [
       "<Figure size 432x288 with 2 Axes>"
      ]
     },
     "metadata": {
      "needs_background": "light"
     },
     "output_type": "display_data"
    }
   ],
   "source": [
    "# create model\n",
    "model = Sequential()\n",
    "model.add(Dense(16, input_dim=12, activation='relu'))\n",
    "model.add(Dense(8, activation='relu'))\n",
    "model.add(Dense(8, activation='relu'))\n",
    "model.add(Dense(8, activation='tanh'))\n",
    "model.add(Dense(1, activation='sigmoid'))\n",
    "# Compile model\n",
    "model.compile(loss='binary_crossentropy', optimizer='adam', metrics=['accuracy'])\n",
    "# Fit the model\n",
    "model.fit(X_train, y_train, epochs=10, batch_size=10)\n",
    "\n",
    "y_pred = model.predict(X_test)\n",
    "thresh = 0.5\n",
    "y_pred = pd.Series(y_pred.flatten())\n",
    "y_pred = (y_pred > thresh).astype(np.int)\n",
    "sns.heatmap(pd.DataFrame(confusion_matrix(y_test,y_pred)),annot=True,fmt=\"g\",cmap='viridis')\n",
    "\n",
    "y_predTrain = model.predict(X_train)\n",
    "thresh = 0.5\n",
    "y_predTrain = pd.Series(y_predTrain.flatten())\n",
    "y_predTrain = (y_predTrain > thresh).astype(np.int)\n",
    "\n",
    "print('Accuracy->', metrics.accuracy_score(y_test,y_pred))\n",
    "testValuesLayers.append(metrics.accuracy_score(y_test,y_pred))\n",
    "\n",
    "print('Accuracy Train->', metrics.accuracy_score(y_train,y_predTrain))\n",
    "trainValuesLayers.append(metrics.accuracy_score(y_train,y_predTrain))"
   ]
  },
  {
   "cell_type": "code",
   "execution_count": 39,
   "metadata": {},
   "outputs": [
    {
     "data": {
      "image/png": "[encoded data removed]",
      "text/plain": [
       "<Figure size 432x288 with 1 Axes>"
      ]
     },
     "metadata": {
      "needs_background": "light"
     },
     "output_type": "display_data"
    }
   ],
   "source": [
    "# Generate plot \n",
    "plt.plot([3, 4, 5], testValuesLayers, 'o-', label = 'Testing dataset Accuracy') \n",
    "plt.plot([3, 4, 5], trainValuesLayers, 'o-', label = 'Training dataset Accuracy') \n",
    "  \n",
    "plt.legend() \n",
    "plt.xlabel('Layers') \n",
    "plt.ylabel('Accuracy') \n",
    "plt.title(\"Accuracy for different number of layers\")\n",
    "plt.show() "
   ]
  },
  {
   "cell_type": "code",
   "execution_count": 35,
   "metadata": {},
   "outputs": [],
   "source": [
    "testValuesActivation = []\n",
    "trainValuesActivation = []"
   ]
  },
  {
   "cell_type": "code",
   "execution_count": 36,
   "metadata": {},
   "outputs": [
    {
     "name": "stdout",
     "output_type": "stream",
     "text": [
      "Epoch 1/10\n",
      "36292/36292 [==============================] - 11s 309us/step - loss: 0.3468 - accuracy: 0.8413\n",
      "Epoch 2/10\n",
      "36292/36292 [==============================] - 11s 310us/step - loss: 0.2467 - accuracy: 0.8895\n",
      "Epoch 3/10\n",
      "36292/36292 [==============================] - 11s 303us/step - loss: 0.2204 - accuracy: 0.9021\n",
      "Epoch 4/10\n",
      "36292/36292 [==============================] - 11s 309us/step - loss: 0.2078 - accuracy: 0.9043\n",
      "Epoch 5/10\n",
      "36292/36292 [==============================] - 11s 298us/step - loss: 0.2018 - accuracy: 0.9069\n",
      "Epoch 6/10\n",
      "36292/36292 [==============================] - 13s 352us/step - loss: 0.1977 - accuracy: 0.9080\n",
      "Epoch 7/10\n",
      "36292/36292 [==============================] - 11s 298us/step - loss: 0.1952 - accuracy: 0.9082\n",
      "Epoch 8/10\n",
      "36292/36292 [==============================] - 11s 293us/step - loss: 0.1927 - accuracy: 0.9085\n",
      "Epoch 9/10\n",
      "36292/36292 [==============================] - 11s 299us/step - loss: 0.1912 - accuracy: 0.9084\n",
      "Epoch 10/10\n",
      "36292/36292 [==============================] - 11s 298us/step - loss: 0.1887 - accuracy: 0.9101\n",
      "Accuracy-> 0.9054763380863815\n",
      "Accuracy Train-> 0.9106965722473273\n"
     ]
    },
    {
     "data": {
      "image/png": "[encoded data removed]",
      "text/plain": [
       "<Figure size 432x288 with 2 Axes>"
      ]
     },
     "metadata": {
      "needs_background": "light"
     },
     "output_type": "display_data"
    }
   ],
   "source": [
    "# create model\n",
    "model = Sequential()\n",
    "model.add(Dense(16, input_dim=12, activation='relu'))\n",
    "model.add(Dense(8, activation='relu'))\n",
    "model.add(Dense(8, activation='relu'))\n",
    "model.add(Dense(1, activation='sigmoid'))\n",
    "# Compile model\n",
    "model.compile(loss='binary_crossentropy', optimizer='adam', metrics=['accuracy'])\n",
    "# Fit the model\n",
    "model.fit(X_train, y_train, epochs=10, batch_size=10)\n",
    "\n",
    "y_pred = model.predict(X_test)\n",
    "thresh = 0.5\n",
    "y_pred = pd.Series(y_pred.flatten())\n",
    "y_pred = (y_pred > thresh).astype(np.int)\n",
    "sns.heatmap(pd.DataFrame(confusion_matrix(y_test,y_pred)),annot=True,fmt=\"g\",cmap='viridis')\n",
    "\n",
    "y_predTrain = model.predict(X_train)\n",
    "thresh = 0.5\n",
    "y_predTrain = pd.Series(y_predTrain.flatten())\n",
    "y_predTrain = (y_predTrain > thresh).astype(np.int)\n",
    "\n",
    "print('Accuracy->', metrics.accuracy_score(y_test,y_pred))\n",
    "testValuesActivation.append(metrics.accuracy_score(y_test,y_pred))\n",
    "\n",
    "print('Accuracy Train->', metrics.accuracy_score(y_train,y_predTrain))\n",
    "trainValuesActivation.append(metrics.accuracy_score(y_train,y_predTrain))"
   ]
  },
  {
   "cell_type": "code",
   "execution_count": 37,
   "metadata": {},
   "outputs": [
    {
     "name": "stdout",
     "output_type": "stream",
     "text": [
      "Epoch 1/10\n",
      "36292/36292 [==============================] - 13s 345us/step - loss: 0.3385 - accuracy: 0.8542\n",
      "Epoch 2/10\n",
      "36292/36292 [==============================] - 12s 331us/step - loss: 0.2343 - accuracy: 0.8975\n",
      "Epoch 3/10\n",
      "36292/36292 [==============================] - 12s 325us/step - loss: 0.2153 - accuracy: 0.9028\n",
      "Epoch 4/10\n",
      "36292/36292 [==============================] - 12s 327us/step - loss: 0.2067 - accuracy: 0.9042\n",
      "Epoch 5/10\n",
      "36292/36292 [==============================] - 11s 314us/step - loss: 0.2015 - accuracy: 0.9076\n",
      "Epoch 6/10\n",
      "36292/36292 [==============================] - 12s 324us/step - loss: 0.1988 - accuracy: 0.9079\n",
      "Epoch 7/10\n",
      "36292/36292 [==============================] - 12s 327us/step - loss: 0.1961 - accuracy: 0.9089\n",
      "Epoch 8/10\n",
      "36292/36292 [==============================] - 11s 315us/step - loss: 0.1945 - accuracy: 0.9082\n",
      "Epoch 9/10\n",
      "36292/36292 [==============================] - 10s 279us/step - loss: 0.1920 - accuracy: 0.9085\n",
      "Epoch 10/10\n",
      "36292/36292 [==============================] - 11s 315us/step - loss: 0.1909 - accuracy: 0.9095\n",
      "Accuracy-> 0.9067575945443274\n",
      "Accuracy Train-> 0.9114956464234542\n"
     ]
    },
    {
     "data": {
      "image/png": "[encoded data removed]",
      "text/plain": [
       "<Figure size 432x288 with 2 Axes>"
      ]
     },
     "metadata": {
      "needs_background": "light"
     },
     "output_type": "display_data"
    }
   ],
   "source": [
    "# create model\n",
    "model = Sequential()\n",
    "model.add(Dense(16, input_dim=12, activation='relu'))\n",
    "model.add(Dense(8, activation='tanh'))\n",
    "model.add(Dense(8, activation='tanh'))\n",
    "model.add(Dense(1, activation='sigmoid'))\n",
    "# Compile model\n",
    "model.compile(loss='binary_crossentropy', optimizer='adam', metrics=['accuracy'])\n",
    "# Fit the model\n",
    "model.fit(X_train, y_train, epochs=10, batch_size=10)\n",
    "\n",
    "y_pred = model.predict(X_test)\n",
    "thresh = 0.5\n",
    "y_pred = pd.Series(y_pred.flatten())\n",
    "y_pred = (y_pred > thresh).astype(np.int)\n",
    "sns.heatmap(pd.DataFrame(confusion_matrix(y_test,y_pred)),annot=True,fmt=\"g\",cmap='viridis')\n",
    "\n",
    "y_predTrain = model.predict(X_train)\n",
    "thresh = 0.5\n",
    "y_predTrain = pd.Series(y_predTrain.flatten())\n",
    "y_predTrain = (y_predTrain > thresh).astype(np.int)\n",
    "\n",
    "print('Accuracy->', metrics.accuracy_score(y_test,y_pred))\n",
    "testValuesActivation.append(metrics.accuracy_score(y_test,y_pred))\n",
    "\n",
    "print('Accuracy Train->', metrics.accuracy_score(y_train,y_predTrain))\n",
    "trainValuesActivation.append(metrics.accuracy_score(y_train,y_predTrain))"
   ]
  },
  {
   "cell_type": "code",
   "execution_count": 38,
   "metadata": {},
   "outputs": [
    {
     "name": "stdout",
     "output_type": "stream",
     "text": [
      "Epoch 1/10\n",
      "36292/36292 [==============================] - 12s 342us/step - loss: 0.3504 - accuracy: 0.8497\n",
      "Epoch 2/10\n",
      "36292/36292 [==============================] - 12s 330us/step - loss: 0.2455 - accuracy: 0.8945\n",
      "Epoch 3/10\n",
      "36292/36292 [==============================] - 10s 288us/step - loss: 0.2245 - accuracy: 0.9035\n",
      "Epoch 4/10\n",
      "36292/36292 [==============================] - 11s 295us/step - loss: 0.2101 - accuracy: 0.9054\n",
      "Epoch 5/10\n",
      "36292/36292 [==============================] - 11s 311us/step - loss: 0.2005 - accuracy: 0.9079\n",
      "Epoch 6/10\n",
      "36292/36292 [==============================] - 11s 312us/step - loss: 0.1941 - accuracy: 0.9085\n",
      "Epoch 7/10\n",
      "36292/36292 [==============================] - 11s 315us/step - loss: 0.1902 - accuracy: 0.9083\n",
      "Epoch 8/10\n",
      "36292/36292 [==============================] - 11s 314us/step - loss: 0.1873 - accuracy: 0.9096\n",
      "Epoch 9/10\n",
      "36292/36292 [==============================] - 11s 314us/step - loss: 0.1859 - accuracy: 0.9095\n",
      "Epoch 10/10\n",
      "36292/36292 [==============================] - 11s 312us/step - loss: 0.1841 - accuracy: 0.9097\n",
      "Accuracy-> 0.9047737135771854\n",
      "Accuracy Train-> 0.9091259781770087\n"
     ]
    },
    {
     "data": {
      "image/png": "[encoded data removed]",
      "text/plain": [
       "<Figure size 432x288 with 2 Axes>"
      ]
     },
     "metadata": {
      "needs_background": "light"
     },
     "output_type": "display_data"
    }
   ],
   "source": [
    "# create model\n",
    "model = Sequential()\n",
    "model.add(Dense(16, input_dim=12, activation='tanh'))\n",
    "model.add(Dense(8, activation='relu'))\n",
    "model.add(Dense(8, activation='sigmoid'))\n",
    "model.add(Dense(1, activation='sigmoid'))\n",
    "# Compile model\n",
    "model.compile(loss='binary_crossentropy', optimizer='adam', metrics=['accuracy'])\n",
    "# Fit the model\n",
    "model.fit(X_train, y_train, epochs=10, batch_size=10)\n",
    "\n",
    "y_pred = model.predict(X_test)\n",
    "thresh = 0.5\n",
    "y_pred = pd.Series(y_pred.flatten())\n",
    "y_pred = (y_pred > thresh).astype(np.int)\n",
    "sns.heatmap(pd.DataFrame(confusion_matrix(y_test,y_pred)),annot=True,fmt=\"g\",cmap='viridis')\n",
    "\n",
    "y_predTrain = model.predict(X_train)\n",
    "thresh = 0.5\n",
    "y_predTrain = pd.Series(y_predTrain.flatten())\n",
    "y_predTrain = (y_predTrain > thresh).astype(np.int)\n",
    "\n",
    "print('Accuracy->', metrics.accuracy_score(y_test,y_pred))\n",
    "testValuesActivation.append(metrics.accuracy_score(y_test,y_pred))\n",
    "\n",
    "print('Accuracy Train->', metrics.accuracy_score(y_train,y_predTrain))\n",
    "trainValuesActivation.append(metrics.accuracy_score(y_train,y_predTrain))"
   ]
  },
  {
   "cell_type": "code",
   "execution_count": 39,
   "metadata": {},
   "outputs": [
    {
     "data": {
      "image/png": "[encoded data removed]",
      "text/plain": [
       "<Figure size 432x288 with 1 Axes>"
      ]
     },
     "metadata": {
      "needs_background": "light"
     },
     "output_type": "display_data"
    }
   ],
   "source": [
    "# Generate plot \n",
    "plt.plot(['activation1', 'activation2', 'activation3'], testValuesActivation, 'o-', label = 'Testing dataset Accuracy') \n",
    "plt.plot(['activation1', 'activation2', 'activation3'], trainValuesActivation, 'o-', label = 'Training dataset Accuracy') \n",
    "  \n",
    "plt.legend() \n",
    "plt.xlabel('Activation functions') \n",
    "plt.ylabel('Accuracy') \n",
    "plt.title(\"Accuracy for different Activation functions\")\n",
    "plt.show()"
   ]
  },
  {
   "cell_type": "code",
   "execution_count": 40,
   "metadata": {},
   "outputs": [
    {
     "name": "stdout",
     "output_type": "stream",
     "text": [
      "Epoch 1/10\n",
      "36292/36292 [==============================] - 12s 317us/step - loss: 0.3554 - accuracy: 0.8397\n",
      "Epoch 2/10\n",
      "36292/36292 [==============================] - 11s 292us/step - loss: 0.2357 - accuracy: 0.8967\n",
      "Epoch 3/10\n",
      "36292/36292 [==============================] - 11s 292us/step - loss: 0.2201 - accuracy: 0.9020\n",
      "Epoch 4/10\n",
      "36292/36292 [==============================] - 11s 293us/step - loss: 0.2125 - accuracy: 0.9044\n",
      "Epoch 5/10\n",
      "36292/36292 [==============================] - 11s 296us/step - loss: 0.2075 - accuracy: 0.9054\n",
      "Epoch 6/10\n",
      "36292/36292 [==============================] - 11s 293us/step - loss: 0.2047 - accuracy: 0.9064\n",
      "Epoch 7/10\n",
      "36292/36292 [==============================] - 11s 293us/step - loss: 0.2009 - accuracy: 0.9073\n",
      "Epoch 8/10\n",
      "36292/36292 [==============================] - 11s 293us/step - loss: 0.1980 - accuracy: 0.9078\n",
      "Epoch 9/10\n",
      "36292/36292 [==============================] - 11s 294us/step - loss: 0.1958 - accuracy: 0.9073\n",
      "Epoch 10/10\n",
      "36292/36292 [==============================] - 11s 293us/step - loss: 0.1932 - accuracy: 0.9079\n",
      "Accuracy-> 0.9017978921264724\n",
      "Accuracy Train-> 0.9082993497189463\n"
     ]
    },
    {
     "data": {
      "image/png": "[encoded data removed]",
      "text/plain": [
       "<Figure size 432x288 with 2 Axes>"
      ]
     },
     "metadata": {
      "needs_background": "light"
     },
     "output_type": "display_data"
    }
   ],
   "source": [
    "# create model\n",
    "testValuesNodes = []\n",
    "trainValuesNodes = []\n",
    "model = Sequential()\n",
    "model.add(Dense(10, input_dim=12, activation='relu'))\n",
    "model.add(Dense(10, activation='tanh'))\n",
    "model.add(Dense(7, activation='tanh'))\n",
    "model.add(Dense(1, activation='sigmoid'))\n",
    "# Compile model\n",
    "model.compile(loss='binary_crossentropy', optimizer='adam', metrics=['accuracy'])\n",
    "# Fit the model\n",
    "model.fit(X_train, y_train, epochs=10, batch_size=10)\n",
    "\n",
    "y_pred = model.predict(X_test)\n",
    "thresh = 0.5\n",
    "y_pred = pd.Series(y_pred.flatten())\n",
    "y_pred = (y_pred > thresh).astype(np.int)\n",
    "sns.heatmap(pd.DataFrame(confusion_matrix(y_test,y_pred)),annot=True,fmt=\"g\",cmap='viridis')\n",
    "\n",
    "y_predTrain = model.predict(X_train)\n",
    "thresh = 0.5\n",
    "y_predTrain = pd.Series(y_predTrain.flatten())\n",
    "y_predTrain = (y_predTrain > thresh).astype(np.int)\n",
    "\n",
    "print('Accuracy->', metrics.accuracy_score(y_test,y_pred))\n",
    "testValuesNodes.append(metrics.accuracy_score(y_test,y_pred))\n",
    "\n",
    "print('Accuracy Train->', metrics.accuracy_score(y_train,y_predTrain))\n",
    "trainValuesNodes.append(metrics.accuracy_score(y_train,y_predTrain))"
   ]
  },
  {
   "cell_type": "code",
   "execution_count": 41,
   "metadata": {},
   "outputs": [
    {
     "name": "stdout",
     "output_type": "stream",
     "text": [
      "Epoch 1/10\n",
      "36292/36292 [==============================] - 12s 321us/step - loss: 0.3466 - accuracy: 0.8518\n",
      "Epoch 2/10\n",
      "36292/36292 [==============================] - 11s 300us/step - loss: 0.2419 - accuracy: 0.8939\n",
      "Epoch 3/10\n",
      "36292/36292 [==============================] - 11s 303us/step - loss: 0.2242 - accuracy: 0.9004\n",
      "Epoch 4/10\n",
      "36292/36292 [==============================] - 11s 303us/step - loss: 0.2163 - accuracy: 0.9011\n",
      "Epoch 5/10\n",
      "36292/36292 [==============================] - 11s 302us/step - loss: 0.2126 - accuracy: 0.9025\n",
      "Epoch 6/10\n",
      "36292/36292 [==============================] - 11s 303us/step - loss: 0.2091 - accuracy: 0.9053\n",
      "Epoch 7/10\n",
      "36292/36292 [==============================] - 11s 302us/step - loss: 0.2067 - accuracy: 0.9042\n",
      "Epoch 8/10\n",
      "36292/36292 [==============================] - 11s 301us/step - loss: 0.2061 - accuracy: 0.9049\n",
      "Epoch 9/10\n",
      "36292/36292 [==============================] - 11s 301us/step - loss: 0.2043 - accuracy: 0.9047\n",
      "Epoch 10/10\n",
      "36292/36292 [==============================] - 11s 301us/step - loss: 0.2026 - accuracy: 0.9051\n",
      "Accuracy-> 0.8979541227526349\n",
      "Accuracy Train-> 0.9033120246886366\n"
     ]
    },
    {
     "data": {
      "image/png": "[encoded data removed]",
      "text/plain": [
       "<Figure size 432x288 with 2 Axes>"
      ]
     },
     "metadata": {
      "needs_background": "light"
     },
     "output_type": "display_data"
    }
   ],
   "source": [
    "# create model\n",
    "model = Sequential()\n",
    "model.add(Dense(10, input_dim=12, activation='relu'))\n",
    "model.add(Dense(8, activation='tanh'))\n",
    "model.add(Dense(10, activation='tanh'))\n",
    "model.add(Dense(1, activation='sigmoid'))\n",
    "# Compile model\n",
    "model.compile(loss='binary_crossentropy', optimizer='adam', metrics=['accuracy'])\n",
    "# Fit the model\n",
    "model.fit(X_train, y_train, epochs=10, batch_size=10)\n",
    "\n",
    "y_pred = model.predict(X_test)\n",
    "thresh = 0.5\n",
    "y_pred = pd.Series(y_pred.flatten())\n",
    "y_pred = (y_pred > thresh).astype(np.int)\n",
    "sns.heatmap(pd.DataFrame(confusion_matrix(y_test,y_pred)),annot=True,fmt=\"g\",cmap='viridis')\n",
    "\n",
    "y_predTrain = model.predict(X_train)\n",
    "thresh = 0.5\n",
    "y_predTrain = pd.Series(y_predTrain.flatten())\n",
    "y_predTrain = (y_predTrain > thresh).astype(np.int)\n",
    "\n",
    "print('Accuracy->', metrics.accuracy_score(y_test,y_pred))\n",
    "testValuesNodes.append(metrics.accuracy_score(y_test,y_pred))\n",
    "\n",
    "print('Accuracy Train->', metrics.accuracy_score(y_train,y_predTrain))\n",
    "trainValuesNodes.append(metrics.accuracy_score(y_train,y_predTrain))"
   ]
  },
  {
   "cell_type": "code",
   "execution_count": 42,
   "metadata": {},
   "outputs": [
    {
     "name": "stdout",
     "output_type": "stream",
     "text": [
      "Epoch 1/10\n",
      "36292/36292 [==============================] - 11s 309us/step - loss: 0.3855 - accuracy: 0.8303\n",
      "Epoch 2/10\n",
      "36292/36292 [==============================] - 11s 291us/step - loss: 0.2559 - accuracy: 0.8813\n",
      "Epoch 3/10\n",
      "36292/36292 [==============================] - 12s 318us/step - loss: 0.2276 - accuracy: 0.8974\n",
      "Epoch 4/10\n",
      "36292/36292 [==============================] - 13s 357us/step - loss: 0.2173 - accuracy: 0.9034\n",
      "Epoch 5/10\n",
      "36292/36292 [==============================] - 11s 292us/step - loss: 0.2107 - accuracy: 0.9048\n",
      "Epoch 6/10\n",
      "36292/36292 [==============================] - 11s 301us/step - loss: 0.2064 - accuracy: 0.9050\n",
      "Epoch 7/10\n",
      "36292/36292 [==============================] - 11s 300us/step - loss: 0.2036 - accuracy: 0.9055\n",
      "Epoch 8/10\n",
      "36292/36292 [==============================] - 11s 304us/step - loss: 0.2005 - accuracy: 0.9060\n",
      "Epoch 9/10\n",
      "36292/36292 [==============================] - 11s 312us/step - loss: 0.1982 - accuracy: 0.9060\n",
      "Epoch 10/10\n",
      "36292/36292 [==============================] - 11s 303us/step - loss: 0.1955 - accuracy: 0.9079\n",
      "Accuracy-> 0.904980367844596\n",
      "Accuracy Train-> 0.9095392924060399\n"
     ]
    },
    {
     "data": {
      "image/png": "[encoded data removed]",
      "text/plain": [
       "<Figure size 432x288 with 2 Axes>"
      ]
     },
     "metadata": {
      "needs_background": "light"
     },
     "output_type": "display_data"
    }
   ],
   "source": [
    "# create model\n",
    "model = Sequential()\n",
    "model.add(Dense(14, input_dim=12, activation='relu'))\n",
    "model.add(Dense(7, activation='tanh'))\n",
    "model.add(Dense(5, activation='tanh'))\n",
    "model.add(Dense(1, activation='sigmoid'))\n",
    "# Compile model\n",
    "model.compile(loss='binary_crossentropy', optimizer='adam', metrics=['accuracy'])\n",
    "# Fit the model\n",
    "model.fit(X_train, y_train, epochs=10, batch_size=10)\n",
    "\n",
    "y_pred = model.predict(X_test)\n",
    "thresh = 0.5\n",
    "y_pred = pd.Series(y_pred.flatten())\n",
    "y_pred = (y_pred > thresh).astype(np.int)\n",
    "sns.heatmap(pd.DataFrame(confusion_matrix(y_test,y_pred)),annot=True,fmt=\"g\",cmap='viridis')\n",
    "\n",
    "y_predTrain = model.predict(X_train)\n",
    "thresh = 0.5\n",
    "y_predTrain = pd.Series(y_predTrain.flatten())\n",
    "y_predTrain = (y_predTrain > thresh).astype(np.int)\n",
    "\n",
    "print('Accuracy->', metrics.accuracy_score(y_test,y_pred))\n",
    "testValuesNodes.append(metrics.accuracy_score(y_test,y_pred))\n",
    "\n",
    "print('Accuracy Train->', metrics.accuracy_score(y_train,y_predTrain))\n",
    "trainValuesNodes.append(metrics.accuracy_score(y_train,y_predTrain))"
   ]
  },
  {
   "cell_type": "code",
   "execution_count": 43,
   "metadata": {},
   "outputs": [
    {
     "data": {
      "image/png": "[encoded data removed]",
      "text/plain": [
       "<Figure size 432x288 with 1 Axes>"
      ]
     },
     "metadata": {
      "needs_background": "light"
     },
     "output_type": "display_data"
    }
   ],
   "source": [
    "# Generate plot \n",
    "plt.plot(['nodeset1', 'nodeset2', 'nodeset3'], testValuesNodes, 'o-', label = 'Testing dataset Accuracy') \n",
    "plt.plot(['nodeset1', 'nodeset2', 'nodeset3'], trainValuesNodes, 'o-', label = 'Training dataset Accuracy') \n",
    "  \n",
    "plt.legend() \n",
    "plt.xlabel('Number of Nodes') \n",
    "plt.ylabel('Accuracy') \n",
    "plt.title(\"Accuracy for different number of nodes\")\n",
    "plt.show()"
   ]
  },
  {
   "cell_type": "code",
   "execution_count": null,
   "metadata": {},
   "outputs": [],
   "source": []
  }
 ],
 "metadata": {
  "kernelspec": {
   "display_name": "Python 3",
   "language": "python",
   "name": "python3"
  },
  "language_info": {
   "codemirror_mode": {
    "name": "ipython",
    "version": 3
   },
   "file_extension": ".py",
   "mimetype": "text/x-python",
   "name": "python",
   "nbconvert_exporter": "python",
   "pygments_lexer": "ipython3",
   "version": "3.6.3"
  }
 },
 "nbformat": 4,
 "nbformat_minor": 2
}
