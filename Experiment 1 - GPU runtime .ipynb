{
 "cells": [
  {
   "cell_type": "code",
   "execution_count": 2,
   "metadata": {},
   "outputs": [
    {
     "name": "stdout",
     "output_type": "stream",
     "text": [
      "Collecting chart-studio\n",
      "  Downloading https://files.pythonhosted.org/packages/b9/3f/d2f3f506ba1aaf109f549f8b01d1483cd3e324c5ebe6b206acee66efdf46/chart_studio-1.0.0-py3-none-any.whl (76kB)\n",
      "Collecting plotly (from chart-studio)\n",
      "  Downloading https://files.pythonhosted.org/packages/06/e1/88762ade699460dc3229c890f9845d16484a40955a590b65052f0958613c/plotly-4.5.0-py2.py3-none-any.whl (7.1MB)\n",
      "Requirement already satisfied: requests in c:\\users\\vardh\\anaconda3\\lib\\site-packages (from chart-studio) (2.22.0)\n",
      "Collecting retrying>=1.3.3 (from chart-studio)\n",
      "  Downloading https://files.pythonhosted.org/packages/44/ef/beae4b4ef80902f22e3af073397f079c96969c69b2c7d52a57ea9ae61c9d/retrying-1.3.3.tar.gz\n",
      "Requirement already satisfied: six in c:\\users\\vardh\\appdata\\roaming\\python\\python37\\site-packages (from chart-studio) (1.12.0)\n",
      "Requirement already satisfied: idna<2.9,>=2.5 in c:\\users\\vardh\\anaconda3\\lib\\site-packages (from requests->chart-studio) (2.8)\n",
      "Requirement already satisfied: chardet<3.1.0,>=3.0.2 in c:\\users\\vardh\\anaconda3\\lib\\site-packages (from requests->chart-studio) (3.0.4)\n",
      "Requirement already satisfied: urllib3!=1.25.0,!=1.25.1,<1.26,>=1.21.1 in c:\\users\\vardh\\anaconda3\\lib\\site-packages (from requests->chart-studio) (1.24.2)\n",
      "Requirement already satisfied: certifi>=2017.4.17 in c:\\users\\vardh\\anaconda3\\lib\\site-packages (from requests->chart-studio) (2019.6.16)\n",
      "Building wheels for collected packages: retrying\n",
      "  Building wheel for retrying (setup.py): started\n",
      "  Building wheel for retrying (setup.py): finished with status 'done'\n",
      "  Stored in directory: C:\\Users\\vardh\\AppData\\Local\\pip\\Cache\\wheels\\d7\\a9\\33\\acc7b709e2a35caa7d4cae442f6fe6fbf2c43f80823d46460c\n",
      "Successfully built retrying\n",
      "Installing collected packages: retrying, plotly, chart-studio\n",
      "Successfully installed chart-studio-1.0.0 plotly-4.5.0 retrying-1.3.3\n"
     ]
    }
   ],
   "source": [
    "#Download chart library\n",
    "!pip install chart-studio"
   ]
  },
  {
   "cell_type": "code",
   "execution_count": 3,
   "metadata": {},
   "outputs": [
    {
     "data": {
      "text/html": [
       "        <script type=\"text/javascript\">\n",
       "        window.PlotlyConfig = {MathJaxConfig: 'local'};\n",
       "        if (window.MathJax) {MathJax.Hub.Config({SVG: {font: \"STIX-Web\"}});}\n",
       "        if (typeof require !== 'undefined') {\n",
       "        require.undef(\"plotly\");\n",
       "        requirejs.config({\n",
       "            paths: {\n",
       "                'plotly': ['https://cdn.plot.ly/plotly-latest.min']\n",
       "            }\n",
       "        });\n",
       "        require(['plotly'], function(Plotly) {\n",
       "            window._Plotly = Plotly;\n",
       "        });\n",
       "        }\n",
       "        </script>\n",
       "        "
      ]
     },
     "metadata": {},
     "output_type": "display_data"
    }
   ],
   "source": [
    "import numpy as np\n",
    "import pandas as pd\n",
    "import matplotlib.pyplot as plt\n",
    "import seaborn as sns\n",
    "from sklearn.model_selection import train_test_split\n",
    "from sklearn.preprocessing import StandardScaler \n",
    "from sklearn import preprocessing, model_selection, metrics\n",
    "import chart_studio.plotly as py\n",
    "from plotly.offline import init_notebook_mode, iplot\n",
    "init_notebook_mode(connected=True)\n",
    "import plotly.graph_objs as go\n",
    "import warnings\n",
    "warnings.filterwarnings('ignore')"
   ]
  },
  {
   "cell_type": "code",
   "execution_count": 4,
   "metadata": {},
   "outputs": [],
   "source": [
    "#Set Seed\n",
    "np.random.seed(2020)"
   ]
  },
  {
   "cell_type": "markdown",
   "metadata": {},
   "source": [
    "# Reading the data"
   ]
  },
  {
   "cell_type": "code",
   "execution_count": 6,
   "metadata": {},
   "outputs": [
    {
     "data": {
      "text/plain": [
       "(241600, 18)"
      ]
     },
     "execution_count": 6,
     "metadata": {},
     "output_type": "execute_result"
    }
   ],
   "source": [
    "gpu_usage =pd.read_csv(\"sgemm_product.csv\")\n",
    "gpu_usage.shape"
   ]
  },
  {
   "cell_type": "code",
   "execution_count": 7,
   "metadata": {},
   "outputs": [
    {
     "name": "stdout",
     "output_type": "stream",
     "text": [
      "<class 'pandas.core.frame.DataFrame'>\n",
      "RangeIndex: 241600 entries, 0 to 241599\n",
      "Data columns (total 18 columns):\n",
      "MWG          241600 non-null int64\n",
      "NWG          241600 non-null int64\n",
      "KWG          241600 non-null int64\n",
      "MDIMC        241600 non-null int64\n",
      "NDIMC        241600 non-null int64\n",
      "MDIMA        241600 non-null int64\n",
      "NDIMB        241600 non-null int64\n",
      "KWI          241600 non-null int64\n",
      "VWM          241600 non-null int64\n",
      "VWN          241600 non-null int64\n",
      "STRM         241600 non-null int64\n",
      "STRN         241600 non-null int64\n",
      "SA           241600 non-null int64\n",
      "SB           241600 non-null int64\n",
      "Run1 (ms)    241600 non-null float64\n",
      "Run2 (ms)    241600 non-null float64\n",
      "Run3 (ms)    241600 non-null float64\n",
      "Run4 (ms)    241600 non-null float64\n",
      "dtypes: float64(4), int64(14)\n",
      "memory usage: 33.2 MB\n"
     ]
    }
   ],
   "source": [
    "gpu_usage_1=gpu_usage\n",
    "gpu_usage_1.info()"
   ]
  },
  {
   "cell_type": "code",
   "execution_count": 10,
   "metadata": {},
   "outputs": [
    {
     "data": {
      "text/html": [
       "<div>\n",
       "<style scoped>\n",
       "    .dataframe tbody tr th:only-of-type {\n",
       "        vertical-align: middle;\n",
       "    }\n",
       "\n",
       "    .dataframe tbody tr th {\n",
       "        vertical-align: top;\n",
       "    }\n",
       "\n",
       "    .dataframe thead th {\n",
       "        text-align: right;\n",
       "    }\n",
       "</style>\n",
       "<table border=\"1\" class=\"dataframe\">\n",
       "  <thead>\n",
       "    <tr style=\"text-align: right;\">\n",
       "      <th></th>\n",
       "      <th>MWG</th>\n",
       "      <th>NWG</th>\n",
       "      <th>KWG</th>\n",
       "      <th>MDIMC</th>\n",
       "      <th>NDIMC</th>\n",
       "      <th>MDIMA</th>\n",
       "      <th>NDIMB</th>\n",
       "      <th>KWI</th>\n",
       "      <th>VWM</th>\n",
       "      <th>VWN</th>\n",
       "      <th>STRM</th>\n",
       "      <th>STRN</th>\n",
       "      <th>SA</th>\n",
       "      <th>SB</th>\n",
       "      <th>Run1 (ms)</th>\n",
       "      <th>Run2 (ms)</th>\n",
       "      <th>Run3 (ms)</th>\n",
       "      <th>Run4 (ms)</th>\n",
       "      <th>average_gpu_runtime</th>\n",
       "    </tr>\n",
       "  </thead>\n",
       "  <tbody>\n",
       "    <tr>\n",
       "      <th>0</th>\n",
       "      <td>16</td>\n",
       "      <td>16</td>\n",
       "      <td>16</td>\n",
       "      <td>8</td>\n",
       "      <td>8</td>\n",
       "      <td>8</td>\n",
       "      <td>8</td>\n",
       "      <td>2</td>\n",
       "      <td>1</td>\n",
       "      <td>1</td>\n",
       "      <td>0</td>\n",
       "      <td>0</td>\n",
       "      <td>0</td>\n",
       "      <td>0</td>\n",
       "      <td>115.26</td>\n",
       "      <td>115.87</td>\n",
       "      <td>118.55</td>\n",
       "      <td>115.80</td>\n",
       "      <td>116.3700</td>\n",
       "    </tr>\n",
       "    <tr>\n",
       "      <th>1</th>\n",
       "      <td>16</td>\n",
       "      <td>16</td>\n",
       "      <td>16</td>\n",
       "      <td>8</td>\n",
       "      <td>8</td>\n",
       "      <td>8</td>\n",
       "      <td>8</td>\n",
       "      <td>2</td>\n",
       "      <td>1</td>\n",
       "      <td>1</td>\n",
       "      <td>0</td>\n",
       "      <td>0</td>\n",
       "      <td>0</td>\n",
       "      <td>1</td>\n",
       "      <td>78.13</td>\n",
       "      <td>78.25</td>\n",
       "      <td>79.25</td>\n",
       "      <td>79.19</td>\n",
       "      <td>78.7050</td>\n",
       "    </tr>\n",
       "    <tr>\n",
       "      <th>2</th>\n",
       "      <td>16</td>\n",
       "      <td>16</td>\n",
       "      <td>16</td>\n",
       "      <td>8</td>\n",
       "      <td>8</td>\n",
       "      <td>8</td>\n",
       "      <td>8</td>\n",
       "      <td>2</td>\n",
       "      <td>1</td>\n",
       "      <td>1</td>\n",
       "      <td>0</td>\n",
       "      <td>0</td>\n",
       "      <td>1</td>\n",
       "      <td>0</td>\n",
       "      <td>79.84</td>\n",
       "      <td>80.69</td>\n",
       "      <td>80.76</td>\n",
       "      <td>80.97</td>\n",
       "      <td>80.5650</td>\n",
       "    </tr>\n",
       "    <tr>\n",
       "      <th>3</th>\n",
       "      <td>16</td>\n",
       "      <td>16</td>\n",
       "      <td>16</td>\n",
       "      <td>8</td>\n",
       "      <td>8</td>\n",
       "      <td>8</td>\n",
       "      <td>8</td>\n",
       "      <td>2</td>\n",
       "      <td>1</td>\n",
       "      <td>1</td>\n",
       "      <td>0</td>\n",
       "      <td>0</td>\n",
       "      <td>1</td>\n",
       "      <td>1</td>\n",
       "      <td>84.32</td>\n",
       "      <td>89.90</td>\n",
       "      <td>86.75</td>\n",
       "      <td>85.58</td>\n",
       "      <td>86.6375</td>\n",
       "    </tr>\n",
       "    <tr>\n",
       "      <th>4</th>\n",
       "      <td>16</td>\n",
       "      <td>16</td>\n",
       "      <td>16</td>\n",
       "      <td>8</td>\n",
       "      <td>8</td>\n",
       "      <td>8</td>\n",
       "      <td>8</td>\n",
       "      <td>2</td>\n",
       "      <td>1</td>\n",
       "      <td>1</td>\n",
       "      <td>0</td>\n",
       "      <td>1</td>\n",
       "      <td>0</td>\n",
       "      <td>0</td>\n",
       "      <td>115.13</td>\n",
       "      <td>121.98</td>\n",
       "      <td>122.73</td>\n",
       "      <td>114.81</td>\n",
       "      <td>118.6625</td>\n",
       "    </tr>\n",
       "    <tr>\n",
       "      <th>5</th>\n",
       "      <td>16</td>\n",
       "      <td>16</td>\n",
       "      <td>16</td>\n",
       "      <td>8</td>\n",
       "      <td>8</td>\n",
       "      <td>8</td>\n",
       "      <td>8</td>\n",
       "      <td>2</td>\n",
       "      <td>1</td>\n",
       "      <td>1</td>\n",
       "      <td>0</td>\n",
       "      <td>1</td>\n",
       "      <td>0</td>\n",
       "      <td>1</td>\n",
       "      <td>81.10</td>\n",
       "      <td>82.41</td>\n",
       "      <td>87.01</td>\n",
       "      <td>82.14</td>\n",
       "      <td>83.1650</td>\n",
       "    </tr>\n",
       "    <tr>\n",
       "      <th>6</th>\n",
       "      <td>16</td>\n",
       "      <td>16</td>\n",
       "      <td>16</td>\n",
       "      <td>8</td>\n",
       "      <td>8</td>\n",
       "      <td>8</td>\n",
       "      <td>8</td>\n",
       "      <td>2</td>\n",
       "      <td>1</td>\n",
       "      <td>1</td>\n",
       "      <td>0</td>\n",
       "      <td>1</td>\n",
       "      <td>1</td>\n",
       "      <td>0</td>\n",
       "      <td>83.31</td>\n",
       "      <td>82.86</td>\n",
       "      <td>88.60</td>\n",
       "      <td>82.97</td>\n",
       "      <td>84.4350</td>\n",
       "    </tr>\n",
       "    <tr>\n",
       "      <th>7</th>\n",
       "      <td>16</td>\n",
       "      <td>16</td>\n",
       "      <td>16</td>\n",
       "      <td>8</td>\n",
       "      <td>8</td>\n",
       "      <td>8</td>\n",
       "      <td>8</td>\n",
       "      <td>2</td>\n",
       "      <td>1</td>\n",
       "      <td>1</td>\n",
       "      <td>0</td>\n",
       "      <td>1</td>\n",
       "      <td>1</td>\n",
       "      <td>1</td>\n",
       "      <td>93.13</td>\n",
       "      <td>94.30</td>\n",
       "      <td>96.19</td>\n",
       "      <td>94.43</td>\n",
       "      <td>94.5125</td>\n",
       "    </tr>\n",
       "    <tr>\n",
       "      <th>8</th>\n",
       "      <td>16</td>\n",
       "      <td>16</td>\n",
       "      <td>16</td>\n",
       "      <td>8</td>\n",
       "      <td>8</td>\n",
       "      <td>8</td>\n",
       "      <td>8</td>\n",
       "      <td>2</td>\n",
       "      <td>1</td>\n",
       "      <td>1</td>\n",
       "      <td>1</td>\n",
       "      <td>0</td>\n",
       "      <td>0</td>\n",
       "      <td>0</td>\n",
       "      <td>117.38</td>\n",
       "      <td>116.95</td>\n",
       "      <td>124.15</td>\n",
       "      <td>117.83</td>\n",
       "      <td>119.0775</td>\n",
       "    </tr>\n",
       "    <tr>\n",
       "      <th>9</th>\n",
       "      <td>16</td>\n",
       "      <td>16</td>\n",
       "      <td>16</td>\n",
       "      <td>8</td>\n",
       "      <td>8</td>\n",
       "      <td>8</td>\n",
       "      <td>8</td>\n",
       "      <td>2</td>\n",
       "      <td>1</td>\n",
       "      <td>1</td>\n",
       "      <td>1</td>\n",
       "      <td>0</td>\n",
       "      <td>0</td>\n",
       "      <td>1</td>\n",
       "      <td>85.76</td>\n",
       "      <td>85.30</td>\n",
       "      <td>86.96</td>\n",
       "      <td>87.19</td>\n",
       "      <td>86.3025</td>\n",
       "    </tr>\n",
       "  </tbody>\n",
       "</table>\n",
       "</div>"
      ],
      "text/plain": [
       "   MWG  NWG  KWG  MDIMC  NDIMC  MDIMA  NDIMB  KWI  VWM  VWN  STRM  STRN  SA  \\\n",
       "0   16   16   16      8      8      8      8    2    1    1     0     0   0   \n",
       "1   16   16   16      8      8      8      8    2    1    1     0     0   0   \n",
       "2   16   16   16      8      8      8      8    2    1    1     0     0   1   \n",
       "3   16   16   16      8      8      8      8    2    1    1     0     0   1   \n",
       "4   16   16   16      8      8      8      8    2    1    1     0     1   0   \n",
       "5   16   16   16      8      8      8      8    2    1    1     0     1   0   \n",
       "6   16   16   16      8      8      8      8    2    1    1     0     1   1   \n",
       "7   16   16   16      8      8      8      8    2    1    1     0     1   1   \n",
       "8   16   16   16      8      8      8      8    2    1    1     1     0   0   \n",
       "9   16   16   16      8      8      8      8    2    1    1     1     0   0   \n",
       "\n",
       "   SB  Run1 (ms)  Run2 (ms)  Run3 (ms)  Run4 (ms)  average_gpu_runtime  \n",
       "0   0     115.26     115.87     118.55     115.80             116.3700  \n",
       "1   1      78.13      78.25      79.25      79.19              78.7050  \n",
       "2   0      79.84      80.69      80.76      80.97              80.5650  \n",
       "3   1      84.32      89.90      86.75      85.58              86.6375  \n",
       "4   0     115.13     121.98     122.73     114.81             118.6625  \n",
       "5   1      81.10      82.41      87.01      82.14              83.1650  \n",
       "6   0      83.31      82.86      88.60      82.97              84.4350  \n",
       "7   1      93.13      94.30      96.19      94.43              94.5125  \n",
       "8   0     117.38     116.95     124.15     117.83             119.0775  \n",
       "9   1      85.76      85.30      86.96      87.19              86.3025  "
      ]
     },
     "execution_count": 10,
     "metadata": {},
     "output_type": "execute_result"
    }
   ],
   "source": [
    "#Calculate the average and setting the average_gpu_usage column\n",
    "gpu_usage['average_gpu_runtime'] = gpu_usage[['Run1 (ms)', 'Run2 (ms)', 'Run3 (ms)', 'Run4 (ms)']].mean(axis = 1)\n",
    "gpu_usage.head(10)"
   ]
  },
  {
   "cell_type": "code",
   "execution_count": 11,
   "metadata": {},
   "outputs": [
    {
     "name": "stdout",
     "output_type": "stream",
     "text": [
      "<class 'pandas.core.frame.DataFrame'>\n",
      "RangeIndex: 241600 entries, 0 to 241599\n",
      "Data columns (total 19 columns):\n",
      "MWG                    241600 non-null int64\n",
      "NWG                    241600 non-null int64\n",
      "KWG                    241600 non-null int64\n",
      "MDIMC                  241600 non-null int64\n",
      "NDIMC                  241600 non-null int64\n",
      "MDIMA                  241600 non-null int64\n",
      "NDIMB                  241600 non-null int64\n",
      "KWI                    241600 non-null int64\n",
      "VWM                    241600 non-null int64\n",
      "VWN                    241600 non-null int64\n",
      "STRM                   241600 non-null int64\n",
      "STRN                   241600 non-null int64\n",
      "SA                     241600 non-null int64\n",
      "SB                     241600 non-null int64\n",
      "Run1 (ms)              241600 non-null float64\n",
      "Run2 (ms)              241600 non-null float64\n",
      "Run3 (ms)              241600 non-null float64\n",
      "Run4 (ms)              241600 non-null float64\n",
      "average_gpu_runtime    241600 non-null float64\n",
      "dtypes: float64(5), int64(14)\n",
      "memory usage: 35.0 MB\n"
     ]
    }
   ],
   "source": [
    "gpu_usage.info()"
   ]
  },
  {
   "cell_type": "code",
   "execution_count": 12,
   "metadata": {},
   "outputs": [
    {
     "data": {
      "text/html": [
       "<div>\n",
       "<style scoped>\n",
       "    .dataframe tbody tr th:only-of-type {\n",
       "        vertical-align: middle;\n",
       "    }\n",
       "\n",
       "    .dataframe tbody tr th {\n",
       "        vertical-align: top;\n",
       "    }\n",
       "\n",
       "    .dataframe thead th {\n",
       "        text-align: right;\n",
       "    }\n",
       "</style>\n",
       "<table border=\"1\" class=\"dataframe\">\n",
       "  <thead>\n",
       "    <tr style=\"text-align: right;\">\n",
       "      <th></th>\n",
       "      <th>MWG</th>\n",
       "      <th>NWG</th>\n",
       "      <th>KWG</th>\n",
       "      <th>MDIMC</th>\n",
       "      <th>NDIMC</th>\n",
       "      <th>MDIMA</th>\n",
       "      <th>NDIMB</th>\n",
       "      <th>KWI</th>\n",
       "      <th>VWM</th>\n",
       "      <th>VWN</th>\n",
       "      <th>STRM</th>\n",
       "      <th>STRN</th>\n",
       "      <th>SA</th>\n",
       "      <th>SB</th>\n",
       "      <th>Run1 (ms)</th>\n",
       "      <th>Run2 (ms)</th>\n",
       "      <th>Run3 (ms)</th>\n",
       "      <th>Run4 (ms)</th>\n",
       "      <th>average_gpu_runtime</th>\n",
       "    </tr>\n",
       "  </thead>\n",
       "  <tbody>\n",
       "    <tr>\n",
       "      <th>count</th>\n",
       "      <td>241600.000000</td>\n",
       "      <td>241600.000000</td>\n",
       "      <td>241600.000000</td>\n",
       "      <td>241600.000000</td>\n",
       "      <td>241600.000000</td>\n",
       "      <td>241600.000000</td>\n",
       "      <td>241600.000000</td>\n",
       "      <td>241600.000000</td>\n",
       "      <td>241600.000000</td>\n",
       "      <td>241600.000000</td>\n",
       "      <td>241600.000000</td>\n",
       "      <td>241600.000000</td>\n",
       "      <td>241600.000000</td>\n",
       "      <td>241600.000000</td>\n",
       "      <td>241600.000000</td>\n",
       "      <td>241600.000000</td>\n",
       "      <td>241600.000000</td>\n",
       "      <td>241600.000000</td>\n",
       "      <td>241600.000000</td>\n",
       "    </tr>\n",
       "    <tr>\n",
       "      <th>mean</th>\n",
       "      <td>80.415364</td>\n",
       "      <td>80.415364</td>\n",
       "      <td>25.513113</td>\n",
       "      <td>13.935894</td>\n",
       "      <td>13.935894</td>\n",
       "      <td>17.371126</td>\n",
       "      <td>17.371126</td>\n",
       "      <td>5.000000</td>\n",
       "      <td>2.448609</td>\n",
       "      <td>2.448609</td>\n",
       "      <td>0.500000</td>\n",
       "      <td>0.500000</td>\n",
       "      <td>0.500000</td>\n",
       "      <td>0.500000</td>\n",
       "      <td>217.647852</td>\n",
       "      <td>217.579536</td>\n",
       "      <td>217.532756</td>\n",
       "      <td>217.527669</td>\n",
       "      <td>217.571953</td>\n",
       "    </tr>\n",
       "    <tr>\n",
       "      <th>std</th>\n",
       "      <td>42.469220</td>\n",
       "      <td>42.469220</td>\n",
       "      <td>7.855619</td>\n",
       "      <td>7.873662</td>\n",
       "      <td>7.873662</td>\n",
       "      <td>9.389418</td>\n",
       "      <td>9.389418</td>\n",
       "      <td>3.000006</td>\n",
       "      <td>1.953759</td>\n",
       "      <td>1.953759</td>\n",
       "      <td>0.500001</td>\n",
       "      <td>0.500001</td>\n",
       "      <td>0.500001</td>\n",
       "      <td>0.500001</td>\n",
       "      <td>369.012422</td>\n",
       "      <td>368.677309</td>\n",
       "      <td>368.655118</td>\n",
       "      <td>368.677413</td>\n",
       "      <td>368.750161</td>\n",
       "    </tr>\n",
       "    <tr>\n",
       "      <th>min</th>\n",
       "      <td>16.000000</td>\n",
       "      <td>16.000000</td>\n",
       "      <td>16.000000</td>\n",
       "      <td>8.000000</td>\n",
       "      <td>8.000000</td>\n",
       "      <td>8.000000</td>\n",
       "      <td>8.000000</td>\n",
       "      <td>2.000000</td>\n",
       "      <td>1.000000</td>\n",
       "      <td>1.000000</td>\n",
       "      <td>0.000000</td>\n",
       "      <td>0.000000</td>\n",
       "      <td>0.000000</td>\n",
       "      <td>0.000000</td>\n",
       "      <td>13.290000</td>\n",
       "      <td>13.250000</td>\n",
       "      <td>13.360000</td>\n",
       "      <td>13.370000</td>\n",
       "      <td>13.317500</td>\n",
       "    </tr>\n",
       "    <tr>\n",
       "      <th>25%</th>\n",
       "      <td>32.000000</td>\n",
       "      <td>32.000000</td>\n",
       "      <td>16.000000</td>\n",
       "      <td>8.000000</td>\n",
       "      <td>8.000000</td>\n",
       "      <td>8.000000</td>\n",
       "      <td>8.000000</td>\n",
       "      <td>2.000000</td>\n",
       "      <td>1.000000</td>\n",
       "      <td>1.000000</td>\n",
       "      <td>0.000000</td>\n",
       "      <td>0.000000</td>\n",
       "      <td>0.000000</td>\n",
       "      <td>0.000000</td>\n",
       "      <td>40.660000</td>\n",
       "      <td>40.710000</td>\n",
       "      <td>40.660000</td>\n",
       "      <td>40.640000</td>\n",
       "      <td>40.667500</td>\n",
       "    </tr>\n",
       "    <tr>\n",
       "      <th>50%</th>\n",
       "      <td>64.000000</td>\n",
       "      <td>64.000000</td>\n",
       "      <td>32.000000</td>\n",
       "      <td>8.000000</td>\n",
       "      <td>8.000000</td>\n",
       "      <td>16.000000</td>\n",
       "      <td>16.000000</td>\n",
       "      <td>5.000000</td>\n",
       "      <td>2.000000</td>\n",
       "      <td>2.000000</td>\n",
       "      <td>0.500000</td>\n",
       "      <td>0.500000</td>\n",
       "      <td>0.500000</td>\n",
       "      <td>0.500000</td>\n",
       "      <td>69.825000</td>\n",
       "      <td>69.930000</td>\n",
       "      <td>69.790000</td>\n",
       "      <td>69.820000</td>\n",
       "      <td>69.790000</td>\n",
       "    </tr>\n",
       "    <tr>\n",
       "      <th>75%</th>\n",
       "      <td>128.000000</td>\n",
       "      <td>128.000000</td>\n",
       "      <td>32.000000</td>\n",
       "      <td>16.000000</td>\n",
       "      <td>16.000000</td>\n",
       "      <td>32.000000</td>\n",
       "      <td>32.000000</td>\n",
       "      <td>8.000000</td>\n",
       "      <td>4.000000</td>\n",
       "      <td>4.000000</td>\n",
       "      <td>1.000000</td>\n",
       "      <td>1.000000</td>\n",
       "      <td>1.000000</td>\n",
       "      <td>1.000000</td>\n",
       "      <td>228.530000</td>\n",
       "      <td>228.310000</td>\n",
       "      <td>228.320000</td>\n",
       "      <td>228.320000</td>\n",
       "      <td>228.387500</td>\n",
       "    </tr>\n",
       "    <tr>\n",
       "      <th>max</th>\n",
       "      <td>128.000000</td>\n",
       "      <td>128.000000</td>\n",
       "      <td>32.000000</td>\n",
       "      <td>32.000000</td>\n",
       "      <td>32.000000</td>\n",
       "      <td>32.000000</td>\n",
       "      <td>32.000000</td>\n",
       "      <td>8.000000</td>\n",
       "      <td>8.000000</td>\n",
       "      <td>8.000000</td>\n",
       "      <td>1.000000</td>\n",
       "      <td>1.000000</td>\n",
       "      <td>1.000000</td>\n",
       "      <td>1.000000</td>\n",
       "      <td>3339.630000</td>\n",
       "      <td>3375.420000</td>\n",
       "      <td>3397.080000</td>\n",
       "      <td>3361.710000</td>\n",
       "      <td>3341.507500</td>\n",
       "    </tr>\n",
       "  </tbody>\n",
       "</table>\n",
       "</div>"
      ],
      "text/plain": [
       "                 MWG            NWG            KWG          MDIMC  \\\n",
       "count  241600.000000  241600.000000  241600.000000  241600.000000   \n",
       "mean       80.415364      80.415364      25.513113      13.935894   \n",
       "std        42.469220      42.469220       7.855619       7.873662   \n",
       "min        16.000000      16.000000      16.000000       8.000000   \n",
       "25%        32.000000      32.000000      16.000000       8.000000   \n",
       "50%        64.000000      64.000000      32.000000       8.000000   \n",
       "75%       128.000000     128.000000      32.000000      16.000000   \n",
       "max       128.000000     128.000000      32.000000      32.000000   \n",
       "\n",
       "               NDIMC          MDIMA          NDIMB            KWI  \\\n",
       "count  241600.000000  241600.000000  241600.000000  241600.000000   \n",
       "mean       13.935894      17.371126      17.371126       5.000000   \n",
       "std         7.873662       9.389418       9.389418       3.000006   \n",
       "min         8.000000       8.000000       8.000000       2.000000   \n",
       "25%         8.000000       8.000000       8.000000       2.000000   \n",
       "50%         8.000000      16.000000      16.000000       5.000000   \n",
       "75%        16.000000      32.000000      32.000000       8.000000   \n",
       "max        32.000000      32.000000      32.000000       8.000000   \n",
       "\n",
       "                 VWM            VWN           STRM           STRN  \\\n",
       "count  241600.000000  241600.000000  241600.000000  241600.000000   \n",
       "mean        2.448609       2.448609       0.500000       0.500000   \n",
       "std         1.953759       1.953759       0.500001       0.500001   \n",
       "min         1.000000       1.000000       0.000000       0.000000   \n",
       "25%         1.000000       1.000000       0.000000       0.000000   \n",
       "50%         2.000000       2.000000       0.500000       0.500000   \n",
       "75%         4.000000       4.000000       1.000000       1.000000   \n",
       "max         8.000000       8.000000       1.000000       1.000000   \n",
       "\n",
       "                  SA             SB      Run1 (ms)      Run2 (ms)  \\\n",
       "count  241600.000000  241600.000000  241600.000000  241600.000000   \n",
       "mean        0.500000       0.500000     217.647852     217.579536   \n",
       "std         0.500001       0.500001     369.012422     368.677309   \n",
       "min         0.000000       0.000000      13.290000      13.250000   \n",
       "25%         0.000000       0.000000      40.660000      40.710000   \n",
       "50%         0.500000       0.500000      69.825000      69.930000   \n",
       "75%         1.000000       1.000000     228.530000     228.310000   \n",
       "max         1.000000       1.000000    3339.630000    3375.420000   \n",
       "\n",
       "           Run3 (ms)      Run4 (ms)  average_gpu_runtime  \n",
       "count  241600.000000  241600.000000        241600.000000  \n",
       "mean      217.532756     217.527669           217.571953  \n",
       "std       368.655118     368.677413           368.750161  \n",
       "min        13.360000      13.370000            13.317500  \n",
       "25%        40.660000      40.640000            40.667500  \n",
       "50%        69.790000      69.820000            69.790000  \n",
       "75%       228.320000     228.320000           228.387500  \n",
       "max      3397.080000    3361.710000          3341.507500  "
      ]
     },
     "execution_count": 12,
     "metadata": {},
     "output_type": "execute_result"
    }
   ],
   "source": [
    "gpu_usage.describe()"
   ]
  },
  {
   "cell_type": "code",
   "execution_count": 14,
   "metadata": {},
   "outputs": [
    {
     "data": {
      "text/plain": [
       "(241600, 19)"
      ]
     },
     "execution_count": 14,
     "metadata": {},
     "output_type": "execute_result"
    }
   ],
   "source": [
    "gpu_usage.shape"
   ]
  },
  {
   "cell_type": "markdown",
   "metadata": {},
   "source": [
    "# Checking for NA"
   ]
  },
  {
   "cell_type": "code",
   "execution_count": 15,
   "metadata": {},
   "outputs": [
    {
     "data": {
      "text/plain": [
       "MWG                    0\n",
       "NWG                    0\n",
       "KWG                    0\n",
       "MDIMC                  0\n",
       "NDIMC                  0\n",
       "MDIMA                  0\n",
       "NDIMB                  0\n",
       "KWI                    0\n",
       "VWM                    0\n",
       "VWN                    0\n",
       "STRM                   0\n",
       "STRN                   0\n",
       "SA                     0\n",
       "SB                     0\n",
       "Run1 (ms)              0\n",
       "Run2 (ms)              0\n",
       "Run3 (ms)              0\n",
       "Run4 (ms)              0\n",
       "average_gpu_runtime    0\n",
       "dtype: int64"
      ]
     },
     "execution_count": 15,
     "metadata": {},
     "output_type": "execute_result"
    }
   ],
   "source": [
    "gpu_usage.isnull().sum()"
   ]
  },
  {
   "cell_type": "markdown",
   "metadata": {},
   "source": [
    "# Visualization"
   ]
  },
  {
   "cell_type": "code",
   "execution_count": 18,
   "metadata": {},
   "outputs": [
    {
     "name": "stdout",
     "output_type": "stream",
     "text": [
      "The number of the 0,1% top values of average gpu usage' load is 241 and they have average gpu runtime higher than 63.89\n"
     ]
    },
    {
     "data": {
      "text/plain": [
       "Text(0.5, 1.0, 'Average gpu runtime distribution')"
      ]
     },
     "execution_count": 18,
     "metadata": {},
     "output_type": "execute_result"
    },
    {
     "data": {
      "image/png": "[encoded data removed]",
      "text/plain": [
       "<Figure size 864x576 with 1 Axes>"
      ]
     },
     "metadata": {
      "needs_background": "light"
     },
     "output_type": "display_data"
    }
   ],
   "source": [
    "# Find outliers\n",
    "sorted_average_gpu_runtime = gpu_usage.sort_values('average_gpu_runtime',ascending=False)\n",
    "print(\"The number of the 0,1% top values of average gpu usage' load is\",\n",
    "      len(sorted_average_gpu_runtime.head(len(sorted_average_gpu_runtime)//1000)),\"and they have average gpu runtime higher than\",\n",
    "      sorted_average_gpu_runtime.average_gpu_runtime[19])\n",
    "\n",
    "# boxplot average_gpu_runtime\n",
    "plt.figure(figsize=(12,8))\n",
    "sns.boxplot(x=\"average_gpu_runtime\", data=gpu_usage)\n",
    "plt.xlabel('Average gpu runtime', fontsize=12)\n",
    "plt.title(\"Average gpu runtime distribution\", fontsize=15)"
   ]
  },
  {
   "cell_type": "code",
   "execution_count": 19,
   "metadata": {},
   "outputs": [
    {
     "name": "stdout",
     "output_type": "stream",
     "text": [
      "<class 'pandas.core.frame.DataFrame'>\n",
      "Int64Index: 241089 entries, 0 to 241599\n",
      "Data columns (total 19 columns):\n",
      "MWG                    241089 non-null int64\n",
      "NWG                    241089 non-null int64\n",
      "KWG                    241089 non-null int64\n",
      "MDIMC                  241089 non-null int64\n",
      "NDIMC                  241089 non-null int64\n",
      "MDIMA                  241089 non-null int64\n",
      "NDIMB                  241089 non-null int64\n",
      "KWI                    241089 non-null int64\n",
      "VWM                    241089 non-null int64\n",
      "VWN                    241089 non-null int64\n",
      "STRM                   241089 non-null int64\n",
      "STRN                   241089 non-null int64\n",
      "SA                     241089 non-null int64\n",
      "SB                     241089 non-null int64\n",
      "Run1 (ms)              241089 non-null float64\n",
      "Run2 (ms)              241089 non-null float64\n",
      "Run3 (ms)              241089 non-null float64\n",
      "Run4 (ms)              241089 non-null float64\n",
      "average_gpu_runtime    241089 non-null float64\n",
      "dtypes: float64(5), int64(14)\n",
      "memory usage: 36.8 MB\n"
     ]
    }
   ],
   "source": [
    "# Outliers removal\n",
    "gpu_usage_a = gpu_usage.drop(gpu_usage[(gpu_usage.average_gpu_runtime>2500)|(gpu_usage.average_gpu_runtime<0)].index)\n",
    "gpu_usage_a.info()"
   ]
  },
  {
   "cell_type": "code",
   "execution_count": 21,
   "metadata": {},
   "outputs": [
    {
     "name": "stdout",
     "output_type": "stream",
     "text": [
      "<class 'pandas.core.frame.DataFrame'>\n",
      "Int64Index: 241089 entries, 0 to 241599\n",
      "Data columns (total 15 columns):\n",
      "MWG                    241089 non-null int64\n",
      "NWG                    241089 non-null int64\n",
      "KWG                    241089 non-null int64\n",
      "MDIMC                  241089 non-null int64\n",
      "NDIMC                  241089 non-null int64\n",
      "MDIMA                  241089 non-null int64\n",
      "NDIMB                  241089 non-null int64\n",
      "KWI                    241089 non-null int64\n",
      "VWM                    241089 non-null int64\n",
      "VWN                    241089 non-null int64\n",
      "STRM                   241089 non-null int64\n",
      "STRN                   241089 non-null int64\n",
      "SA                     241089 non-null int64\n",
      "SB                     241089 non-null int64\n",
      "average_gpu_runtime    241089 non-null float64\n",
      "dtypes: float64(1), int64(14)\n",
      "memory usage: 29.4 MB\n"
     ]
    }
   ],
   "source": [
    "gpu_usage_a = gpu_usage_a.drop(\"Run1 (ms)\", axis= 1)\n",
    "gpu_usage_a = gpu_usage_a.drop(\"Run2 (ms)\", axis= 1)\n",
    "gpu_usage_a = gpu_usage_a.drop(\"Run3 (ms)\", axis= 1)\n",
    "gpu_usage_a = gpu_usage_a.drop(\"Run4 (ms)\", axis= 1)\n",
    "gpu_usage_a.info()"
   ]
  },
  {
   "cell_type": "code",
   "execution_count": 26,
   "metadata": {},
   "outputs": [
    {
     "data": {
      "image/png": "[encoded data removed]",
      "text/plain": [
       "<Figure size 1080x1152 with 16 Axes>"
      ]
     },
     "metadata": {
      "needs_background": "light"
     },
     "output_type": "display_data"
    }
   ],
   "source": [
    "# Histogram of all the features to understand the distribution\n",
    "gpu_usage_a.hist(bins = 20 , figsize= (15,16)) ;"
   ]
  },
  {
   "cell_type": "code",
   "execution_count": 28,
   "metadata": {},
   "outputs": [],
   "source": [
    "gpu_usage_a['log_average_gpu_runtime'] = np.log(gpu_usage_a.average_gpu_runtime)\n"
   ]
  },
  {
   "cell_type": "code",
   "execution_count": 30,
   "metadata": {},
   "outputs": [
    {
     "data": {
      "image/png": "[encoded data removed]",
      "text/plain": [
       "<Figure size 432x288 with 2 Axes>"
      ]
     },
     "metadata": {
      "needs_background": "light"
     },
     "output_type": "display_data"
    }
   ],
   "source": [
    "average_gpu_runtime = [\"average_gpu_runtime\",\"log_average_gpu_runtime\"]\n",
    "average_gpu_runtime = gpu_usage_a[average_gpu_runtime]\n",
    "average_gpu_runtime.hist(bins = 20 ) ;"
   ]
  },
  {
   "cell_type": "code",
   "execution_count": 32,
   "metadata": {},
   "outputs": [
    {
     "data": {
      "text/html": [
       "<div>\n",
       "<style scoped>\n",
       "    .dataframe tbody tr th:only-of-type {\n",
       "        vertical-align: middle;\n",
       "    }\n",
       "\n",
       "    .dataframe tbody tr th {\n",
       "        vertical-align: top;\n",
       "    }\n",
       "\n",
       "    .dataframe thead th {\n",
       "        text-align: right;\n",
       "    }\n",
       "</style>\n",
       "<table border=\"1\" class=\"dataframe\">\n",
       "  <thead>\n",
       "    <tr style=\"text-align: right;\">\n",
       "      <th></th>\n",
       "      <th>MWG</th>\n",
       "      <th>NWG</th>\n",
       "      <th>KWG</th>\n",
       "      <th>MDIMC</th>\n",
       "      <th>NDIMC</th>\n",
       "      <th>MDIMA</th>\n",
       "      <th>NDIMB</th>\n",
       "      <th>KWI</th>\n",
       "      <th>VWM</th>\n",
       "      <th>VWN</th>\n",
       "      <th>STRM</th>\n",
       "      <th>STRN</th>\n",
       "      <th>SA</th>\n",
       "      <th>SB</th>\n",
       "      <th>average_gpu_runtime</th>\n",
       "      <th>log_average_gpu_runtime</th>\n",
       "    </tr>\n",
       "  </thead>\n",
       "  <tbody>\n",
       "    <tr>\n",
       "      <th>MWG</th>\n",
       "      <td>1.000000</td>\n",
       "      <td>-0.002066</td>\n",
       "      <td>0.007350</td>\n",
       "      <td>0.107789</td>\n",
       "      <td>-0.006813</td>\n",
       "      <td>0.159147</td>\n",
       "      <td>0.014885</td>\n",
       "      <td>-0.002129</td>\n",
       "      <td>0.353750</td>\n",
       "      <td>-0.001829</td>\n",
       "      <td>-0.000014</td>\n",
       "      <td>-0.000126</td>\n",
       "      <td>-0.002381</td>\n",
       "      <td>-0.002381</td>\n",
       "      <td>0.357835</td>\n",
       "      <td>0.456903</td>\n",
       "    </tr>\n",
       "    <tr>\n",
       "      <th>NWG</th>\n",
       "      <td>-0.002066</td>\n",
       "      <td>1.000000</td>\n",
       "      <td>0.007350</td>\n",
       "      <td>-0.006813</td>\n",
       "      <td>0.107789</td>\n",
       "      <td>0.014924</td>\n",
       "      <td>0.159110</td>\n",
       "      <td>-0.002129</td>\n",
       "      <td>-0.002039</td>\n",
       "      <td>0.353900</td>\n",
       "      <td>-0.000014</td>\n",
       "      <td>-0.000126</td>\n",
       "      <td>-0.002381</td>\n",
       "      <td>-0.002381</td>\n",
       "      <td>0.324165</td>\n",
       "      <td>0.343041</td>\n",
       "    </tr>\n",
       "    <tr>\n",
       "      <th>KWG</th>\n",
       "      <td>0.007350</td>\n",
       "      <td>0.007350</td>\n",
       "      <td>1.000000</td>\n",
       "      <td>0.149866</td>\n",
       "      <td>0.149866</td>\n",
       "      <td>-0.034633</td>\n",
       "      <td>-0.034663</td>\n",
       "      <td>-0.001568</td>\n",
       "      <td>-0.012899</td>\n",
       "      <td>-0.012742</td>\n",
       "      <td>-0.000010</td>\n",
       "      <td>-0.000093</td>\n",
       "      <td>-0.001753</td>\n",
       "      <td>-0.001753</td>\n",
       "      <td>-0.002681</td>\n",
       "      <td>-0.025931</td>\n",
       "    </tr>\n",
       "    <tr>\n",
       "      <th>MDIMC</th>\n",
       "      <td>0.107789</td>\n",
       "      <td>-0.006813</td>\n",
       "      <td>0.149866</td>\n",
       "      <td>1.000000</td>\n",
       "      <td>-0.211021</td>\n",
       "      <td>0.197773</td>\n",
       "      <td>0.084783</td>\n",
       "      <td>0.001431</td>\n",
       "      <td>-0.133457</td>\n",
       "      <td>0.011219</td>\n",
       "      <td>0.000009</td>\n",
       "      <td>0.000085</td>\n",
       "      <td>0.001601</td>\n",
       "      <td>0.001601</td>\n",
       "      <td>-0.223831</td>\n",
       "      <td>-0.249835</td>\n",
       "    </tr>\n",
       "    <tr>\n",
       "      <th>NDIMC</th>\n",
       "      <td>-0.006813</td>\n",
       "      <td>0.107789</td>\n",
       "      <td>0.149866</td>\n",
       "      <td>-0.211021</td>\n",
       "      <td>1.000000</td>\n",
       "      <td>0.084755</td>\n",
       "      <td>0.197803</td>\n",
       "      <td>0.001431</td>\n",
       "      <td>0.011362</td>\n",
       "      <td>-0.133576</td>\n",
       "      <td>0.000009</td>\n",
       "      <td>0.000085</td>\n",
       "      <td>0.001601</td>\n",
       "      <td>0.001601</td>\n",
       "      <td>-0.216854</td>\n",
       "      <td>-0.241108</td>\n",
       "    </tr>\n",
       "    <tr>\n",
       "      <th>MDIMA</th>\n",
       "      <td>0.159147</td>\n",
       "      <td>0.014924</td>\n",
       "      <td>-0.034633</td>\n",
       "      <td>0.197773</td>\n",
       "      <td>0.084755</td>\n",
       "      <td>1.000000</td>\n",
       "      <td>0.088306</td>\n",
       "      <td>-0.000027</td>\n",
       "      <td>-0.202655</td>\n",
       "      <td>-0.019106</td>\n",
       "      <td>0.000009</td>\n",
       "      <td>0.000009</td>\n",
       "      <td>-0.000009</td>\n",
       "      <td>-0.000009</td>\n",
       "      <td>-0.007628</td>\n",
       "      <td>-0.023356</td>\n",
       "    </tr>\n",
       "    <tr>\n",
       "      <th>NDIMB</th>\n",
       "      <td>0.014885</td>\n",
       "      <td>0.159110</td>\n",
       "      <td>-0.034663</td>\n",
       "      <td>0.084783</td>\n",
       "      <td>0.197803</td>\n",
       "      <td>0.088306</td>\n",
       "      <td>1.000000</td>\n",
       "      <td>0.000008</td>\n",
       "      <td>-0.019152</td>\n",
       "      <td>-0.202684</td>\n",
       "      <td>-0.000012</td>\n",
       "      <td>-0.000026</td>\n",
       "      <td>-0.000044</td>\n",
       "      <td>-0.000044</td>\n",
       "      <td>-0.009618</td>\n",
       "      <td>-0.034182</td>\n",
       "    </tr>\n",
       "    <tr>\n",
       "      <th>KWI</th>\n",
       "      <td>-0.002129</td>\n",
       "      <td>-0.002129</td>\n",
       "      <td>-0.001568</td>\n",
       "      <td>0.001431</td>\n",
       "      <td>0.001431</td>\n",
       "      <td>-0.000027</td>\n",
       "      <td>0.000008</td>\n",
       "      <td>1.000000</td>\n",
       "      <td>-0.000820</td>\n",
       "      <td>-0.001007</td>\n",
       "      <td>0.000012</td>\n",
       "      <td>0.000112</td>\n",
       "      <td>-0.001900</td>\n",
       "      <td>-0.001900</td>\n",
       "      <td>0.018638</td>\n",
       "      <td>-0.017166</td>\n",
       "    </tr>\n",
       "    <tr>\n",
       "      <th>VWM</th>\n",
       "      <td>0.353750</td>\n",
       "      <td>-0.002039</td>\n",
       "      <td>-0.012899</td>\n",
       "      <td>-0.133457</td>\n",
       "      <td>0.011362</td>\n",
       "      <td>-0.202655</td>\n",
       "      <td>-0.019152</td>\n",
       "      <td>-0.000820</td>\n",
       "      <td>1.000000</td>\n",
       "      <td>0.000823</td>\n",
       "      <td>0.000016</td>\n",
       "      <td>-0.000123</td>\n",
       "      <td>-0.001066</td>\n",
       "      <td>-0.001066</td>\n",
       "      <td>0.167642</td>\n",
       "      <td>0.208815</td>\n",
       "    </tr>\n",
       "    <tr>\n",
       "      <th>VWN</th>\n",
       "      <td>-0.001829</td>\n",
       "      <td>0.353900</td>\n",
       "      <td>-0.012742</td>\n",
       "      <td>0.011219</td>\n",
       "      <td>-0.133576</td>\n",
       "      <td>-0.019106</td>\n",
       "      <td>-0.202684</td>\n",
       "      <td>-0.001007</td>\n",
       "      <td>0.000823</td>\n",
       "      <td>1.000000</td>\n",
       "      <td>-0.000010</td>\n",
       "      <td>0.000064</td>\n",
       "      <td>-0.000879</td>\n",
       "      <td>-0.000879</td>\n",
       "      <td>0.147737</td>\n",
       "      <td>0.144004</td>\n",
       "    </tr>\n",
       "    <tr>\n",
       "      <th>STRM</th>\n",
       "      <td>-0.000014</td>\n",
       "      <td>-0.000014</td>\n",
       "      <td>-0.000010</td>\n",
       "      <td>0.000009</td>\n",
       "      <td>0.000009</td>\n",
       "      <td>0.000009</td>\n",
       "      <td>-0.000012</td>\n",
       "      <td>0.000012</td>\n",
       "      <td>0.000016</td>\n",
       "      <td>-0.000010</td>\n",
       "      <td>1.000000</td>\n",
       "      <td>-0.000012</td>\n",
       "      <td>-0.000012</td>\n",
       "      <td>-0.000012</td>\n",
       "      <td>-0.013536</td>\n",
       "      <td>-0.059465</td>\n",
       "    </tr>\n",
       "    <tr>\n",
       "      <th>STRN</th>\n",
       "      <td>-0.000126</td>\n",
       "      <td>-0.000126</td>\n",
       "      <td>-0.000093</td>\n",
       "      <td>0.000085</td>\n",
       "      <td>0.000085</td>\n",
       "      <td>0.000009</td>\n",
       "      <td>-0.000026</td>\n",
       "      <td>0.000112</td>\n",
       "      <td>-0.000123</td>\n",
       "      <td>0.000064</td>\n",
       "      <td>-0.000012</td>\n",
       "      <td>1.000000</td>\n",
       "      <td>-0.000112</td>\n",
       "      <td>-0.000112</td>\n",
       "      <td>-0.000787</td>\n",
       "      <td>-0.008190</td>\n",
       "    </tr>\n",
       "    <tr>\n",
       "      <th>SA</th>\n",
       "      <td>-0.002381</td>\n",
       "      <td>-0.002381</td>\n",
       "      <td>-0.001753</td>\n",
       "      <td>0.001601</td>\n",
       "      <td>0.001601</td>\n",
       "      <td>-0.000009</td>\n",
       "      <td>-0.000044</td>\n",
       "      <td>-0.001900</td>\n",
       "      <td>-0.001066</td>\n",
       "      <td>-0.000879</td>\n",
       "      <td>-0.000012</td>\n",
       "      <td>-0.000112</td>\n",
       "      <td>1.000000</td>\n",
       "      <td>-0.002124</td>\n",
       "      <td>0.037957</td>\n",
       "      <td>-0.092156</td>\n",
       "    </tr>\n",
       "    <tr>\n",
       "      <th>SB</th>\n",
       "      <td>-0.002381</td>\n",
       "      <td>-0.002381</td>\n",
       "      <td>-0.001753</td>\n",
       "      <td>0.001601</td>\n",
       "      <td>0.001601</td>\n",
       "      <td>-0.000009</td>\n",
       "      <td>-0.000044</td>\n",
       "      <td>-0.001900</td>\n",
       "      <td>-0.001066</td>\n",
       "      <td>-0.000879</td>\n",
       "      <td>-0.000012</td>\n",
       "      <td>-0.000112</td>\n",
       "      <td>-0.002124</td>\n",
       "      <td>1.000000</td>\n",
       "      <td>0.050827</td>\n",
       "      <td>-0.027035</td>\n",
       "    </tr>\n",
       "    <tr>\n",
       "      <th>average_gpu_runtime</th>\n",
       "      <td>0.357835</td>\n",
       "      <td>0.324165</td>\n",
       "      <td>-0.002681</td>\n",
       "      <td>-0.223831</td>\n",
       "      <td>-0.216854</td>\n",
       "      <td>-0.007628</td>\n",
       "      <td>-0.009618</td>\n",
       "      <td>0.018638</td>\n",
       "      <td>0.167642</td>\n",
       "      <td>0.147737</td>\n",
       "      <td>-0.013536</td>\n",
       "      <td>-0.000787</td>\n",
       "      <td>0.037957</td>\n",
       "      <td>0.050827</td>\n",
       "      <td>1.000000</td>\n",
       "      <td>0.822612</td>\n",
       "    </tr>\n",
       "    <tr>\n",
       "      <th>log_average_gpu_runtime</th>\n",
       "      <td>0.456903</td>\n",
       "      <td>0.343041</td>\n",
       "      <td>-0.025931</td>\n",
       "      <td>-0.249835</td>\n",
       "      <td>-0.241108</td>\n",
       "      <td>-0.023356</td>\n",
       "      <td>-0.034182</td>\n",
       "      <td>-0.017166</td>\n",
       "      <td>0.208815</td>\n",
       "      <td>0.144004</td>\n",
       "      <td>-0.059465</td>\n",
       "      <td>-0.008190</td>\n",
       "      <td>-0.092156</td>\n",
       "      <td>-0.027035</td>\n",
       "      <td>0.822612</td>\n",
       "      <td>1.000000</td>\n",
       "    </tr>\n",
       "  </tbody>\n",
       "</table>\n",
       "</div>"
      ],
      "text/plain": [
       "                              MWG       NWG       KWG     MDIMC     NDIMC  \\\n",
       "MWG                      1.000000 -0.002066  0.007350  0.107789 -0.006813   \n",
       "NWG                     -0.002066  1.000000  0.007350 -0.006813  0.107789   \n",
       "KWG                      0.007350  0.007350  1.000000  0.149866  0.149866   \n",
       "MDIMC                    0.107789 -0.006813  0.149866  1.000000 -0.211021   \n",
       "NDIMC                   -0.006813  0.107789  0.149866 -0.211021  1.000000   \n",
       "MDIMA                    0.159147  0.014924 -0.034633  0.197773  0.084755   \n",
       "NDIMB                    0.014885  0.159110 -0.034663  0.084783  0.197803   \n",
       "KWI                     -0.002129 -0.002129 -0.001568  0.001431  0.001431   \n",
       "VWM                      0.353750 -0.002039 -0.012899 -0.133457  0.011362   \n",
       "VWN                     -0.001829  0.353900 -0.012742  0.011219 -0.133576   \n",
       "STRM                    -0.000014 -0.000014 -0.000010  0.000009  0.000009   \n",
       "STRN                    -0.000126 -0.000126 -0.000093  0.000085  0.000085   \n",
       "SA                      -0.002381 -0.002381 -0.001753  0.001601  0.001601   \n",
       "SB                      -0.002381 -0.002381 -0.001753  0.001601  0.001601   \n",
       "average_gpu_runtime      0.357835  0.324165 -0.002681 -0.223831 -0.216854   \n",
       "log_average_gpu_runtime  0.456903  0.343041 -0.025931 -0.249835 -0.241108   \n",
       "\n",
       "                            MDIMA     NDIMB       KWI       VWM       VWN  \\\n",
       "MWG                      0.159147  0.014885 -0.002129  0.353750 -0.001829   \n",
       "NWG                      0.014924  0.159110 -0.002129 -0.002039  0.353900   \n",
       "KWG                     -0.034633 -0.034663 -0.001568 -0.012899 -0.012742   \n",
       "MDIMC                    0.197773  0.084783  0.001431 -0.133457  0.011219   \n",
       "NDIMC                    0.084755  0.197803  0.001431  0.011362 -0.133576   \n",
       "MDIMA                    1.000000  0.088306 -0.000027 -0.202655 -0.019106   \n",
       "NDIMB                    0.088306  1.000000  0.000008 -0.019152 -0.202684   \n",
       "KWI                     -0.000027  0.000008  1.000000 -0.000820 -0.001007   \n",
       "VWM                     -0.202655 -0.019152 -0.000820  1.000000  0.000823   \n",
       "VWN                     -0.019106 -0.202684 -0.001007  0.000823  1.000000   \n",
       "STRM                     0.000009 -0.000012  0.000012  0.000016 -0.000010   \n",
       "STRN                     0.000009 -0.000026  0.000112 -0.000123  0.000064   \n",
       "SA                      -0.000009 -0.000044 -0.001900 -0.001066 -0.000879   \n",
       "SB                      -0.000009 -0.000044 -0.001900 -0.001066 -0.000879   \n",
       "average_gpu_runtime     -0.007628 -0.009618  0.018638  0.167642  0.147737   \n",
       "log_average_gpu_runtime -0.023356 -0.034182 -0.017166  0.208815  0.144004   \n",
       "\n",
       "                             STRM      STRN        SA        SB  \\\n",
       "MWG                     -0.000014 -0.000126 -0.002381 -0.002381   \n",
       "NWG                     -0.000014 -0.000126 -0.002381 -0.002381   \n",
       "KWG                     -0.000010 -0.000093 -0.001753 -0.001753   \n",
       "MDIMC                    0.000009  0.000085  0.001601  0.001601   \n",
       "NDIMC                    0.000009  0.000085  0.001601  0.001601   \n",
       "MDIMA                    0.000009  0.000009 -0.000009 -0.000009   \n",
       "NDIMB                   -0.000012 -0.000026 -0.000044 -0.000044   \n",
       "KWI                      0.000012  0.000112 -0.001900 -0.001900   \n",
       "VWM                      0.000016 -0.000123 -0.001066 -0.001066   \n",
       "VWN                     -0.000010  0.000064 -0.000879 -0.000879   \n",
       "STRM                     1.000000 -0.000012 -0.000012 -0.000012   \n",
       "STRN                    -0.000012  1.000000 -0.000112 -0.000112   \n",
       "SA                      -0.000012 -0.000112  1.000000 -0.002124   \n",
       "SB                      -0.000012 -0.000112 -0.002124  1.000000   \n",
       "average_gpu_runtime     -0.013536 -0.000787  0.037957  0.050827   \n",
       "log_average_gpu_runtime -0.059465 -0.008190 -0.092156 -0.027035   \n",
       "\n",
       "                         average_gpu_runtime  log_average_gpu_runtime  \n",
       "MWG                                 0.357835                 0.456903  \n",
       "NWG                                 0.324165                 0.343041  \n",
       "KWG                                -0.002681                -0.025931  \n",
       "MDIMC                              -0.223831                -0.249835  \n",
       "NDIMC                              -0.216854                -0.241108  \n",
       "MDIMA                              -0.007628                -0.023356  \n",
       "NDIMB                              -0.009618                -0.034182  \n",
       "KWI                                 0.018638                -0.017166  \n",
       "VWM                                 0.167642                 0.208815  \n",
       "VWN                                 0.147737                 0.144004  \n",
       "STRM                               -0.013536                -0.059465  \n",
       "STRN                               -0.000787                -0.008190  \n",
       "SA                                  0.037957                -0.092156  \n",
       "SB                                  0.050827                -0.027035  \n",
       "average_gpu_runtime                 1.000000                 0.822612  \n",
       "log_average_gpu_runtime             0.822612                 1.000000  "
      ]
     },
     "execution_count": 32,
     "metadata": {},
     "output_type": "execute_result"
    }
   ],
   "source": [
    "# finding correlatin matrix of all the attributes\n",
    "gpu_usage_a.corr()"
   ]
  },
  {
   "cell_type": "code",
   "execution_count": 33,
   "metadata": {},
   "outputs": [
    {
     "data": {
      "image/png": "[encoded data removed]",
      "text/plain": [
       "<Figure size 1296x1296 with 2 Axes>"
      ]
     },
     "metadata": {
      "needs_background": "light"
     },
     "output_type": "display_data"
    }
   ],
   "source": [
    "#Ploting correlation matrix\n",
    "col = ['MWG', 'NWG', 'KWG', 'MDIMC', 'NDIMC', 'MDIMA', 'NDIMB', 'KWI', 'VWM', 'VWN', 'STRM', 'STRN', 'SA', 'SB', 'log_average_gpu_runtime']\n",
    "corr = gpu_usage_a.corr()\n",
    "plt.figure(figsize = (18,18))\n",
    "sns.set(font_scale=1)\n",
    "sns.heatmap(corr, cbar = True, annot=True, square = True, fmt = '.2f', xticklabels=col, yticklabels=col)\n",
    "plt.show();"
   ]
  },
  {
   "cell_type": "markdown",
   "metadata": {},
   "source": [
    "# Checking for multicollinearity"
   ]
  },
  {
   "cell_type": "code",
   "execution_count": 34,
   "metadata": {},
   "outputs": [
    {
     "name": "stdout",
     "output_type": "stream",
     "text": [
      "Top Absolute Correlations\n",
      "Run2 (ms)  average_gpu_runtime    0.999991\n",
      "Run4 (ms)  average_gpu_runtime    0.999991\n",
      "Run3 (ms)  average_gpu_runtime    0.999990\n",
      "Run2 (ms)  Run4 (ms)              0.999982\n",
      "           Run3 (ms)              0.999982\n",
      "Run3 (ms)  Run4 (ms)              0.999981\n",
      "Run1 (ms)  average_gpu_runtime    0.999970\n",
      "           Run2 (ms)              0.999941\n",
      "           Run4 (ms)              0.999940\n",
      "           Run3 (ms)              0.999939\n",
      "NWG        VWN                    0.353763\n",
      "MWG        VWM                    0.353763\n",
      "           Run3 (ms)              0.351920\n",
      "           Run4 (ms)              0.351918\n",
      "           Run2 (ms)              0.351876\n",
      "           average_gpu_runtime    0.351810\n",
      "           Run1 (ms)              0.351506\n",
      "NWG        Run3 (ms)              0.320550\n",
      "           average_gpu_runtime    0.320460\n",
      "           Run4 (ms)              0.320458\n",
      "           Run1 (ms)              0.320408\n",
      "           Run2 (ms)              0.320405\n",
      "MDIMC      Run1 (ms)              0.221296\n",
      "           average_gpu_runtime    0.221097\n",
      "           Run3 (ms)              0.221050\n",
      "           Run4 (ms)              0.221023\n",
      "           Run2 (ms)              0.221004\n",
      "NDIMC      Run1 (ms)              0.214842\n",
      "           average_gpu_runtime    0.214595\n",
      "           Run2 (ms)              0.214556\n",
      "           Run4 (ms)              0.214504\n",
      "           Run3 (ms)              0.214465\n",
      "MDIMC      NDIMC                  0.209562\n",
      "NDIMB      VWN                    0.202712\n",
      "MDIMA      VWM                    0.202712\n",
      "MDIMC      MDIMA                  0.197433\n",
      "NDIMC      NDIMB                  0.197433\n",
      "VWM        Run3 (ms)              0.164313\n",
      "           Run4 (ms)              0.164293\n",
      "           Run2 (ms)              0.164279\n",
      "dtype: float64\n"
     ]
    }
   ],
   "source": [
    "def get_redundant_pairs(df):\n",
    "    '''Get diagonal and lower triangular pairs of correlation matrix'''\n",
    "    pairs_to_drop = set()\n",
    "    cols = df.columns\n",
    "    for i in range(0, df.shape[1]):\n",
    "        for j in range(0, i+1):\n",
    "            pairs_to_drop.add((cols[i], cols[j]))\n",
    "    return pairs_to_drop\n",
    "\n",
    "# Function to get top correlations \n",
    "\n",
    "def get_top_abs_correlations(df, n=5):\n",
    "    au_corr = df.corr().abs().unstack()\n",
    "    labels_to_drop = get_redundant_pairs(df)\n",
    "    au_corr = au_corr.drop(labels=labels_to_drop).sort_values(ascending=False)\n",
    "    return au_corr[0:n]\n",
    "\n",
    "print(\"Top Absolute Correlations\")\n",
    "print(get_top_abs_correlations(gpu_usage, 40))"
   ]
  },
  {
   "cell_type": "code",
   "execution_count": 35,
   "metadata": {},
   "outputs": [
    {
     "data": {
      "text/plain": [
       "MWG                        0.456903\n",
       "NWG                        0.343041\n",
       "KWG                       -0.025931\n",
       "MDIMC                     -0.249835\n",
       "NDIMC                     -0.241108\n",
       "MDIMA                     -0.023356\n",
       "NDIMB                     -0.034182\n",
       "KWI                       -0.017166\n",
       "VWM                        0.208815\n",
       "VWN                        0.144004\n",
       "STRM                      -0.059465\n",
       "STRN                      -0.008190\n",
       "SA                        -0.092156\n",
       "SB                        -0.027035\n",
       "average_gpu_runtime        0.822612\n",
       "log_average_gpu_runtime    1.000000\n",
       "Name: log_average_gpu_runtime, dtype: float64"
      ]
     },
     "execution_count": 35,
     "metadata": {},
     "output_type": "execute_result"
    }
   ],
   "source": [
    "gpu_usage_a[gpu_usage_a.columns[:]].corr()['log_average_gpu_runtime'][:]"
   ]
  },
  {
   "cell_type": "markdown",
   "metadata": {},
   "source": [
    "# Column management"
   ]
  },
  {
   "cell_type": "code",
   "execution_count": 43,
   "metadata": {},
   "outputs": [],
   "source": [
    "feature_a = ['MWG', 'NWG', 'KWG', 'MDIMC', 'NDIMC', 'MDIMA', 'NDIMB', 'KWI', 'VWM', 'VWN', 'STRM', 'STRN', 'SA', 'SB']\n",
    "avg_gpu_usage_1 = ['log_average_gpu_runtime']\n",
    "feature_1 = gpu_usage_a[feature_a]\n",
    "target_1 = gpu_usage_a[avg_gpu_usage_1]"
   ]
  },
  {
   "cell_type": "code",
   "execution_count": 44,
   "metadata": {},
   "outputs": [
    {
     "data": {
      "text/html": [
       "<div>\n",
       "<style scoped>\n",
       "    .dataframe tbody tr th:only-of-type {\n",
       "        vertical-align: middle;\n",
       "    }\n",
       "\n",
       "    .dataframe tbody tr th {\n",
       "        vertical-align: top;\n",
       "    }\n",
       "\n",
       "    .dataframe thead th {\n",
       "        text-align: right;\n",
       "    }\n",
       "</style>\n",
       "<table border=\"1\" class=\"dataframe\">\n",
       "  <thead>\n",
       "    <tr style=\"text-align: right;\">\n",
       "      <th></th>\n",
       "      <th>MWG</th>\n",
       "      <th>NWG</th>\n",
       "      <th>KWG</th>\n",
       "      <th>MDIMC</th>\n",
       "      <th>NDIMC</th>\n",
       "      <th>MDIMA</th>\n",
       "      <th>NDIMB</th>\n",
       "      <th>KWI</th>\n",
       "      <th>VWM</th>\n",
       "      <th>VWN</th>\n",
       "      <th>STRM</th>\n",
       "      <th>STRN</th>\n",
       "      <th>SA</th>\n",
       "      <th>SB</th>\n",
       "    </tr>\n",
       "  </thead>\n",
       "  <tbody>\n",
       "    <tr>\n",
       "      <th>0</th>\n",
       "      <td>16</td>\n",
       "      <td>16</td>\n",
       "      <td>16</td>\n",
       "      <td>8</td>\n",
       "      <td>8</td>\n",
       "      <td>8</td>\n",
       "      <td>8</td>\n",
       "      <td>2</td>\n",
       "      <td>1</td>\n",
       "      <td>1</td>\n",
       "      <td>0</td>\n",
       "      <td>0</td>\n",
       "      <td>0</td>\n",
       "      <td>0</td>\n",
       "    </tr>\n",
       "    <tr>\n",
       "      <th>1</th>\n",
       "      <td>16</td>\n",
       "      <td>16</td>\n",
       "      <td>16</td>\n",
       "      <td>8</td>\n",
       "      <td>8</td>\n",
       "      <td>8</td>\n",
       "      <td>8</td>\n",
       "      <td>2</td>\n",
       "      <td>1</td>\n",
       "      <td>1</td>\n",
       "      <td>0</td>\n",
       "      <td>0</td>\n",
       "      <td>0</td>\n",
       "      <td>1</td>\n",
       "    </tr>\n",
       "    <tr>\n",
       "      <th>2</th>\n",
       "      <td>16</td>\n",
       "      <td>16</td>\n",
       "      <td>16</td>\n",
       "      <td>8</td>\n",
       "      <td>8</td>\n",
       "      <td>8</td>\n",
       "      <td>8</td>\n",
       "      <td>2</td>\n",
       "      <td>1</td>\n",
       "      <td>1</td>\n",
       "      <td>0</td>\n",
       "      <td>0</td>\n",
       "      <td>1</td>\n",
       "      <td>0</td>\n",
       "    </tr>\n",
       "    <tr>\n",
       "      <th>3</th>\n",
       "      <td>16</td>\n",
       "      <td>16</td>\n",
       "      <td>16</td>\n",
       "      <td>8</td>\n",
       "      <td>8</td>\n",
       "      <td>8</td>\n",
       "      <td>8</td>\n",
       "      <td>2</td>\n",
       "      <td>1</td>\n",
       "      <td>1</td>\n",
       "      <td>0</td>\n",
       "      <td>0</td>\n",
       "      <td>1</td>\n",
       "      <td>1</td>\n",
       "    </tr>\n",
       "    <tr>\n",
       "      <th>4</th>\n",
       "      <td>16</td>\n",
       "      <td>16</td>\n",
       "      <td>16</td>\n",
       "      <td>8</td>\n",
       "      <td>8</td>\n",
       "      <td>8</td>\n",
       "      <td>8</td>\n",
       "      <td>2</td>\n",
       "      <td>1</td>\n",
       "      <td>1</td>\n",
       "      <td>0</td>\n",
       "      <td>1</td>\n",
       "      <td>0</td>\n",
       "      <td>0</td>\n",
       "    </tr>\n",
       "  </tbody>\n",
       "</table>\n",
       "</div>"
      ],
      "text/plain": [
       "   MWG  NWG  KWG  MDIMC  NDIMC  MDIMA  NDIMB  KWI  VWM  VWN  STRM  STRN  SA  \\\n",
       "0   16   16   16      8      8      8      8    2    1    1     0     0   0   \n",
       "1   16   16   16      8      8      8      8    2    1    1     0     0   0   \n",
       "2   16   16   16      8      8      8      8    2    1    1     0     0   1   \n",
       "3   16   16   16      8      8      8      8    2    1    1     0     0   1   \n",
       "4   16   16   16      8      8      8      8    2    1    1     0     1   0   \n",
       "\n",
       "   SB  \n",
       "0   0  \n",
       "1   1  \n",
       "2   0  \n",
       "3   1  \n",
       "4   0  "
      ]
     },
     "execution_count": 44,
     "metadata": {},
     "output_type": "execute_result"
    }
   ],
   "source": [
    "feature_1.head()"
   ]
  },
  {
   "cell_type": "markdown",
   "metadata": {},
   "source": [
    "# Experiment 1"
   ]
  },
  {
   "cell_type": "code",
   "execution_count": 45,
   "metadata": {},
   "outputs": [],
   "source": [
    "x1_train, x1_test, y1_train, y1_test = train_test_split(feature_1, target_1, test_size = 0.2, random_state = 0)"
   ]
  },
  {
   "cell_type": "markdown",
   "metadata": {},
   "source": [
    "# Scaling"
   ]
  },
  {
   "cell_type": "code",
   "execution_count": 46,
   "metadata": {},
   "outputs": [],
   "source": [
    "scaler = StandardScaler() \n",
    "  \n",
    "# To scale data \n",
    "x1_train=scaler.fit_transform(x1_train)\n",
    "x1_test=scaler.transform(x1_test)\n",
    "y1_train = scaler.fit_transform(y1_train)\n",
    "y1_test=scaler.transform(y1_test)"
   ]
  },
  {
   "cell_type": "markdown",
   "metadata": {},
   "source": [
    "# Cst function"
   ]
  },
  {
   "cell_type": "code",
   "execution_count": 47,
   "metadata": {},
   "outputs": [],
   "source": [
    "def costFunction(dataFile, dataTarget, coeffMatrix):\n",
    "    dataLength = len(dataFile);\n",
    "    costValue = np.sum(((dataFile.dot(coeffMatrix.T)) - dataTarget) ** 2) / (2 * dataLength);\n",
    "    return costValue;"
   ]
  },
  {
   "cell_type": "markdown",
   "metadata": {},
   "source": [
    "# Gradient Descent Function for fixed threshold"
   ]
  },
  {
   "cell_type": "code",
   "execution_count": 48,
   "metadata": {},
   "outputs": [],
   "source": [
    "def gradientDescent(dataFile, dataTarget, coeffMatrix, alpha, iterations):\n",
    "    costHistory = [0] * iterations;\n",
    "    dataLength = len(dataTarget);\n",
    "    for i in range(iterations):\n",
    "        loss = dataFile.dot(coeffMatrix.T) - dataTarget;\n",
    "        gradient = dataFile.T.dot(loss) / dataLength;\n",
    "        coeffMatrix = coeffMatrix - (alpha * gradient.T);\n",
    "        costValue = costFunction(dataFile, dataTarget, coeffMatrix);\n",
    "        costHistory[i] = costValue;    \n",
    "    list1=[0.0000001]; #threshold level\n",
    "    cost1 = []\n",
    "    for k in list1:\n",
    "        for j in range(len(costHistory)-1):\n",
    "            c = abs(costHistory[j]- costHistory[j+1])\n",
    "            if c <=k:\n",
    "                print(\"Threshold level\",k,'\\n')\n",
    "                print(\"Cost Function converges at\", j,'\\n')\n",
    "                print('Model Cost: ', costHistory[j], '\\n')\n",
    "                break\n",
    "        cost1.append(costHistory[j])\n",
    "        print('Model Coefficients: ');\n",
    "        print(coeffMatrix);\n",
    "    print('alpha:',alpha);\n",
    "    plt.plot(costHistory) \n",
    "    plt.xlabel(\"Number of iterations\") \n",
    "    plt.ylabel(\"Cost\") \n",
    "    plt.show() \n",
    "    return coeffMatrix, costHistory;"
   ]
  },
  {
   "cell_type": "markdown",
   "metadata": {},
   "source": [
    "# linear regression function for Different Learning rate"
   ]
  },
  {
   "cell_type": "code",
   "execution_count": 49,
   "metadata": {},
   "outputs": [],
   "source": [
    "def developLinearModel(dataFile, dataTarget):\n",
    "    list2=[0.2,0.1,0.01,0.05,0.001,0.005,0.0001,0.0005];\n",
    "    for learning_rate in list2:\n",
    "        coeffMatrix = np.zeros((1, len(dataFile[0])));\n",
    "        print(coeffMatrix);\n",
    "        print();\n",
    "        initialCost = costFunction(dataFile, dataTarget, coeffMatrix);\n",
    "        print('Initial Cost: ', initialCost, '\\n');\n",
    "        coeffMatrix, costHistory = gradientDescent(dataFile, dataTarget, coeffMatrix, learning_rate, 50000);\n",
    "    return coeffMatrix;"
   ]
  },
  {
   "cell_type": "markdown",
   "metadata": {},
   "source": [
    "# Predict"
   ]
  },
  {
   "cell_type": "code",
   "execution_count": 50,
   "metadata": {},
   "outputs": [],
   "source": [
    "def predict(testData, coeffMatrix):\n",
    "    predictedTarget = testData.dot(coeffMatrix.T);\n",
    "    return predictedTarget;"
   ]
  },
  {
   "cell_type": "markdown",
   "metadata": {},
   "source": [
    "# MSE"
   ]
  },
  {
   "cell_type": "code",
   "execution_count": 51,
   "metadata": {},
   "outputs": [],
   "source": [
    "def calculateMSE(testTarget, predictedTarget):\n",
    "    modelRMSE = (sum((testTarget - predictedTarget) ** 2) / len(testTarget));\n",
    "    return modelRMSE;"
   ]
  },
  {
   "cell_type": "markdown",
   "metadata": {},
   "source": [
    "# R_Square"
   ]
  },
  {
   "cell_type": "code",
   "execution_count": 52,
   "metadata": {},
   "outputs": [],
   "source": [
    "def modelRSquared(testTarget, predictedTarget):\n",
    "    targetMean = np.mean(testTarget);\n",
    "    totalSSE = np.sum((testTarget - targetMean) ** 2);\n",
    "    residualSSE = np.sum((testTarget - predictedTarget) ** 2);\n",
    "    rSquared = 1 - (residualSSE / totalSSE);\n",
    "    return rSquared;"
   ]
  },
  {
   "cell_type": "code",
   "execution_count": 53,
   "metadata": {},
   "outputs": [
    {
     "name": "stdout",
     "output_type": "stream",
     "text": [
      "[[0. 0. 0. 0. 0. 0. 0. 0. 0. 0. 0. 0. 0. 0.]]\n",
      "\n",
      "Initial Cost:  0.5000000000000001 \n",
      "\n",
      "Threshold level 1e-07 \n",
      "\n",
      "Cost Function converges at 56 \n",
      "\n",
      "Model Cost:  0.2214328936484323 \n",
      "\n",
      "Model Coefficients: \n",
      "[[ 0.50203577  0.39637015  0.08442112 -0.39594155 -0.38179981  0.00059929\n",
      "  -0.00129512 -0.01332445 -0.01542743 -0.04102379 -0.06070891 -0.00880489\n",
      "  -0.0883344  -0.02479818]]\n",
      "alpha: 0.2\n"
     ]
    },
    {
     "data": {
      "image/png": "[encoded data removed]",
      "text/plain": [
       "<Figure size 432x288 with 1 Axes>"
      ]
     },
     "metadata": {},
     "output_type": "display_data"
    }
   ],
   "source": [
    "#Model Training for Alpha = 0.2\n",
    "def developLinearModel(dataFile, dataTarget):\n",
    "    coeffMatrix = np.zeros((1, len(dataFile[0])));\n",
    "    print(coeffMatrix);\n",
    "    print();\n",
    "    initialCost = costFunction(dataFile, dataTarget, coeffMatrix);\n",
    "    print('Initial Cost: ', initialCost, '\\n');\n",
    "    coeffMatrix, costHistory = gradientDescent(dataFile, dataTarget, coeffMatrix,0.2, 50000);\n",
    "    return coeffMatrix;\n",
    "linearModel_tr1= developLinearModel(x1_train,y1_train)"
   ]
  },
  {
   "cell_type": "code",
   "execution_count": 54,
   "metadata": {},
   "outputs": [
    {
     "name": "stdout",
     "output_type": "stream",
     "text": [
      "[[0. 0. 0. 0. 0. 0. 0. 0. 0. 0. 0. 0. 0. 0.]]\n",
      "\n",
      "Initial Cost:  0.5000000000000001 \n",
      "\n",
      "Threshold level 1e-07 \n",
      "\n",
      "Cost Function converges at 110 \n",
      "\n",
      "Model Cost:  0.22143335932112695 \n",
      "\n",
      "Model Coefficients: \n",
      "[[ 0.50203577  0.39637015  0.08442112 -0.39594155 -0.38179981  0.00059929\n",
      "  -0.00129512 -0.01332445 -0.01542743 -0.04102379 -0.06070891 -0.00880489\n",
      "  -0.0883344  -0.02479818]]\n",
      "alpha: 0.1\n"
     ]
    },
    {
     "data": {
      "image/png": "[encoded data removed]",
      "text/plain": [
       "<Figure size 432x288 with 1 Axes>"
      ]
     },
     "metadata": {},
     "output_type": "display_data"
    }
   ],
   "source": [
    "#Model Training for Alpha = 0.1\n",
    "def developLinearModel(dataFile, dataTarget):\n",
    "    coeffMatrix = np.zeros((1, len(dataFile[0])));\n",
    "    print(coeffMatrix);\n",
    "    print();\n",
    "    initialCost = costFunction(dataFile, dataTarget, coeffMatrix);\n",
    "    print('Initial Cost: ', initialCost, '\\n');\n",
    "    coeffMatrix, costHistory = gradientDescent(dataFile, dataTarget, coeffMatrix,0.1, 50000);\n",
    "    return coeffMatrix;\n",
    "linearModel_tr2= developLinearModel(x1_train,y1_train)"
   ]
  },
  {
   "cell_type": "code",
   "execution_count": 55,
   "metadata": {},
   "outputs": [
    {
     "name": "stdout",
     "output_type": "stream",
     "text": [
      "[[0. 0. 0. 0. 0. 0. 0. 0. 0. 0. 0. 0. 0. 0.]]\n",
      "\n",
      "Initial Cost:  0.5000000000000001 \n",
      "\n",
      "Threshold level 1e-07 \n",
      "\n",
      "Cost Function converges at 915 \n",
      "\n",
      "Model Cost:  0.22144197478694572 \n",
      "\n",
      "Model Coefficients: \n",
      "[[ 0.50203577  0.39637015  0.08442112 -0.39594155 -0.38179981  0.00059929\n",
      "  -0.00129512 -0.01332445 -0.01542743 -0.04102379 -0.06070891 -0.00880489\n",
      "  -0.0883344  -0.02479818]]\n",
      "alpha: 0.01\n"
     ]
    },
    {
     "data": {
      "image/png": "[encoded data removed]",
      "text/plain": [
       "<Figure size 432x288 with 1 Axes>"
      ]
     },
     "metadata": {},
     "output_type": "display_data"
    }
   ],
   "source": [
    "#Model Training for Alpha = 0.01\n",
    "def developLinearModel(dataFile, dataTarget):\n",
    "    coeffMatrix = np.zeros((1, len(dataFile[0])));\n",
    "    print(coeffMatrix);\n",
    "    print();\n",
    "    initialCost = costFunction(dataFile, dataTarget, coeffMatrix);\n",
    "    print('Initial Cost: ', initialCost, '\\n');\n",
    "    coeffMatrix, costHistory = gradientDescent(dataFile, dataTarget, coeffMatrix,0.01, 50000);\n",
    "    return coeffMatrix;\n",
    "linearModel_tr3= developLinearModel(x1_train,y1_train)"
   ]
  },
  {
   "cell_type": "code",
   "execution_count": 56,
   "metadata": {},
   "outputs": [
    {
     "name": "stdout",
     "output_type": "stream",
     "text": [
      "[[0. 0. 0. 0. 0. 0. 0. 0. 0. 0. 0. 0. 0. 0.]]\n",
      "\n",
      "Initial Cost:  0.5000000000000001 \n",
      "\n",
      "Threshold level 1e-07 \n",
      "\n",
      "Cost Function converges at 211 \n",
      "\n",
      "Model Cost:  0.2214343024530311 \n",
      "\n",
      "Model Coefficients: \n",
      "[[ 0.50203577  0.39637015  0.08442112 -0.39594155 -0.38179981  0.00059929\n",
      "  -0.00129512 -0.01332445 -0.01542743 -0.04102379 -0.06070891 -0.00880489\n",
      "  -0.0883344  -0.02479818]]\n",
      "alpha: 0.05\n"
     ]
    },
    {
     "data": {
      "image/png": "[encoded data removed]",
      "text/plain": [
       "<Figure size 432x288 with 1 Axes>"
      ]
     },
     "metadata": {},
     "output_type": "display_data"
    }
   ],
   "source": [
    "#Model Training for Alpha = 0.05\n",
    "def developLinearModel(dataFile, dataTarget):\n",
    "    coeffMatrix = np.zeros((1, len(dataFile[0])));\n",
    "    print(coeffMatrix);\n",
    "    print();\n",
    "    initialCost = costFunction(dataFile, dataTarget, coeffMatrix);\n",
    "    print('Initial Cost: ', initialCost, '\\n');\n",
    "    coeffMatrix, costHistory = gradientDescent(dataFile, dataTarget, coeffMatrix,0.05, 50000);\n",
    "    return coeffMatrix;\n",
    "linearModel_tr4= developLinearModel(x1_train,y1_train)"
   ]
  },
  {
   "cell_type": "code",
   "execution_count": 57,
   "metadata": {},
   "outputs": [
    {
     "name": "stdout",
     "output_type": "stream",
     "text": [
      "[[0. 0. 0. 0. 0. 0. 0. 0. 0. 0. 0. 0. 0. 0.]]\n",
      "\n",
      "Initial Cost:  0.5000000000000001 \n",
      "\n",
      "Threshold level 1e-07 \n",
      "\n",
      "Cost Function converges at 1699 \n",
      "\n",
      "Model Cost:  0.22145165251271898 \n",
      "\n",
      "Model Coefficients: \n",
      "[[ 0.50203577  0.39637015  0.08442112 -0.39594155 -0.38179981  0.00059929\n",
      "  -0.00129512 -0.01332445 -0.01542743 -0.04102379 -0.06070891 -0.00880489\n",
      "  -0.0883344  -0.02479818]]\n",
      "alpha: 0.005\n"
     ]
    },
    {
     "data": {
      "image/png": "[encoded data removed]",
      "text/plain": [
       "<Figure size 432x288 with 1 Axes>"
      ]
     },
     "metadata": {},
     "output_type": "display_data"
    }
   ],
   "source": [
    "#Model Training for Alpha = 0.005\n",
    "def developLinearModel(dataFile, dataTarget):\n",
    "    coeffMatrix = np.zeros((1, len(dataFile[0])));\n",
    "    print(coeffMatrix);\n",
    "    print();\n",
    "    initialCost = costFunction(dataFile, dataTarget, coeffMatrix);\n",
    "    print('Initial Cost: ', initialCost, '\\n');\n",
    "    coeffMatrix, costHistory = gradientDescent(dataFile, dataTarget, coeffMatrix,0.005, 50000);\n",
    "    return coeffMatrix;\n",
    "linearModel_tr5= developLinearModel(x1_train,y1_train)"
   ]
  },
  {
   "cell_type": "code",
   "execution_count": 58,
   "metadata": {},
   "outputs": [
    {
     "name": "stdout",
     "output_type": "stream",
     "text": [
      "[[0. 0. 0. 0. 0. 0. 0. 0. 0. 0. 0. 0. 0. 0.]]\n",
      "\n",
      "Initial Cost:  0.5013704313109258 \n",
      "\n",
      "Threshold level 1e-07 \n",
      "\n",
      "Cost Function converges at 56 \n",
      "\n",
      "Model Cost:  0.22103145028861879 \n",
      "\n",
      "Model Coefficients: \n",
      "[[ 5.03945847e-01  3.97442021e-01  7.67929989e-02 -3.94714198e-01\n",
      "  -3.81280752e-01 -4.02673890e-04 -2.86102261e-03 -1.81029797e-02\n",
      "  -1.56016625e-02 -4.16766373e-02 -5.45007663e-02 -4.85821976e-03\n",
      "  -9.06122486e-02 -1.98158678e-02]]\n",
      "alpha: 0.2\n"
     ]
    },
    {
     "data": {
      "image/png": "[encoded data removed]",
      "text/plain": [
       "<Figure size 432x288 with 1 Axes>"
      ]
     },
     "metadata": {},
     "output_type": "display_data"
    }
   ],
   "source": [
    "#Model testing for Alpha = 0.2\n",
    "def developLinearModel(dataFile, dataTarget):\n",
    "    coeffMatrix = np.zeros((1, len(dataFile[0])));\n",
    "    print(coeffMatrix);\n",
    "    print();\n",
    "    initialCost = costFunction(dataFile, dataTarget, coeffMatrix);\n",
    "    print('Initial Cost: ', initialCost, '\\n');\n",
    "    coeffMatrix, costHistory = gradientDescent(dataFile, dataTarget, coeffMatrix,0.2, 50000);\n",
    "    return coeffMatrix;\n",
    "\n",
    "linearModel_te1 = developLinearModel(x1_test,y1_test);"
   ]
  },
  {
   "cell_type": "code",
   "execution_count": 59,
   "metadata": {},
   "outputs": [
    {
     "name": "stdout",
     "output_type": "stream",
     "text": [
      "[[0. 0. 0. 0. 0. 0. 0. 0. 0. 0. 0. 0. 0. 0.]]\n",
      "\n",
      "Initial Cost:  0.5013704313109258 \n",
      "\n",
      "Threshold level 1e-07 \n",
      "\n",
      "Cost Function converges at 110 \n",
      "\n",
      "Model Cost:  0.22103189666556483 \n",
      "\n",
      "Model Coefficients: \n",
      "[[ 5.03945847e-01  3.97442021e-01  7.67929989e-02 -3.94714198e-01\n",
      "  -3.81280752e-01 -4.02673890e-04 -2.86102261e-03 -1.81029797e-02\n",
      "  -1.56016625e-02 -4.16766373e-02 -5.45007663e-02 -4.85821976e-03\n",
      "  -9.06122486e-02 -1.98158678e-02]]\n",
      "alpha: 0.1\n"
     ]
    },
    {
     "data": {
      "image/png": "[encoded data removed]",
      "text/plain": [
       "<Figure size 432x288 with 1 Axes>"
      ]
     },
     "metadata": {},
     "output_type": "display_data"
    }
   ],
   "source": [
    "#Model testing for Alpha = 0.1\n",
    "def developLinearModel(dataFile, dataTarget):\n",
    "    coeffMatrix = np.zeros((1, len(dataFile[0])));\n",
    "    print(coeffMatrix);\n",
    "    print();\n",
    "    initialCost = costFunction(dataFile, dataTarget, coeffMatrix);\n",
    "    print('Initial Cost: ', initialCost, '\\n');\n",
    "    coeffMatrix, costHistory = gradientDescent(dataFile, dataTarget, coeffMatrix,0.1, 50000);\n",
    "    return coeffMatrix;\n",
    "\n",
    "linearModel_te2 = developLinearModel(x1_test,y1_test);"
   ]
  },
  {
   "cell_type": "code",
   "execution_count": 60,
   "metadata": {},
   "outputs": [
    {
     "name": "stdout",
     "output_type": "stream",
     "text": [
      "[[0. 0. 0. 0. 0. 0. 0. 0. 0. 0. 0. 0. 0. 0.]]\n",
      "\n",
      "Initial Cost:  0.5013704313109258 \n",
      "\n",
      "Threshold level 1e-07 \n",
      "\n",
      "Cost Function converges at 911 \n",
      "\n",
      "Model Cost:  0.2210405938356105 \n",
      "\n",
      "Model Coefficients: \n",
      "[[ 5.03945847e-01  3.97442021e-01  7.67929989e-02 -3.94714198e-01\n",
      "  -3.81280752e-01 -4.02673890e-04 -2.86102261e-03 -1.81029797e-02\n",
      "  -1.56016625e-02 -4.16766373e-02 -5.45007663e-02 -4.85821976e-03\n",
      "  -9.06122486e-02 -1.98158678e-02]]\n",
      "alpha: 0.01\n"
     ]
    },
    {
     "data": {
      "image/png": "[encoded data removed]",
      "text/plain": [
       "<Figure size 432x288 with 1 Axes>"
      ]
     },
     "metadata": {},
     "output_type": "display_data"
    }
   ],
   "source": [
    "#Model testing for Alpha = 0.01\n",
    "def developLinearModel(dataFile, dataTarget):\n",
    "    coeffMatrix = np.zeros((1, len(dataFile[0])));\n",
    "    print(coeffMatrix);\n",
    "    print();\n",
    "    initialCost = costFunction(dataFile, dataTarget, coeffMatrix);\n",
    "    print('Initial Cost: ', initialCost, '\\n');\n",
    "    coeffMatrix, costHistory = gradientDescent(dataFile, dataTarget, coeffMatrix,0.01, 50000);\n",
    "    return coeffMatrix;\n",
    "\n",
    "linearModel_te3 = developLinearModel(x1_test,y1_test);"
   ]
  },
  {
   "cell_type": "code",
   "execution_count": 61,
   "metadata": {},
   "outputs": [
    {
     "name": "stdout",
     "output_type": "stream",
     "text": [
      "[[0. 0. 0. 0. 0. 0. 0. 0. 0. 0. 0. 0. 0. 0.]]\n",
      "\n",
      "Initial Cost:  0.5013704313109258 \n",
      "\n",
      "Threshold level 1e-07 \n",
      "\n",
      "Cost Function converges at 210 \n",
      "\n",
      "Model Cost:  0.22103290122041583 \n",
      "\n",
      "Model Coefficients: \n",
      "[[ 5.03945847e-01  3.97442021e-01  7.67929989e-02 -3.94714198e-01\n",
      "  -3.81280752e-01 -4.02673890e-04 -2.86102261e-03 -1.81029797e-02\n",
      "  -1.56016625e-02 -4.16766373e-02 -5.45007663e-02 -4.85821976e-03\n",
      "  -9.06122486e-02 -1.98158678e-02]]\n",
      "alpha: 0.05\n"
     ]
    },
    {
     "data": {
      "image/png": "[encoded data removed]",
      "text/plain": [
       "<Figure size 432x288 with 1 Axes>"
      ]
     },
     "metadata": {},
     "output_type": "display_data"
    }
   ],
   "source": [
    "#Model testing for Alpha = 0.05\n",
    "def developLinearModel(dataFile, dataTarget):\n",
    "    coeffMatrix = np.zeros((1, len(dataFile[0])));\n",
    "    print(coeffMatrix);\n",
    "    print();\n",
    "    initialCost = costFunction(dataFile, dataTarget, coeffMatrix);\n",
    "    print('Initial Cost: ', initialCost, '\\n');\n",
    "    coeffMatrix, costHistory = gradientDescent(dataFile, dataTarget, coeffMatrix,0.05, 50000);\n",
    "    return coeffMatrix;\n",
    "\n",
    "linearModel_te4 = developLinearModel(x1_test,y1_test);"
   ]
  },
  {
   "cell_type": "code",
   "execution_count": 62,
   "metadata": {},
   "outputs": [
    {
     "name": "stdout",
     "output_type": "stream",
     "text": [
      "[[0. 0. 0. 0. 0. 0. 0. 0. 0. 0. 0. 0. 0. 0.]]\n",
      "\n",
      "Initial Cost:  0.5013704313109258 \n",
      "\n",
      "Threshold level 1e-07 \n",
      "\n",
      "Cost Function converges at 1693 \n",
      "\n",
      "Model Cost:  0.22105015293043326 \n",
      "\n",
      "Model Coefficients: \n",
      "[[ 5.03945847e-01  3.97442021e-01  7.67929989e-02 -3.94714198e-01\n",
      "  -3.81280752e-01 -4.02673890e-04 -2.86102261e-03 -1.81029797e-02\n",
      "  -1.56016625e-02 -4.16766373e-02 -5.45007663e-02 -4.85821976e-03\n",
      "  -9.06122486e-02 -1.98158678e-02]]\n",
      "alpha: 0.005\n"
     ]
    },
    {
     "data": {
      "image/png": "[encoded data removed]",
      "text/plain": [
       "<Figure size 432x288 with 1 Axes>"
      ]
     },
     "metadata": {},
     "output_type": "display_data"
    }
   ],
   "source": [
    "#Model testing for Alpha = 0.005\n",
    "def developLinearModel(dataFile, dataTarget):\n",
    "    coeffMatrix = np.zeros((1, len(dataFile[0])));\n",
    "    print(coeffMatrix);\n",
    "    print();\n",
    "    initialCost = costFunction(dataFile, dataTarget, coeffMatrix);\n",
    "    print('Initial Cost: ', initialCost, '\\n');\n",
    "    coeffMatrix, costHistory = gradientDescent(dataFile, dataTarget, coeffMatrix,0.005, 50000);\n",
    "    return coeffMatrix;\n",
    "\n",
    "linearModel_te5= developLinearModel(x1_test,y1_test);"
   ]
  },
  {
   "cell_type": "code",
   "execution_count": 63,
   "metadata": {},
   "outputs": [
    {
     "name": "stdout",
     "output_type": "stream",
     "text": [
      "Coefficients: \n",
      " [[ 0.50203577  0.39637015  0.08442112 -0.39594155 -0.38179981  0.00059929\n",
      "  -0.00129512 -0.01332445 -0.01542743 -0.04102379 -0.06070891 -0.00880489\n",
      "  -0.0883344  -0.02479818]]\n"
     ]
    }
   ],
   "source": [
    "#Linear Regression using In-built Function:\n",
    "from sklearn import datasets, linear_model, metrics \n",
    "reg = linear_model.LinearRegression() \n",
    "  \n",
    "# train the model using the training sets \n",
    "reg.fit(x1_train, y1_train) \n",
    "  \n",
    "# regression coefficients \n",
    "print('Coefficients: \\n', reg.coef_)"
   ]
  },
  {
   "cell_type": "code",
   "execution_count": 64,
   "metadata": {},
   "outputs": [
    {
     "name": "stdout",
     "output_type": "stream",
     "text": [
      "[[0. 0. 0. 0. 0. 0. 0. 0. 0. 0. 0. 0. 0. 0.]]\n",
      "\n",
      "Initial Cost:  0.5000000000000001 \n",
      "\n",
      "Threshold level 1e-07 \n",
      "\n",
      "Cost Function converges at 56 \n",
      "\n",
      "Model Cost:  0.2214328936484323 \n",
      "\n",
      "Model Coefficients: \n",
      "[[ 0.50203577  0.39637015  0.08442112 -0.39594155 -0.38179981  0.00059929\n",
      "  -0.00129512 -0.01332445 -0.01542743 -0.04102379 -0.06070891 -0.00880489\n",
      "  -0.0883344  -0.02479818]]\n",
      "alpha: 0.2\n"
     ]
    },
    {
     "data": {
      "image/png": "[encoded data removed]",
      "text/plain": [
       "<Figure size 432x288 with 1 Axes>"
      ]
     },
     "metadata": {},
     "output_type": "display_data"
    },
    {
     "name": "stdout",
     "output_type": "stream",
     "text": [
      "[[0. 0. 0. 0. 0. 0. 0. 0. 0. 0. 0. 0. 0. 0.]]\n",
      "\n",
      "Initial Cost:  0.5013704313109258 \n",
      "\n",
      "Threshold level 1e-07 \n",
      "\n",
      "Cost Function converges at 56 \n",
      "\n",
      "Model Cost:  0.22103145028861879 \n",
      "\n",
      "Model Coefficients: \n",
      "[[ 5.03945847e-01  3.97442021e-01  7.67929989e-02 -3.94714198e-01\n",
      "  -3.81280752e-01 -4.02673890e-04 -2.86102261e-03 -1.81029797e-02\n",
      "  -1.56016625e-02 -4.16766373e-02 -5.45007663e-02 -4.85821976e-03\n",
      "  -9.06122486e-02 -1.98158678e-02]]\n",
      "alpha: 0.2\n"
     ]
    },
    {
     "data": {
      "image/png": "[encoded data removed]",
      "text/plain": [
       "<Figure size 432x288 with 1 Axes>"
      ]
     },
     "metadata": {},
     "output_type": "display_data"
    }
   ],
   "source": [
    "#Linear regression Function for best Alpha value\n",
    "def developLinearModel(dataFile, dataTarget):\n",
    "    coeffMatrix = np.zeros((1, len(dataFile[0])));\n",
    "    print(coeffMatrix);\n",
    "    print();\n",
    "    initialCost = costFunction(dataFile, dataTarget, coeffMatrix);\n",
    "    print('Initial Cost: ', initialCost, '\\n');\n",
    "    coeffMatrix, costHistory = gradientDescent(dataFile, dataTarget, coeffMatrix,0.2, 50000);\n",
    "    return coeffMatrix;\n",
    "\n",
    "linearModel_trbe = developLinearModel(x1_train,y1_train)\n",
    "linearModel_tebe = developLinearModel(x1_test,y1_test)"
   ]
  },
  {
   "cell_type": "code",
   "execution_count": 65,
   "metadata": {},
   "outputs": [],
   "source": [
    "predictedTarget_te1 = predict(x1_test, linearModel_te1);\n",
    "predictedTarget_te2 = predict(x1_test, linearModel_te2);\n",
    "predictedTarget_te3 = predict(x1_test, linearModel_te3);\n",
    "predictedTarget_te4 = predict(x1_test, linearModel_te4);\n",
    "predictedTarget_te5 = predict(x1_test, linearModel_te5);\n",
    "\n",
    "predictedTarget_tr1 = predict(x1_train, linearModel_tr1);\n",
    "predictedTarget_tr2 = predict(x1_train, linearModel_tr2);\n",
    "predictedTarget_tr3 = predict(x1_train, linearModel_tr3);\n",
    "predictedTarget_tr4 = predict(x1_train, linearModel_tr4);\n",
    "predictedTarget_tr5 = predict(x1_train, linearModel_tr5);"
   ]
  },
  {
   "cell_type": "code",
   "execution_count": 66,
   "metadata": {},
   "outputs": [],
   "source": [
    "modelMSE_te1 = calculateMSE(y1_test, predictedTarget_te1);\n",
    "modelMSE_te2 = calculateMSE(y1_test, predictedTarget_te2);\n",
    "modelMSE_te3 = calculateMSE(y1_test, predictedTarget_te3);\n",
    "modelMSE_te4= calculateMSE(y1_test, predictedTarget_te4);\n",
    "modelMSE_te5 = calculateMSE(y1_test, predictedTarget_te5);\n",
    "\n",
    "modelMSE_tr1 = calculateMSE(y1_train, predictedTarget_tr1);\n",
    "modelMSE_tr2 = calculateMSE(y1_train, predictedTarget_tr2);\n",
    "modelMSE_tr3 = calculateMSE(y1_train, predictedTarget_tr3);\n",
    "modelMSE_tr4 = calculateMSE(y1_train, predictedTarget_tr4);\n",
    "modelMSE_tr5 = calculateMSE(y1_train, predictedTarget_tr5);"
   ]
  },
  {
   "cell_type": "code",
   "execution_count": 67,
   "metadata": {},
   "outputs": [
    {
     "name": "stdout",
     "output_type": "stream",
     "text": [
      "Model MSE Train1 for Alpha 0.2: [0.44286479] \n",
      "\n",
      "Model MSE Train2 for Alpha 0.1: [0.44286479] \n",
      "\n",
      "Model MSE Train3 for Alpha 0.01: [0.44286479] \n",
      "\n",
      "Model MSE Train4 for Alpha 0.05: [0.44286479] \n",
      "\n",
      "Model MSE Train5 for Alpha 0.005: [0.44286479] \n",
      "\n"
     ]
    }
   ],
   "source": [
    "print('Model MSE Train1 for Alpha 0.2:', modelMSE_tr1,'\\n');\n",
    "print('Model MSE Train2 for Alpha 0.1:', modelMSE_tr2,'\\n');\n",
    "print('Model MSE Train3 for Alpha 0.01:', modelMSE_tr3,'\\n');\n",
    "print('Model MSE Train4 for Alpha 0.05:', modelMSE_tr4,'\\n');\n",
    "print('Model MSE Train5 for Alpha 0.005:', modelMSE_tr5,'\\n');"
   ]
  },
  {
   "cell_type": "code",
   "execution_count": 68,
   "metadata": {},
   "outputs": [
    {
     "name": "stdout",
     "output_type": "stream",
     "text": [
      "Model MSE Test for Alpha 0.2: [0.44206195] \n",
      "\n",
      "Model MSE Test for Alpha 0.1: [0.44206195] \n",
      "\n",
      "Model MSE Test for Alpha 0.01 [0.44206195] \n",
      "\n",
      "Model MSE Test for Alpha 0.05: [0.44206195] \n",
      "\n",
      "Model MSE Test for Alpha 0.005: [0.44206195] \n",
      "\n"
     ]
    }
   ],
   "source": [
    "print('Model MSE Test for Alpha 0.2:', modelMSE_te1,'\\n');\n",
    "print('Model MSE Test for Alpha 0.1:', modelMSE_te2,'\\n');\n",
    "print('Model MSE Test for Alpha 0.01', modelMSE_te3,'\\n');\n",
    "print('Model MSE Test for Alpha 0.05:', modelMSE_te4,'\\n');\n",
    "print('Model MSE Test for Alpha 0.005:', modelMSE_te5,'\\n');"
   ]
  },
  {
   "cell_type": "code",
   "execution_count": 69,
   "metadata": {},
   "outputs": [],
   "source": [
    "modelR2_tr1 = modelRSquared(y1_train, predictedTarget_tr1);\n",
    "modelR2_tr2 = modelRSquared(y1_train, predictedTarget_tr2);\n",
    "modelR2_tr3 = modelRSquared(y1_train, predictedTarget_tr3);\n",
    "modelR2_tr4 = modelRSquared(y1_train, predictedTarget_tr4);\n",
    "modelR2_tr5 = modelRSquared(y1_train, predictedTarget_tr5);\n",
    "\n",
    "modelR2_te1 = modelRSquared(y1_test, predictedTarget_te1);\n",
    "modelR2_te2 = modelRSquared(y1_test, predictedTarget_te2);\n",
    "modelR2_te3 = modelRSquared(y1_test, predictedTarget_te3);\n",
    "modelR2_te4 = modelRSquared(y1_test, predictedTarget_te4);\n",
    "modelR2_te5 = modelRSquared(y1_test, predictedTarget_te5);"
   ]
  },
  {
   "cell_type": "code",
   "execution_count": 70,
   "metadata": {},
   "outputs": [
    {
     "name": "stdout",
     "output_type": "stream",
     "text": [
      "Model R-Squared for Training:  \n",
      " 0.5571352075376292 \n",
      " 0.5571352075376292 \n",
      " 0.5571352075376295 \n",
      " 0.5571352075376292 \n",
      " 0.5571352075376295 \n",
      "\n"
     ]
    }
   ],
   "source": [
    "print('Model R-Squared for Training: ','\\n', modelR2_tr1,'\\n', modelR2_tr2,'\\n', \n",
    "      modelR2_tr3,'\\n', modelR2_tr4,'\\n',modelR2_tr5, '\\n');"
   ]
  },
  {
   "cell_type": "code",
   "execution_count": 71,
   "metadata": {},
   "outputs": [
    {
     "name": "stdout",
     "output_type": "stream",
     "text": [
      "Model R-Squared for Test:  \n",
      " 0.5591393174777735 \n",
      " 0.5591393174777733 \n",
      " 0.5591393174777735 \n",
      " 0.5591393174777733 \n",
      " 0.5591393174777733 \n",
      "\n"
     ]
    }
   ],
   "source": [
    "print('Model R-Squared for Test: ','\\n', modelR2_te1,'\\n', modelR2_te2,'\\n', \n",
    "      modelR2_te3,'\\n', modelR2_te4,'\\n',modelR2_te5, '\\n');"
   ]
  },
  {
   "cell_type": "markdown",
   "metadata": {},
   "source": [
    "# Exp b : classification"
   ]
  },
  {
   "cell_type": "code",
   "execution_count": 73,
   "metadata": {},
   "outputs": [],
   "source": [
    "feature_b=['MWG', 'NWG', 'KWG', 'MDIMC', 'NDIMC', 'MDIMA', 'NDIMB', 'KWI', 'VWM', 'VWN', 'STRM', 'STRN', 'SA', 'SB']\n",
    "feature_1b = gpu_usage_a[feature_b]"
   ]
  },
  {
   "cell_type": "code",
   "execution_count": 74,
   "metadata": {},
   "outputs": [],
   "source": [
    "gpu_usage_a['average_gpu_runtime_Class'] = np.where(gpu_usage_a['average_gpu_runtime']>=70, 1, 0)\n",
    "gpu_usage_a['average_gpu_runtime_Class'] = gpu_usage_a['average_gpu_runtime_Class'].astype('category')"
   ]
  },
  {
   "cell_type": "code",
   "execution_count": 77,
   "metadata": {},
   "outputs": [
    {
     "data": {
      "text/plain": [
       "0    1\n",
       "1    1\n",
       "2    1\n",
       "3    1\n",
       "4    1\n",
       "Name: average_gpu_runtime_Class, dtype: category\n",
       "Categories (2, int64): [0, 1]"
      ]
     },
     "execution_count": 77,
     "metadata": {},
     "output_type": "execute_result"
    }
   ],
   "source": [
    "target_2 = gpu_usage_a['average_gpu_runtime_Class']\n",
    "target_2.head()"
   ]
  },
  {
   "cell_type": "code",
   "execution_count": 78,
   "metadata": {},
   "outputs": [],
   "source": [
    "from sklearn.model_selection import train_test_split\n",
    "X_train_l, X_test_l, y_train_l, y_test_l = train_test_split(feature_1b, target_2, test_size = 0.20, random_state = 0)"
   ]
  },
  {
   "cell_type": "markdown",
   "metadata": {},
   "source": [
    "# Gradient boosting classifier"
   ]
  },
  {
   "cell_type": "code",
   "execution_count": 79,
   "metadata": {},
   "outputs": [],
   "source": [
    "from sklearn.metrics import classification_report, confusion_matrix\n",
    "from sklearn.ensemble import GradientBoostingClassifier"
   ]
  },
  {
   "cell_type": "code",
   "execution_count": 80,
   "metadata": {},
   "outputs": [
    {
     "name": "stdout",
     "output_type": "stream",
     "text": [
      "Learning rate:  0.05\n",
      "Accuracy score (training): 0.772\n",
      "Accuracy score (test): 0.773\n",
      "Learning rate:  0.075\n",
      "Accuracy score (training): 0.776\n",
      "Accuracy score (test): 0.777\n",
      "Learning rate:  0.1\n",
      "Accuracy score (training): 0.780\n",
      "Accuracy score (test): 0.780\n",
      "Learning rate:  0.25\n",
      "Accuracy score (training): 0.819\n",
      "Accuracy score (test): 0.821\n",
      "Learning rate:  0.5\n",
      "Accuracy score (training): 0.821\n",
      "Accuracy score (test): 0.822\n",
      "Learning rate:  0.75\n",
      "Accuracy score (training): 0.824\n",
      "Accuracy score (test): 0.824\n",
      "Learning rate:  1\n",
      "Accuracy score (training): 0.827\n",
      "Accuracy score (test): 0.825\n",
      "Learning rate:  1.25\n",
      "Accuracy score (training): 0.819\n",
      "Accuracy score (test): 0.817\n"
     ]
    }
   ],
   "source": [
    "lr_list = [0.05, 0.075, 0.1, 0.25, 0.5, 0.75, 1,1.25]\n",
    "\n",
    "for learning_rate in lr_list:\n",
    "    gb_clf = GradientBoostingClassifier(n_estimators=20, learning_rate=learning_rate, max_features=2, max_depth=2, random_state=0)\n",
    "    gb_clf.fit(X_train_l, y_train_l)\n",
    "\n",
    "    print(\"Learning rate: \", learning_rate)\n",
    "    print(\"Accuracy score (training): {0:.3f}\".format(gb_clf.score(X_train_l, y_train_l)))\n",
    "    print(\"Accuracy score (test): {0:.3f}\".format(gb_clf.score(X_test_l, y_test_l)))"
   ]
  },
  {
   "cell_type": "code",
   "execution_count": 81,
   "metadata": {},
   "outputs": [
    {
     "name": "stdout",
     "output_type": "stream",
     "text": [
      "Learning rate:  0.05\n",
      "Confusion Matrix:\n",
      "[[19904  4246]\n",
      " [ 6686 17382]]\n",
      "Classification Report\n",
      "              precision    recall  f1-score   support\n",
      "\n",
      "           0       0.75      0.82      0.78     24150\n",
      "           1       0.80      0.72      0.76     24068\n",
      "\n",
      "    accuracy                           0.77     48218\n",
      "   macro avg       0.78      0.77      0.77     48218\n",
      "weighted avg       0.78      0.77      0.77     48218\n",
      "\n",
      "Learning rate:  0.075\n",
      "Confusion Matrix:\n",
      "[[20019  4131]\n",
      " [ 6630 17438]]\n",
      "Classification Report\n",
      "              precision    recall  f1-score   support\n",
      "\n",
      "           0       0.75      0.83      0.79     24150\n",
      "           1       0.81      0.72      0.76     24068\n",
      "\n",
      "    accuracy                           0.78     48218\n",
      "   macro avg       0.78      0.78      0.78     48218\n",
      "weighted avg       0.78      0.78      0.78     48218\n",
      "\n",
      "Learning rate:  0.1\n",
      "Confusion Matrix:\n",
      "[[20072  4078]\n",
      " [ 6549 17519]]\n",
      "Classification Report\n",
      "              precision    recall  f1-score   support\n",
      "\n",
      "           0       0.75      0.83      0.79     24150\n",
      "           1       0.81      0.73      0.77     24068\n",
      "\n",
      "    accuracy                           0.78     48218\n",
      "   macro avg       0.78      0.78      0.78     48218\n",
      "weighted avg       0.78      0.78      0.78     48218\n",
      "\n",
      "Learning rate:  0.25\n",
      "Confusion Matrix:\n",
      "[[20724  3426]\n",
      " [ 5195 18873]]\n",
      "Classification Report\n",
      "              precision    recall  f1-score   support\n",
      "\n",
      "           0       0.80      0.86      0.83     24150\n",
      "           1       0.85      0.78      0.81     24068\n",
      "\n",
      "    accuracy                           0.82     48218\n",
      "   macro avg       0.82      0.82      0.82     48218\n",
      "weighted avg       0.82      0.82      0.82     48218\n",
      "\n",
      "Learning rate:  0.5\n",
      "Confusion Matrix:\n",
      "[[20447  3703]\n",
      " [ 4867 19201]]\n",
      "Classification Report\n",
      "              precision    recall  f1-score   support\n",
      "\n",
      "           0       0.81      0.85      0.83     24150\n",
      "           1       0.84      0.80      0.82     24068\n",
      "\n",
      "    accuracy                           0.82     48218\n",
      "   macro avg       0.82      0.82      0.82     48218\n",
      "weighted avg       0.82      0.82      0.82     48218\n",
      "\n",
      "Learning rate:  0.75\n",
      "Confusion Matrix:\n",
      "[[20359  3791]\n",
      " [ 4714 19354]]\n",
      "Classification Report\n",
      "              precision    recall  f1-score   support\n",
      "\n",
      "           0       0.81      0.84      0.83     24150\n",
      "           1       0.84      0.80      0.82     24068\n",
      "\n",
      "    accuracy                           0.82     48218\n",
      "   macro avg       0.82      0.82      0.82     48218\n",
      "weighted avg       0.82      0.82      0.82     48218\n",
      "\n",
      "Learning rate:  1\n",
      "Confusion Matrix:\n",
      "[[20166  3984]\n",
      " [ 4447 19621]]\n",
      "Classification Report\n",
      "              precision    recall  f1-score   support\n",
      "\n",
      "           0       0.82      0.84      0.83     24150\n",
      "           1       0.83      0.82      0.82     24068\n",
      "\n",
      "    accuracy                           0.83     48218\n",
      "   macro avg       0.83      0.83      0.83     48218\n",
      "weighted avg       0.83      0.83      0.83     48218\n",
      "\n",
      "Learning rate:  1.25\n",
      "Confusion Matrix:\n",
      "[[20047  4103]\n",
      " [ 4708 19360]]\n",
      "Classification Report\n",
      "              precision    recall  f1-score   support\n",
      "\n",
      "           0       0.81      0.83      0.82     24150\n",
      "           1       0.83      0.80      0.81     24068\n",
      "\n",
      "    accuracy                           0.82     48218\n",
      "   macro avg       0.82      0.82      0.82     48218\n",
      "weighted avg       0.82      0.82      0.82     48218\n",
      "\n"
     ]
    }
   ],
   "source": [
    "lr_list = [0.05, 0.075, 0.1, 0.25, 0.5, 0.75, 1,1.25]\n",
    "\n",
    "for learning_rate in lr_list:\n",
    "    gb_clf2 = GradientBoostingClassifier(n_estimators=20, learning_rate=learning_rate, max_features=2, max_depth=2, random_state=0)\n",
    "    gb_clf2.fit(X_train_l, y_train_l)\n",
    "    predictions = gb_clf2.predict(X_test_l)\n",
    "    print(\"Learning rate: \", learning_rate)\n",
    "    print(\"Confusion Matrix:\")\n",
    "    print(confusion_matrix(y_test_l, predictions))\n",
    "    print(\"Classification Report\")\n",
    "    print(classification_report(y_test_l, predictions))"
   ]
  },
  {
   "cell_type": "markdown",
   "metadata": {},
   "source": [
    "# Devwloping the linear model"
   ]
  },
  {
   "cell_type": "code",
   "execution_count": 82,
   "metadata": {},
   "outputs": [
    {
     "name": "stdout",
     "output_type": "stream",
     "text": [
      "[[0. 0. 0. 0. 0. 0. 0. 0. 0. 0. 0. 0. 0. 0.]]\n",
      "\n",
      "Initial Cost:  0.5000000000000001 \n",
      "\n",
      "Threshold level 0.001 \n",
      "\n",
      "Cost Function converges at 14 \n",
      "\n",
      "Model Cost:  0.2264156137693888 \n",
      "\n",
      "Model Coefficients: \n",
      "[[ 0.50203577  0.39637015  0.08442112 -0.39594155 -0.38179981  0.00059929\n",
      "  -0.00129512 -0.01332445 -0.01542743 -0.04102379 -0.06070891 -0.00880489\n",
      "  -0.0883344  -0.02479818]]\n",
      "alpha: 0.2\n"
     ]
    },
    {
     "data": {
      "image/png": "[encoded data removed]",
      "text/plain": [
       "<Figure size 432x288 with 1 Axes>"
      ]
     },
     "metadata": {},
     "output_type": "display_data"
    },
    {
     "name": "stdout",
     "output_type": "stream",
     "text": [
      "[[0. 0. 0. 0. 0. 0. 0. 0. 0. 0. 0. 0. 0. 0.]]\n",
      "\n",
      "Initial Cost:  0.5013704313109258 \n",
      "\n",
      "Threshold level 0.001 \n",
      "\n",
      "Cost Function converges at 14 \n",
      "\n",
      "Model Cost:  0.22593342047680864 \n",
      "\n",
      "Model Coefficients: \n",
      "[[ 5.03945847e-01  3.97442021e-01  7.67929989e-02 -3.94714198e-01\n",
      "  -3.81280752e-01 -4.02673890e-04 -2.86102261e-03 -1.81029797e-02\n",
      "  -1.56016625e-02 -4.16766373e-02 -5.45007663e-02 -4.85821976e-03\n",
      "  -9.06122486e-02 -1.98158678e-02]]\n",
      "alpha: 0.2\n"
     ]
    },
    {
     "data": {
      "image/png": "[encoded data removed]",
      "text/plain": [
       "<Figure size 432x288 with 1 Axes>"
      ]
     },
     "metadata": {},
     "output_type": "display_data"
    }
   ],
   "source": [
    "#different Threshold levels:\n",
    "def gradientDescent_1(dataFile, dataTarget, coeffMatrix, alpha, iterations):\n",
    "    costHistory = [0] * iterations;\n",
    "    dataLength = len(dataTarget);\n",
    "    for i in range(iterations):\n",
    "        loss = dataFile.dot(coeffMatrix.T) - dataTarget;\n",
    "        gradient = dataFile.T.dot(loss) / dataLength;\n",
    "        coeffMatrix = coeffMatrix - (alpha * gradient.T);\n",
    "        costValue = costFunction(dataFile, dataTarget, coeffMatrix);\n",
    "        costHistory[i] = costValue;    \n",
    "    list=[0.001];\n",
    "    cost1 = []\n",
    "    for k in list:\n",
    "        for j in range(len(costHistory)-1):\n",
    "            c = abs(costHistory[j]- costHistory[j+1])\n",
    "            if c <=k:\n",
    "                print(\"Threshold level\",k,'\\n')\n",
    "                print(\"Cost Function converges at\", j,'\\n')\n",
    "                print('Model Cost: ', costHistory[j], '\\n')\n",
    "                break\n",
    "        cost1.append(costHistory[j])\n",
    "        print('Model Coefficients: ');\n",
    "        print(coeffMatrix);\n",
    "    print('alpha:',alpha);\n",
    "    plt.plot(costHistory) \n",
    "    plt.xlabel(\"Number of iterations\") \n",
    "    plt.ylabel(\"Cost\") \n",
    "    plt.show() \n",
    "    return coeffMatrix, costHistory;\n",
    "def developLinearModel_1(dataFile, dataTarget):\n",
    "    coeffMatrix = np.zeros((1, len(dataFile[0])));\n",
    "    print(coeffMatrix);\n",
    "    print();\n",
    "    initialCost = costFunction(dataFile, dataTarget, coeffMatrix);\n",
    "    print('Initial Cost: ', initialCost, '\\n');\n",
    "    coeffMatrix, costHistory = gradientDescent_1(dataFile, dataTarget, coeffMatrix,0.2,50000);\n",
    "    return coeffMatrix;\n",
    "linearModel_tr11 = developLinearModel_1(x1_train,y1_train)\n",
    "linearModel_te11 = developLinearModel_1(x1_test,y1_test)\n"
   ]
  },
  {
   "cell_type": "code",
   "execution_count": 83,
   "metadata": {},
   "outputs": [
    {
     "name": "stdout",
     "output_type": "stream",
     "text": [
      "[[0. 0. 0. 0. 0. 0. 0. 0. 0. 0. 0. 0. 0. 0.]]\n",
      "\n",
      "Initial Cost:  0.5000000000000001 \n",
      "\n",
      "Threshold level 0.0001 \n",
      "\n",
      "Cost Function converges at 25 \n",
      "\n",
      "Model Cost:  0.22187601374255358 \n",
      "\n",
      "Model Coefficients: \n",
      "[[ 0.50203577  0.39637015  0.08442112 -0.39594155 -0.38179981  0.00059929\n",
      "  -0.00129512 -0.01332445 -0.01542743 -0.04102379 -0.06070891 -0.00880489\n",
      "  -0.0883344  -0.02479818]]\n",
      "alpha: 0.2\n"
     ]
    },
    {
     "data": {
      "image/png": "[encoded data removed]",
      "text/plain": [
       "<Figure size 432x288 with 1 Axes>"
      ]
     },
     "metadata": {},
     "output_type": "display_data"
    },
    {
     "name": "stdout",
     "output_type": "stream",
     "text": [
      "[[0. 0. 0. 0. 0. 0. 0. 0. 0. 0. 0. 0. 0. 0.]]\n",
      "\n",
      "Initial Cost:  0.5013704313109258 \n",
      "\n",
      "Threshold level 0.0001 \n",
      "\n",
      "Cost Function converges at 25 \n",
      "\n",
      "Model Cost:  0.22146325633096536 \n",
      "\n",
      "Model Coefficients: \n",
      "[[ 5.03945847e-01  3.97442021e-01  7.67929989e-02 -3.94714198e-01\n",
      "  -3.81280752e-01 -4.02673890e-04 -2.86102261e-03 -1.81029797e-02\n",
      "  -1.56016625e-02 -4.16766373e-02 -5.45007663e-02 -4.85821976e-03\n",
      "  -9.06122486e-02 -1.98158678e-02]]\n",
      "alpha: 0.2\n"
     ]
    },
    {
     "data": {
      "image/png": "[encoded data removed]",
      "text/plain": [
       "<Figure size 432x288 with 1 Axes>"
      ]
     },
     "metadata": {},
     "output_type": "display_data"
    }
   ],
   "source": [
    "#different Threshold levels:\n",
    "def gradientDescent_1(dataFile, dataTarget, coeffMatrix, alpha, iterations):\n",
    "    costHistory = [0] * iterations;\n",
    "    dataLength = len(dataTarget);\n",
    "    for i in range(iterations):\n",
    "        loss = dataFile.dot(coeffMatrix.T) - dataTarget;\n",
    "        gradient = dataFile.T.dot(loss) / dataLength;\n",
    "        coeffMatrix = coeffMatrix - (alpha * gradient.T);\n",
    "        costValue = costFunction(dataFile, dataTarget, coeffMatrix);\n",
    "        costHistory[i] = costValue;    \n",
    "    list=[0.0001];\n",
    "    cost1 = []\n",
    "    for k in list:\n",
    "        for j in range(len(costHistory)-1):\n",
    "            c = abs(costHistory[j]- costHistory[j+1])\n",
    "            if c <=k:\n",
    "                print(\"Threshold level\",k,'\\n')\n",
    "                print(\"Cost Function converges at\", j,'\\n')\n",
    "                print('Model Cost: ', costHistory[j], '\\n')\n",
    "                break\n",
    "        cost1.append(costHistory[j])\n",
    "        print('Model Coefficients: ');\n",
    "        print(coeffMatrix);\n",
    "    print('alpha:',alpha);\n",
    "    plt.plot(costHistory) \n",
    "    plt.xlabel(\"Number of iterations\") \n",
    "    plt.ylabel(\"Cost\") \n",
    "    plt.show() \n",
    "    return coeffMatrix, costHistory;\n",
    "def developLinearModel_1(dataFile, dataTarget):\n",
    "    coeffMatrix = np.zeros((1, len(dataFile[0])));\n",
    "    print(coeffMatrix);\n",
    "    print();\n",
    "    initialCost = costFunction(dataFile, dataTarget, coeffMatrix);\n",
    "    print('Initial Cost: ', initialCost, '\\n');\n",
    "    coeffMatrix, costHistory = gradientDescent_1(dataFile, dataTarget, coeffMatrix,0.2,20000);\n",
    "    return coeffMatrix;\n",
    "linearModel_tr21 = developLinearModel_1(x1_train,y1_train)\n",
    "linearModel_te21 = developLinearModel_1(x1_test,y1_test)\n"
   ]
  },
  {
   "cell_type": "code",
   "execution_count": 84,
   "metadata": {},
   "outputs": [
    {
     "name": "stdout",
     "output_type": "stream",
     "text": [
      "[[0. 0. 0. 0. 0. 0. 0. 0. 0. 0. 0. 0. 0. 0.]]\n",
      "\n",
      "Initial Cost:  0.5000000000000001 \n",
      "\n",
      "Threshold level 1e-05 \n",
      "\n",
      "Cost Function converges at 35 \n",
      "\n",
      "Model Cost:  0.22148187768679992 \n",
      "\n",
      "Model Coefficients: \n",
      "[[ 0.50203577  0.39637015  0.08442112 -0.39594155 -0.38179981  0.00059929\n",
      "  -0.00129512 -0.01332445 -0.01542743 -0.04102379 -0.06070891 -0.00880489\n",
      "  -0.0883344  -0.02479818]]\n",
      "alpha: 0.2\n"
     ]
    },
    {
     "data": {
      "image/png": "[encoded data removed]",
      "text/plain": [
       "<Figure size 432x288 with 1 Axes>"
      ]
     },
     "metadata": {},
     "output_type": "display_data"
    },
    {
     "name": "stdout",
     "output_type": "stream",
     "text": [
      "[[0. 0. 0. 0. 0. 0. 0. 0. 0. 0. 0. 0. 0. 0.]]\n",
      "\n",
      "Initial Cost:  0.5013704313109258 \n",
      "\n",
      "Threshold level 1e-05 \n",
      "\n",
      "Cost Function converges at 35 \n",
      "\n",
      "Model Cost:  0.22107881118586875 \n",
      "\n",
      "Model Coefficients: \n",
      "[[ 5.03945847e-01  3.97442021e-01  7.67929989e-02 -3.94714198e-01\n",
      "  -3.81280752e-01 -4.02673890e-04 -2.86102261e-03 -1.81029797e-02\n",
      "  -1.56016625e-02 -4.16766373e-02 -5.45007663e-02 -4.85821976e-03\n",
      "  -9.06122486e-02 -1.98158678e-02]]\n",
      "alpha: 0.2\n"
     ]
    },
    {
     "data": {
      "image/png": "[encoded data removed]",
      "text/plain": [
       "<Figure size 432x288 with 1 Axes>"
      ]
     },
     "metadata": {},
     "output_type": "display_data"
    }
   ],
   "source": [
    "#different Threshold levels:\n",
    "def gradientDescent_1(dataFile, dataTarget, coeffMatrix, alpha, iterations):\n",
    "    costHistory = [0] * iterations;\n",
    "    dataLength = len(dataTarget);\n",
    "    for i in range(iterations):\n",
    "        loss = dataFile.dot(coeffMatrix.T) - dataTarget;\n",
    "        gradient = dataFile.T.dot(loss) / dataLength;\n",
    "        coeffMatrix = coeffMatrix - (alpha * gradient.T);\n",
    "        costValue = costFunction(dataFile, dataTarget, coeffMatrix);\n",
    "        costHistory[i] = costValue;    \n",
    "    list=[0.00001];\n",
    "    cost1 = []\n",
    "    for k in list:\n",
    "        for j in range(len(costHistory)-1):\n",
    "            c = abs(costHistory[j]- costHistory[j+1])\n",
    "            if c <=k:\n",
    "                print(\"Threshold level\",k,'\\n')\n",
    "                print(\"Cost Function converges at\", j,'\\n')\n",
    "                print('Model Cost: ', costHistory[j], '\\n')\n",
    "                break\n",
    "        cost1.append(costHistory[j])\n",
    "        print('Model Coefficients: ');\n",
    "        print(coeffMatrix);\n",
    "    print('alpha:',alpha);\n",
    "    plt.plot(costHistory) \n",
    "    plt.xlabel(\"Number of iterations\") \n",
    "    plt.ylabel(\"Cost\") \n",
    "    plt.show() \n",
    "    return coeffMatrix, costHistory;\n",
    "def developLinearModel_1(dataFile, dataTarget):\n",
    "    coeffMatrix = np.zeros((1, len(dataFile[0])));\n",
    "    print(coeffMatrix);\n",
    "    print();\n",
    "    initialCost = costFunction(dataFile, dataTarget, coeffMatrix);\n",
    "    print('Initial Cost: ', initialCost, '\\n');\n",
    "    coeffMatrix, costHistory = gradientDescent_1(dataFile, dataTarget, coeffMatrix,0.2,20000);\n",
    "    return coeffMatrix;\n",
    "linearModel_tr31 = developLinearModel_1(x1_train,y1_train)\n",
    "linearModel_te31 = developLinearModel_1(x1_test,y1_test)\n"
   ]
  },
  {
   "cell_type": "code",
   "execution_count": 85,
   "metadata": {},
   "outputs": [
    {
     "name": "stdout",
     "output_type": "stream",
     "text": [
      "[[0. 0. 0. 0. 0. 0. 0. 0. 0. 0. 0. 0. 0. 0.]]\n",
      "\n",
      "Initial Cost:  0.5000000000000001 \n",
      "\n",
      "Threshold level 1e-06 \n",
      "\n",
      "Cost Function converges at 46 \n",
      "\n",
      "Model Cost:  0.2214368383330077 \n",
      "\n",
      "Model Coefficients: \n",
      "[[ 0.50203577  0.39637015  0.08442112 -0.39594155 -0.38179981  0.00059929\n",
      "  -0.00129512 -0.01332445 -0.01542743 -0.04102379 -0.06070891 -0.00880489\n",
      "  -0.0883344  -0.02479818]]\n",
      "alpha: 0.2\n"
     ]
    },
    {
     "data": {
      "image/png": "[encoded data removed]",
      "text/plain": [
       "<Figure size 432x288 with 1 Axes>"
      ]
     },
     "metadata": {},
     "output_type": "display_data"
    },
    {
     "name": "stdout",
     "output_type": "stream",
     "text": [
      "[[0. 0. 0. 0. 0. 0. 0. 0. 0. 0. 0. 0. 0. 0.]]\n",
      "\n",
      "Initial Cost:  0.5013704313109258 \n",
      "\n",
      "Threshold level 1e-06 \n",
      "\n",
      "Cost Function converges at 46 \n",
      "\n",
      "Model Cost:  0.22103523647134243 \n",
      "\n",
      "Model Coefficients: \n",
      "[[ 5.03945847e-01  3.97442021e-01  7.67929989e-02 -3.94714198e-01\n",
      "  -3.81280752e-01 -4.02673890e-04 -2.86102261e-03 -1.81029797e-02\n",
      "  -1.56016625e-02 -4.16766373e-02 -5.45007663e-02 -4.85821976e-03\n",
      "  -9.06122486e-02 -1.98158678e-02]]\n",
      "alpha: 0.2\n"
     ]
    },
    {
     "data": {
      "image/png": "[encoded data removed]",
      "text/plain": [
       "<Figure size 432x288 with 1 Axes>"
      ]
     },
     "metadata": {},
     "output_type": "display_data"
    }
   ],
   "source": [
    "#different Threshold levels:\n",
    "def gradientDescent_1(dataFile, dataTarget, coeffMatrix, alpha, iterations):\n",
    "    costHistory = [0] * iterations;\n",
    "    dataLength = len(dataTarget);\n",
    "    for i in range(iterations):\n",
    "        loss = dataFile.dot(coeffMatrix.T) - dataTarget;\n",
    "        gradient = dataFile.T.dot(loss) / dataLength;\n",
    "        coeffMatrix = coeffMatrix - (alpha * gradient.T);\n",
    "        costValue = costFunction(dataFile, dataTarget, coeffMatrix);\n",
    "        costHistory[i] = costValue;    \n",
    "    list=[0.000001];\n",
    "    cost1 = []\n",
    "    for k in list:\n",
    "        for j in range(len(costHistory)-1):\n",
    "            c = abs(costHistory[j]- costHistory[j+1])\n",
    "            if c <=k:\n",
    "                print(\"Threshold level\",k,'\\n')\n",
    "                print(\"Cost Function converges at\", j,'\\n')\n",
    "                print('Model Cost: ', costHistory[j], '\\n')\n",
    "                break\n",
    "        cost1.append(costHistory[j])\n",
    "        print('Model Coefficients: ');\n",
    "        print(coeffMatrix);\n",
    "    print('alpha:',alpha);\n",
    "    plt.plot(costHistory) \n",
    "    plt.xlabel(\"Number of iterations\") \n",
    "    plt.ylabel(\"Cost\") \n",
    "    plt.show() \n",
    "    return coeffMatrix, costHistory;\n",
    "def developLinearModel_1(dataFile, dataTarget):\n",
    "    coeffMatrix = np.zeros((1, len(dataFile[0])));\n",
    "    print(coeffMatrix);\n",
    "    print();\n",
    "    initialCost = costFunction(dataFile, dataTarget, coeffMatrix);\n",
    "    print('Initial Cost: ', initialCost, '\\n');\n",
    "    coeffMatrix, costHistory = gradientDescent_1(dataFile, dataTarget, coeffMatrix,0.2,20000);\n",
    "    return coeffMatrix;\n",
    "linearModel_tr41 = developLinearModel_1(x1_train,y1_train)\n",
    "linearModel_te41 = developLinearModel_1(x1_test,y1_test)\n"
   ]
  },
  {
   "cell_type": "code",
   "execution_count": 86,
   "metadata": {},
   "outputs": [
    {
     "name": "stdout",
     "output_type": "stream",
     "text": [
      "[[0. 0. 0. 0. 0. 0. 0. 0. 0. 0. 0. 0. 0. 0.]]\n",
      "\n",
      "Initial Cost:  0.5000000000000001 \n",
      "\n",
      "Threshold level 1e-07 \n",
      "\n",
      "Cost Function converges at 56 \n",
      "\n",
      "Model Cost:  0.2214328936484323 \n",
      "\n",
      "Model Coefficients: \n",
      "[[ 0.50203577  0.39637015  0.08442112 -0.39594155 -0.38179981  0.00059929\n",
      "  -0.00129512 -0.01332445 -0.01542743 -0.04102379 -0.06070891 -0.00880489\n",
      "  -0.0883344  -0.02479818]]\n",
      "alpha: 0.2\n"
     ]
    },
    {
     "data": {
      "image/png": "[encoded data removed]",
      "text/plain": [
       "<Figure size 432x288 with 1 Axes>"
      ]
     },
     "metadata": {},
     "output_type": "display_data"
    },
    {
     "name": "stdout",
     "output_type": "stream",
     "text": [
      "[[0. 0. 0. 0. 0. 0. 0. 0. 0. 0. 0. 0. 0. 0.]]\n",
      "\n",
      "Initial Cost:  0.5013704313109258 \n",
      "\n",
      "Threshold level 1e-07 \n",
      "\n",
      "Cost Function converges at 56 \n",
      "\n",
      "Model Cost:  0.22103145028861879 \n",
      "\n",
      "Model Coefficients: \n",
      "[[ 5.03945847e-01  3.97442021e-01  7.67929989e-02 -3.94714198e-01\n",
      "  -3.81280752e-01 -4.02673890e-04 -2.86102261e-03 -1.81029797e-02\n",
      "  -1.56016625e-02 -4.16766373e-02 -5.45007663e-02 -4.85821976e-03\n",
      "  -9.06122486e-02 -1.98158678e-02]]\n",
      "alpha: 0.2\n"
     ]
    },
    {
     "data": {
      "image/png": "[encoded data removed]",
      "text/plain": [
       "<Figure size 432x288 with 1 Axes>"
      ]
     },
     "metadata": {},
     "output_type": "display_data"
    }
   ],
   "source": [
    "#Best Model\n",
    "def gradientDescent_1(dataFile, dataTarget, coeffMatrix, alpha, iterations):\n",
    "    costHistory = [0] * iterations;\n",
    "    dataLength = len(dataTarget);\n",
    "    for i in range(iterations):\n",
    "        loss = dataFile.dot(coeffMatrix.T) - dataTarget;\n",
    "        gradient = dataFile.T.dot(loss) / dataLength;\n",
    "        coeffMatrix = coeffMatrix - (alpha * gradient.T);\n",
    "        costValue = costFunction(dataFile, dataTarget, coeffMatrix);\n",
    "        costHistory[i] = costValue;    \n",
    "    list=[0.0000001];\n",
    "    cost1 = []\n",
    "    for k in list:\n",
    "        for j in range(len(costHistory)-1):\n",
    "            c = abs(costHistory[j]- costHistory[j+1])\n",
    "            if c <=k:\n",
    "                print(\"Threshold level\",k,'\\n')\n",
    "                print(\"Cost Function converges at\", j,'\\n')\n",
    "                print('Model Cost: ', costHistory[j], '\\n')\n",
    "                break\n",
    "        cost1.append(costHistory[j])\n",
    "        print('Model Coefficients: ');\n",
    "        print(coeffMatrix);\n",
    "    print('alpha:',alpha);\n",
    "    plt.plot(costHistory) \n",
    "    plt.xlabel(\"Number of iterations\") \n",
    "    plt.ylabel(\"Cost\") \n",
    "    plt.show() \n",
    "    return coeffMatrix, costHistory;\n",
    "def developLinearModel_1(dataFile, dataTarget):\n",
    "    coeffMatrix = np.zeros((1, len(dataFile[0])));\n",
    "    print(coeffMatrix);\n",
    "    print();\n",
    "    initialCost = costFunction(dataFile, dataTarget, coeffMatrix);\n",
    "    print('Initial Cost: ', initialCost, '\\n');\n",
    "    coeffMatrix, costHistory = gradientDescent_1(dataFile, dataTarget, coeffMatrix,0.2,20000);\n",
    "    return coeffMatrix;\n",
    "linearModel_tr51 = developLinearModel_1(x1_train,y1_train)\n",
    "linearModel_te51 = developLinearModel_1(x1_test,y1_test)\n"
   ]
  },
  {
   "cell_type": "code",
   "execution_count": 87,
   "metadata": {},
   "outputs": [],
   "source": [
    "predictedTarget_te11 = predict(x1_test, linearModel_te11);\n",
    "predictedTarget_te21 = predict(x1_test, linearModel_te21);\n",
    "predictedTarget_te31 = predict(x1_test, linearModel_te31);\n",
    "predictedTarget_te41 = predict(x1_test, linearModel_te41);\n",
    "predictedTarget_te51 = predict(x1_test, linearModel_te51);\n",
    "\n",
    "predictedTarget_tr11 = predict(x1_train, linearModel_tr11);\n",
    "predictedTarget_tr21 = predict(x1_train, linearModel_tr21);\n",
    "predictedTarget_tr31 = predict(x1_train, linearModel_tr31);\n",
    "predictedTarget_tr41 = predict(x1_train, linearModel_tr41);\n",
    "predictedTarget_tr51 = predict(x1_train, linearModel_tr51);"
   ]
  },
  {
   "cell_type": "code",
   "execution_count": 88,
   "metadata": {},
   "outputs": [],
   "source": [
    "modelMSE_te11 = calculateMSE(y1_test, predictedTarget_te11);\n",
    "modelMSE_te21 = calculateMSE(y1_test, predictedTarget_te21);\n",
    "modelMSE_te31 = calculateMSE(y1_test, predictedTarget_te31);\n",
    "modelMSE_te41= calculateMSE(y1_test, predictedTarget_te41);\n",
    "modelMSE_te51 = calculateMSE(y1_test, predictedTarget_te51);\n",
    "\n",
    "modelMSE_tr11 = calculateMSE(y1_train, predictedTarget_tr11);\n",
    "modelMSE_tr21 = calculateMSE(y1_train, predictedTarget_tr21);\n",
    "modelMSE_tr31 = calculateMSE(y1_train, predictedTarget_tr31);\n",
    "modelMSE_tr41 = calculateMSE(y1_train, predictedTarget_tr41);\n",
    "modelMSE_tr51 = calculateMSE(y1_train, predictedTarget_tr51);"
   ]
  },
  {
   "cell_type": "code",
   "execution_count": 89,
   "metadata": {},
   "outputs": [
    {
     "name": "stdout",
     "output_type": "stream",
     "text": [
      "Model MSE Train1 for Threshold 0.001: [0.44286479] \n",
      "\n",
      "Model MSE Train2 for Threshold 0.0001: [0.44286479] \n",
      "\n",
      "Model MSE Train3 for Threshold 0.00001: [0.44286479] \n",
      "\n",
      "Model MSE Train4 for Threshold 0.000001: [0.44286479] \n",
      "\n",
      "Model MSE Train5 for Threshold 0.0000001: [0.44286479] \n",
      "\n"
     ]
    }
   ],
   "source": [
    "print('Model MSE Train1 for Threshold 0.001:', modelMSE_tr11,'\\n');\n",
    "print('Model MSE Train2 for Threshold 0.0001:', modelMSE_tr21,'\\n');\n",
    "print('Model MSE Train3 for Threshold 0.00001:', modelMSE_tr31,'\\n');\n",
    "print('Model MSE Train4 for Threshold 0.000001:', modelMSE_tr41,'\\n');\n",
    "print('Model MSE Train5 for Threshold 0.0000001:', modelMSE_tr51,'\\n');"
   ]
  },
  {
   "cell_type": "code",
   "execution_count": 90,
   "metadata": {},
   "outputs": [
    {
     "name": "stdout",
     "output_type": "stream",
     "text": [
      "Model MSE Test for Threshold 0.001: [0.44206195] \n",
      "\n",
      "Model MSE Test for Threshold 0.0001: [0.44206195] \n",
      "\n",
      "Model MSE Test for Threshold 0.00001: [0.44206195] \n",
      "\n",
      "Model MSE Test for Threshold 0.000001: [0.44206195] \n",
      "\n",
      "Model MSE Test for Threshold 0.0000001: [0.44206195] \n",
      "\n"
     ]
    }
   ],
   "source": [
    "print('Model MSE Test for Threshold 0.001:', modelMSE_te11,'\\n');\n",
    "print('Model MSE Test for Threshold 0.0001:', modelMSE_te21,'\\n');\n",
    "print('Model MSE Test for Threshold 0.00001:', modelMSE_te31,'\\n');\n",
    "print('Model MSE Test for Threshold 0.000001:', modelMSE_te41,'\\n');\n",
    "print('Model MSE Test for Threshold 0.0000001:', modelMSE_te51,'\\n');"
   ]
  },
  {
   "cell_type": "code",
   "execution_count": 91,
   "metadata": {},
   "outputs": [],
   "source": [
    "modelR2_tr11 = modelRSquared(y1_train, predictedTarget_tr11);\n",
    "modelR2_tr21 = modelRSquared(y1_train, predictedTarget_tr21);\n",
    "modelR2_tr31 = modelRSquared(y1_train, predictedTarget_tr31);\n",
    "modelR2_tr41 = modelRSquared(y1_train, predictedTarget_tr41);\n",
    "modelR2_tr51 = modelRSquared(y1_train, predictedTarget_tr51);\n",
    "\n",
    "modelR2_te11 = modelRSquared(y1_test, predictedTarget_te11);\n",
    "modelR2_te21 = modelRSquared(y1_test, predictedTarget_te21);\n",
    "modelR2_te31 = modelRSquared(y1_test, predictedTarget_te31);\n",
    "modelR2_te41 = modelRSquared(y1_test, predictedTarget_te41);\n",
    "modelR2_te51 = modelRSquared(y1_test, predictedTarget_te51);"
   ]
  },
  {
   "cell_type": "code",
   "execution_count": 92,
   "metadata": {},
   "outputs": [
    {
     "name": "stdout",
     "output_type": "stream",
     "text": [
      "Model R-Squared for Training:  \n",
      " 0.5571352075376292 \n",
      " 0.5571352075376292 \n",
      " 0.5571352075376292 \n",
      " 0.5571352075376292 \n",
      " 0.5571352075376292 \n",
      "\n"
     ]
    }
   ],
   "source": [
    "print('Model R-Squared for Training: ','\\n', modelR2_tr11,'\\n', modelR2_tr21,'\\n', \n",
    "      modelR2_tr31,'\\n', modelR2_tr41,'\\n',modelR2_tr51, '\\n');"
   ]
  },
  {
   "cell_type": "code",
   "execution_count": 93,
   "metadata": {},
   "outputs": [
    {
     "name": "stdout",
     "output_type": "stream",
     "text": [
      "Model R-Squared for Test:  \n",
      " 0.5591393174777735 \n",
      " 0.5591393174777735 \n",
      " 0.5591393174777735 \n",
      " 0.5591393174777735 \n",
      " 0.5591393174777735 \n",
      "\n"
     ]
    }
   ],
   "source": [
    "print('Model R-Squared for Test: ','\\n', modelR2_te11,'\\n', modelR2_te21,'\\n', \n",
    "      modelR2_te31,'\\n', modelR2_te41,'\\n',modelR2_te51, '\\n');"
   ]
  },
  {
   "cell_type": "markdown",
   "metadata": {},
   "source": [
    "# Experiment_2 for logistic regression"
   ]
  },
  {
   "cell_type": "code",
   "execution_count": 128,
   "metadata": {},
   "outputs": [],
   "source": [
    "avg_gpu_usage_x = ['average_gpu_runtime_Class']\n",
    "target_x = gpu_usage_a[avg_gpu_usage_x]\n",
    "target_x\n",
    "\n",
    "from sklearn.model_selection import train_test_split\n",
    "x1_train_l, x1_test_l, y1_train_l, y1_test_l = train_test_split(feature_1b, target_x, test_size = 0.20, random_state = 0)\n"
   ]
  },
  {
   "cell_type": "code",
   "execution_count": 129,
   "metadata": {},
   "outputs": [],
   "source": [
    "# To scale data \n",
    "x1_train_l = scaler.fit_transform(x1_train_l)\n",
    "x1_test_l = scaler.transform(x1_test_l)\n",
    "y1_train_l = scaler.fit_transform(y1_train_l)\n",
    "y1_test_l = scaler.transform(y1_test_l)\n"
   ]
  },
  {
   "cell_type": "code",
   "execution_count": 130,
   "metadata": {},
   "outputs": [
    {
     "name": "stdout",
     "output_type": "stream",
     "text": [
      "[[0. 0. 0. 0. 0. 0. 0. 0. 0. 0. 0. 0. 0. 0.]]\n",
      "\n",
      "Initial Cost:  0.4999999999999998 \n",
      "\n",
      "Threshold level 0.001 \n",
      "\n",
      "Cost Function converges at 12 \n",
      "\n",
      "Model Cost:  0.32605178376197813 \n",
      "\n",
      "Model Coefficients: \n",
      "[[ 0.44917305  0.27504323  0.04886828 -0.28719797 -0.24562571 -0.01238468\n",
      "  -0.02016434 -0.00444076 -0.02129589 -0.04532177 -0.10232155 -0.0107943\n",
      "  -0.12658488 -0.02685845]]\n",
      "alpha: 0.2\n"
     ]
    },
    {
     "data": {
      "image/png": "[encoded data removed]",
      "text/plain": [
       "<Figure size 432x288 with 1 Axes>"
      ]
     },
     "metadata": {},
     "output_type": "display_data"
    },
    {
     "name": "stdout",
     "output_type": "stream",
     "text": [
      "[[0. 0. 0. 0. 0. 0. 0. 0. 0. 0. 0. 0. 0. 0.]]\n",
      "\n",
      "Initial Cost:  0.500021685936652 \n",
      "\n",
      "Threshold level 0.001 \n",
      "\n",
      "Cost Function converges at 12 \n",
      "\n",
      "Model Cost:  0.3242811716368278 \n",
      "\n",
      "Model Coefficients: \n",
      "[[ 0.45087771  0.27599623  0.04395744 -0.28873858 -0.24240392 -0.0119899\n",
      "  -0.02190159 -0.00644696 -0.01921664 -0.04378868 -0.10003214 -0.0042756\n",
      "  -0.12517046 -0.02116267]]\n",
      "alpha: 0.2\n"
     ]
    },
    {
     "data": {
      "image/png": "[encoded data removed]",
      "text/plain": [
       "<Figure size 432x288 with 1 Axes>"
      ]
     },
     "metadata": {},
     "output_type": "display_data"
    }
   ],
   "source": [
    "\n",
    "\n",
    "#different Threshold levels:\n",
    "def gradientDescent_1(dataFile, dataTarget, coeffMatrix, alpha, iterations):\n",
    "    costHistory = [0] * iterations;\n",
    "    dataLength = len(dataTarget);\n",
    "    for i in range(iterations):\n",
    "        loss = dataFile.dot(coeffMatrix.T) - dataTarget;\n",
    "        gradient = dataFile.T.dot(loss) / dataLength;\n",
    "        coeffMatrix = coeffMatrix - (alpha * gradient.T);\n",
    "        costValue = costFunction(dataFile, dataTarget, coeffMatrix);\n",
    "        costHistory[i] = costValue;    \n",
    "    list=[0.001];\n",
    "    cost1 = []\n",
    "    for k in list:\n",
    "        for j in range(len(costHistory)-1):\n",
    "            c = abs(costHistory[j]- costHistory[j+1])\n",
    "            if c <=k:\n",
    "                print(\"Threshold level\",k,'\\n')\n",
    "                print(\"Cost Function converges at\", j,'\\n')\n",
    "                print('Model Cost: ', costHistory[j], '\\n')\n",
    "                break\n",
    "        cost1.append(costHistory[j])\n",
    "        print('Model Coefficients: ');\n",
    "        print(coeffMatrix);\n",
    "    print('alpha:',alpha);\n",
    "    plt.plot(costHistory) \n",
    "    plt.xlabel(\"Number of iterations\") \n",
    "    plt.ylabel(\"Cost\") \n",
    "    plt.show() \n",
    "    return coeffMatrix, costHistory;\n",
    "def developLogisticModel_1(dataFile, dataTarget):\n",
    "    coeffMatrix = np.zeros((1, len(dataFile[0])));\n",
    "    print(coeffMatrix);\n",
    "    print();\n",
    "    initialCost = costFunction(dataFile, dataTarget, coeffMatrix);\n",
    "    print('Initial Cost: ', initialCost, '\\n');\n",
    "    coeffMatrix, costHistory = gradientDescent_1(dataFile, dataTarget, coeffMatrix,0.2,50000);\n",
    "    return coeffMatrix;\n",
    "logisticModel_tr11 = developLogisticModel_1(x1_train_l,y1_train_l)\n",
    "logisticModel_te11 = developLogisticModel_1(x1_test_l,y1_test_l)\n"
   ]
  },
  {
   "cell_type": "code",
   "execution_count": 131,
   "metadata": {},
   "outputs": [
    {
     "name": "stdout",
     "output_type": "stream",
     "text": [
      "[[0. 0. 0. 0. 0. 0. 0. 0. 0. 0. 0. 0. 0. 0.]]\n",
      "\n",
      "Initial Cost:  0.4999999999999998 \n",
      "\n",
      "Threshold level 0.0001 \n",
      "\n",
      "Cost Function converges at 22 \n",
      "\n",
      "Model Cost:  0.32205971719240606 \n",
      "\n",
      "Model Coefficients: \n",
      "[[ 0.44917305  0.27504323  0.04886828 -0.28719797 -0.24562571 -0.01238468\n",
      "  -0.02016434 -0.00444076 -0.02129589 -0.04532177 -0.10232155 -0.0107943\n",
      "  -0.12658488 -0.02685845]]\n",
      "alpha: 0.2\n"
     ]
    },
    {
     "data": {
      "image/png": "[encoded data removed]",
      "text/plain": [
       "<Figure size 432x288 with 1 Axes>"
      ]
     },
     "metadata": {},
     "output_type": "display_data"
    },
    {
     "name": "stdout",
     "output_type": "stream",
     "text": [
      "[[0. 0. 0. 0. 0. 0. 0. 0. 0. 0. 0. 0. 0. 0.]]\n",
      "\n",
      "Initial Cost:  0.500021685936652 \n",
      "\n",
      "Threshold level 0.0001 \n",
      "\n",
      "Cost Function converges at 22 \n",
      "\n",
      "Model Cost:  0.32036026962023395 \n",
      "\n",
      "Model Coefficients: \n",
      "[[ 0.45087771  0.27599623  0.04395744 -0.28873858 -0.24240392 -0.0119899\n",
      "  -0.02190159 -0.00644696 -0.01921664 -0.04378868 -0.10003214 -0.0042756\n",
      "  -0.12517046 -0.02116267]]\n",
      "alpha: 0.2\n"
     ]
    },
    {
     "data": {
      "image/png": "[encoded data removed]",
      "text/plain": [
       "<Figure size 432x288 with 1 Axes>"
      ]
     },
     "metadata": {},
     "output_type": "display_data"
    }
   ],
   "source": [
    "#different Threshold levels:\n",
    "def gradientDescent_1(dataFile, dataTarget, coeffMatrix, alpha, iterations):\n",
    "    costHistory = [0] * iterations;\n",
    "    dataLength = len(dataTarget);\n",
    "    for i in range(iterations):\n",
    "        loss = dataFile.dot(coeffMatrix.T) - dataTarget;\n",
    "        gradient = dataFile.T.dot(loss) / dataLength;\n",
    "        coeffMatrix = coeffMatrix - (alpha * gradient.T);\n",
    "        costValue = costFunction(dataFile, dataTarget, coeffMatrix);\n",
    "        costHistory[i] = costValue;    \n",
    "    list=[0.0001];\n",
    "    cost1 = []\n",
    "    for k in list:\n",
    "        for j in range(len(costHistory)-1):\n",
    "            c = abs(costHistory[j]- costHistory[j+1])\n",
    "            if c <=k:\n",
    "                print(\"Threshold level\",k,'\\n')\n",
    "                print(\"Cost Function converges at\", j,'\\n')\n",
    "                print('Model Cost: ', costHistory[j], '\\n')\n",
    "                break\n",
    "        cost1.append(costHistory[j])\n",
    "        print('Model Coefficients: ');\n",
    "        print(coeffMatrix);\n",
    "    print('alpha:',alpha);\n",
    "    plt.plot(costHistory) \n",
    "    plt.xlabel(\"Number of iterations\") \n",
    "    plt.ylabel(\"Cost\") \n",
    "    plt.show() \n",
    "    return coeffMatrix, costHistory;\n",
    "def developLogisticModel_1(dataFile, dataTarget):\n",
    "    coeffMatrix = np.zeros((1, len(dataFile[0])));\n",
    "    print(coeffMatrix);\n",
    "    print();\n",
    "    initialCost = costFunction(dataFile, dataTarget, coeffMatrix);\n",
    "    print('Initial Cost: ', initialCost, '\\n');\n",
    "    coeffMatrix, costHistory = gradientDescent_1(dataFile, dataTarget, coeffMatrix,0.2,20000);\n",
    "    return coeffMatrix;\n",
    "logisticModel_tr21 = developLogisticModel_1(x1_train_l,y1_train_l)\n",
    "logisticModel_te21 = developLogisticModel_1(x1_test_l,y1_test_l)\n"
   ]
  },
  {
   "cell_type": "code",
   "execution_count": 132,
   "metadata": {},
   "outputs": [
    {
     "name": "stdout",
     "output_type": "stream",
     "text": [
      "[[0. 0. 0. 0. 0. 0. 0. 0. 0. 0. 0. 0. 0. 0.]]\n",
      "\n",
      "Initial Cost:  0.4999999999999998 \n",
      "\n",
      "Threshold level 1e-05 \n",
      "\n",
      "Cost Function converges at 33 \n",
      "\n",
      "Model Cost:  0.32160779433052966 \n",
      "\n",
      "Model Coefficients: \n",
      "[[ 0.44917305  0.27504323  0.04886828 -0.28719797 -0.24562571 -0.01238468\n",
      "  -0.02016434 -0.00444076 -0.02129589 -0.04532177 -0.10232155 -0.0107943\n",
      "  -0.12658488 -0.02685845]]\n",
      "alpha: 0.2\n"
     ]
    },
    {
     "data": {
      "image/png": "[encoded data removed]",
      "text/plain": [
       "<Figure size 432x288 with 1 Axes>"
      ]
     },
     "metadata": {},
     "output_type": "display_data"
    },
    {
     "name": "stdout",
     "output_type": "stream",
     "text": [
      "[[0. 0. 0. 0. 0. 0. 0. 0. 0. 0. 0. 0. 0. 0.]]\n",
      "\n",
      "Initial Cost:  0.500021685936652 \n",
      "\n",
      "Threshold level 1e-05 \n",
      "\n",
      "Cost Function converges at 33 \n",
      "\n",
      "Model Cost:  0.31991913319942317 \n",
      "\n",
      "Model Coefficients: \n",
      "[[ 0.45087771  0.27599623  0.04395744 -0.28873858 -0.24240392 -0.0119899\n",
      "  -0.02190159 -0.00644696 -0.01921664 -0.04378868 -0.10003214 -0.0042756\n",
      "  -0.12517046 -0.02116267]]\n",
      "alpha: 0.2\n"
     ]
    },
    {
     "data": {
      "image/png": "[encoded data removed]",
      "text/plain": [
       "<Figure size 432x288 with 1 Axes>"
      ]
     },
     "metadata": {},
     "output_type": "display_data"
    }
   ],
   "source": [
    "#different Threshold levels:\n",
    "def gradientDescent_1(dataFile, dataTarget, coeffMatrix, alpha, iterations):\n",
    "    costHistory = [0] * iterations;\n",
    "    dataLength = len(dataTarget);\n",
    "    for i in range(iterations):\n",
    "        loss = dataFile.dot(coeffMatrix.T) - dataTarget;\n",
    "        gradient = dataFile.T.dot(loss) / dataLength;\n",
    "        coeffMatrix = coeffMatrix - (alpha * gradient.T);\n",
    "        costValue = costFunction(dataFile, dataTarget, coeffMatrix);\n",
    "        costHistory[i] = costValue;    \n",
    "    list=[0.00001];\n",
    "    cost1 = []\n",
    "    for k in list:\n",
    "        for j in range(len(costHistory)-1):\n",
    "            c = abs(costHistory[j]- costHistory[j+1])\n",
    "            if c <=k:\n",
    "                print(\"Threshold level\",k,'\\n')\n",
    "                print(\"Cost Function converges at\", j,'\\n')\n",
    "                print('Model Cost: ', costHistory[j], '\\n')\n",
    "                break\n",
    "        cost1.append(costHistory[j])\n",
    "        print('Model Coefficients: ');\n",
    "        print(coeffMatrix);\n",
    "    print('alpha:',alpha);\n",
    "    plt.plot(costHistory) \n",
    "    plt.xlabel(\"Number of iterations\") \n",
    "    plt.ylabel(\"Cost\") \n",
    "    plt.show() \n",
    "    return coeffMatrix, costHistory;\n",
    "def developLogisticModel_1(dataFile, dataTarget):\n",
    "    coeffMatrix = np.zeros((1, len(dataFile[0])));\n",
    "    print(coeffMatrix);\n",
    "    print();\n",
    "    initialCost = costFunction(dataFile, dataTarget, coeffMatrix);\n",
    "    print('Initial Cost: ', initialCost, '\\n');\n",
    "    coeffMatrix, costHistory = gradientDescent_1(dataFile, dataTarget, coeffMatrix,0.2,20000);\n",
    "    return coeffMatrix;\n",
    "logisticModel_tr31 = developLogisticModel_1(x1_train_l,y1_train_l)\n",
    "logisticModel_te31 = developLogisticModel_1(x1_test_l,y1_test_l)\n"
   ]
  },
  {
   "cell_type": "code",
   "execution_count": 133,
   "metadata": {},
   "outputs": [
    {
     "name": "stdout",
     "output_type": "stream",
     "text": [
      "[[0. 0. 0. 0. 0. 0. 0. 0. 0. 0. 0. 0. 0. 0.]]\n",
      "\n",
      "Initial Cost:  0.4999999999999998 \n",
      "\n",
      "Threshold level 1e-06 \n",
      "\n",
      "Cost Function converges at 43 \n",
      "\n",
      "Model Cost:  0.32156792022212594 \n",
      "\n",
      "Model Coefficients: \n",
      "[[ 0.44917305  0.27504323  0.04886828 -0.28719797 -0.24562571 -0.01238468\n",
      "  -0.02016434 -0.00444076 -0.02129589 -0.04532177 -0.10232155 -0.0107943\n",
      "  -0.12658488 -0.02685845]]\n",
      "alpha: 0.2\n"
     ]
    },
    {
     "data": {
      "image/png": "[encoded data removed]",
      "text/plain": [
       "<Figure size 432x288 with 1 Axes>"
      ]
     },
     "metadata": {},
     "output_type": "display_data"
    },
    {
     "name": "stdout",
     "output_type": "stream",
     "text": [
      "[[0. 0. 0. 0. 0. 0. 0. 0. 0. 0. 0. 0. 0. 0.]]\n",
      "\n",
      "Initial Cost:  0.500021685936652 \n",
      "\n",
      "Threshold level 1e-06 \n",
      "\n",
      "Cost Function converges at 43 \n",
      "\n",
      "Model Cost:  0.3198804144551451 \n",
      "\n",
      "Model Coefficients: \n",
      "[[ 0.45087771  0.27599623  0.04395744 -0.28873858 -0.24240392 -0.0119899\n",
      "  -0.02190159 -0.00644696 -0.01921664 -0.04378868 -0.10003214 -0.0042756\n",
      "  -0.12517046 -0.02116267]]\n",
      "alpha: 0.2\n"
     ]
    },
    {
     "data": {
      "image/png": "[encoded data removed]",
      "text/plain": [
       "<Figure size 432x288 with 1 Axes>"
      ]
     },
     "metadata": {},
     "output_type": "display_data"
    }
   ],
   "source": [
    "#different Threshold levels:\n",
    "def gradientDescent_1(dataFile, dataTarget, coeffMatrix, alpha, iterations):\n",
    "    costHistory = [0] * iterations;\n",
    "    dataLength = len(dataTarget);\n",
    "    for i in range(iterations):\n",
    "        loss = dataFile.dot(coeffMatrix.T) - dataTarget;\n",
    "        gradient = dataFile.T.dot(loss) / dataLength;\n",
    "        coeffMatrix = coeffMatrix - (alpha * gradient.T);\n",
    "        costValue = costFunction(dataFile, dataTarget, coeffMatrix);\n",
    "        costHistory[i] = costValue;    \n",
    "    list=[0.000001];\n",
    "    cost1 = []\n",
    "    for k in list:\n",
    "        for j in range(len(costHistory)-1):\n",
    "            c = abs(costHistory[j]- costHistory[j+1])\n",
    "            if c <=k:\n",
    "                print(\"Threshold level\",k,'\\n')\n",
    "                print(\"Cost Function converges at\", j,'\\n')\n",
    "                print('Model Cost: ', costHistory[j], '\\n')\n",
    "                break\n",
    "        cost1.append(costHistory[j])\n",
    "        print('Model Coefficients: ');\n",
    "        print(coeffMatrix);\n",
    "    print('alpha:',alpha);\n",
    "    plt.plot(costHistory) \n",
    "    plt.xlabel(\"Number of iterations\") \n",
    "    plt.ylabel(\"Cost\") \n",
    "    plt.show() \n",
    "    return coeffMatrix, costHistory;\n",
    "def developLogisticModel_1(dataFile, dataTarget):\n",
    "    coeffMatrix = np.zeros((1, len(dataFile[0])));\n",
    "    print(coeffMatrix);\n",
    "    print();\n",
    "    initialCost = costFunction(dataFile, dataTarget, coeffMatrix);\n",
    "    print('Initial Cost: ', initialCost, '\\n');\n",
    "    coeffMatrix, costHistory = gradientDescent_1(dataFile, dataTarget, coeffMatrix,0.2,20000);\n",
    "    return coeffMatrix;\n",
    "logisticModel_tr41 = developLogisticModel_1(x1_train_l,y1_train_l)\n",
    "logisticModel_te41 = developLogisticModel_1(x1_test_l,y1_test_l)\n"
   ]
  },
  {
   "cell_type": "code",
   "execution_count": 134,
   "metadata": {},
   "outputs": [
    {
     "name": "stdout",
     "output_type": "stream",
     "text": [
      "[[0. 0. 0. 0. 0. 0. 0. 0. 0. 0. 0. 0. 0. 0.]]\n",
      "\n",
      "Initial Cost:  0.4999999999999998 \n",
      "\n",
      "Threshold level 1e-07 \n",
      "\n",
      "Cost Function converges at 54 \n",
      "\n",
      "Model Cost:  0.32156330775823283 \n",
      "\n",
      "Model Coefficients: \n",
      "[[ 0.44917305  0.27504323  0.04886828 -0.28719797 -0.24562571 -0.01238468\n",
      "  -0.02016434 -0.00444076 -0.02129589 -0.04532177 -0.10232155 -0.0107943\n",
      "  -0.12658488 -0.02685845]]\n",
      "alpha: 0.2\n"
     ]
    },
    {
     "data": {
      "image/png": "[encoded data removed]",
      "text/plain": [
       "<Figure size 432x288 with 1 Axes>"
      ]
     },
     "metadata": {},
     "output_type": "display_data"
    },
    {
     "name": "stdout",
     "output_type": "stream",
     "text": [
      "[[0. 0. 0. 0. 0. 0. 0. 0. 0. 0. 0. 0. 0. 0.]]\n",
      "\n",
      "Initial Cost:  0.500021685936652 \n",
      "\n",
      "Threshold level 1e-07 \n",
      "\n",
      "Cost Function converges at 54 \n",
      "\n",
      "Model Cost:  0.31987595247812833 \n",
      "\n",
      "Model Coefficients: \n",
      "[[ 0.45087771  0.27599623  0.04395744 -0.28873858 -0.24240392 -0.0119899\n",
      "  -0.02190159 -0.00644696 -0.01921664 -0.04378868 -0.10003214 -0.0042756\n",
      "  -0.12517046 -0.02116267]]\n",
      "alpha: 0.2\n"
     ]
    },
    {
     "data": {
      "image/png": "[encoded data removed]",
      "text/plain": [
       "<Figure size 432x288 with 1 Axes>"
      ]
     },
     "metadata": {},
     "output_type": "display_data"
    }
   ],
   "source": [
    "#Best Model\n",
    "def gradientDescent_1(dataFile, dataTarget, coeffMatrix, alpha, iterations):\n",
    "    costHistory = [0] * iterations;\n",
    "    dataLength = len(dataTarget);\n",
    "    for i in range(iterations):\n",
    "        loss = dataFile.dot(coeffMatrix.T) - dataTarget;\n",
    "        gradient = dataFile.T.dot(loss) / dataLength;\n",
    "        coeffMatrix = coeffMatrix - (alpha * gradient.T);\n",
    "        costValue = costFunction(dataFile, dataTarget, coeffMatrix);\n",
    "        costHistory[i] = costValue;    \n",
    "    list=[0.0000001];\n",
    "    cost1 = []\n",
    "    for k in list:\n",
    "        for j in range(len(costHistory)-1):\n",
    "            c = abs(costHistory[j]- costHistory[j+1])\n",
    "            if c <=k:\n",
    "                print(\"Threshold level\",k,'\\n')\n",
    "                print(\"Cost Function converges at\", j,'\\n')\n",
    "                print('Model Cost: ', costHistory[j], '\\n')\n",
    "                break\n",
    "        cost1.append(costHistory[j])\n",
    "        print('Model Coefficients: ');\n",
    "        print(coeffMatrix);\n",
    "    print('alpha:',alpha);\n",
    "    plt.plot(costHistory) \n",
    "    plt.xlabel(\"Number of iterations\") \n",
    "    plt.ylabel(\"Cost\") \n",
    "    plt.show() \n",
    "    return coeffMatrix, costHistory;\n",
    "def developLogisticModel_1(dataFile, dataTarget):\n",
    "    coeffMatrix = np.zeros((1, len(dataFile[0])));\n",
    "    print(coeffMatrix);\n",
    "    print();\n",
    "    initialCost = costFunction(dataFile, dataTarget, coeffMatrix);\n",
    "    print('Initial Cost: ', initialCost, '\\n');\n",
    "    coeffMatrix, costHistory = gradientDescent_1(dataFile, dataTarget, coeffMatrix,0.2,20000);\n",
    "    return coeffMatrix;\n",
    "logisticModel_tr51 = developLogisticModel_1(x1_train_l,y1_train_l)\n",
    "logisticModel_te51 = developLogisticModel_1(x1_test_l,y1_test_l)\n"
   ]
  },
  {
   "cell_type": "code",
   "execution_count": 135,
   "metadata": {},
   "outputs": [],
   "source": [
    "predictedTarget_te11 = predict(x1_test, logisticModel_te11);\n",
    "predictedTarget_te21 = predict(x1_test, logisticModel_te21);\n",
    "predictedTarget_te31 = predict(x1_test, logisticModel_te31);\n",
    "predictedTarget_te41 = predict(x1_test, logisticModel_te41);\n",
    "predictedTarget_te51 = predict(x1_test, logisticModel_te51);\n",
    "\n",
    "predictedTarget_tr11 = predict(x1_train, logisticModel_tr11);\n",
    "predictedTarget_tr21 = predict(x1_train, logisticModel_tr21);\n",
    "predictedTarget_tr31 = predict(x1_train, logisticModel_tr31);\n",
    "predictedTarget_tr41 = predict(x1_train, logisticModel_tr41);\n",
    "predictedTarget_tr51 = predict(x1_train, logisticModel_tr51);"
   ]
  },
  {
   "cell_type": "code",
   "execution_count": 136,
   "metadata": {},
   "outputs": [],
   "source": [
    "modelMSE_te11 = calculateMSE(y1_test, predictedTarget_te11);\n",
    "modelMSE_te21 = calculateMSE(y1_test, predictedTarget_te21);\n",
    "modelMSE_te31 = calculateMSE(y1_test, predictedTarget_te31);\n",
    "modelMSE_te41= calculateMSE(y1_test, predictedTarget_te41);\n",
    "modelMSE_te51 = calculateMSE(y1_test, predictedTarget_te51);\n",
    "\n",
    "modelMSE_tr11 = calculateMSE(y1_train, predictedTarget_tr11);\n",
    "modelMSE_tr21 = calculateMSE(y1_train, predictedTarget_tr21);\n",
    "modelMSE_tr31 = calculateMSE(y1_train, predictedTarget_tr31);\n",
    "modelMSE_tr41 = calculateMSE(y1_train, predictedTarget_tr41);\n",
    "modelMSE_tr51 = calculateMSE(y1_train, predictedTarget_tr51);"
   ]
  },
  {
   "cell_type": "code",
   "execution_count": 137,
   "metadata": {},
   "outputs": [
    {
     "name": "stdout",
     "output_type": "stream",
     "text": [
      "Model MSE Train1 for Threshold 0.001: [0.48205217] \n",
      "\n",
      "Model MSE Train2 for Threshold 0.0001: [0.48205217] \n",
      "\n",
      "Model MSE Train3 for Threshold 0.00001: [0.48205217] \n",
      "\n",
      "Model MSE Train4 for Threshold 0.000001: [0.48205217] \n",
      "\n",
      "Model MSE Train5 for Threshold 0.0000001: [0.48205217] \n",
      "\n"
     ]
    }
   ],
   "source": [
    "print('Model MSE Train1 for Threshold 0.001:', modelMSE_tr11,'\\n');\n",
    "print('Model MSE Train2 for Threshold 0.0001:', modelMSE_tr21,'\\n');\n",
    "print('Model MSE Train3 for Threshold 0.00001:', modelMSE_tr31,'\\n');\n",
    "print('Model MSE Train4 for Threshold 0.000001:', modelMSE_tr41,'\\n');\n",
    "print('Model MSE Train5 for Threshold 0.0000001:', modelMSE_tr51,'\\n');"
   ]
  },
  {
   "cell_type": "code",
   "execution_count": 138,
   "metadata": {},
   "outputs": [
    {
     "name": "stdout",
     "output_type": "stream",
     "text": [
      "Model MSE Test for Threshold 0.001: [0.48105165] \n",
      "\n",
      "Model MSE Test for Threshold 0.0001: [0.48105165] \n",
      "\n",
      "Model MSE Test for Threshold 0.00001: [0.48105165] \n",
      "\n",
      "Model MSE Test for Threshold 0.000001: [0.48105165] \n",
      "\n",
      "Model MSE Test for Threshold 0.0000001: [0.48105165] \n",
      "\n"
     ]
    }
   ],
   "source": [
    "print('Model MSE Test for Threshold 0.001:', modelMSE_te11,'\\n');\n",
    "print('Model MSE Test for Threshold 0.0001:', modelMSE_te21,'\\n');\n",
    "print('Model MSE Test for Threshold 0.00001:', modelMSE_te31,'\\n');\n",
    "print('Model MSE Test for Threshold 0.000001:', modelMSE_te41,'\\n');\n",
    "print('Model MSE Test for Threshold 0.0000001:', modelMSE_te51,'\\n');"
   ]
  },
  {
   "cell_type": "code",
   "execution_count": 139,
   "metadata": {},
   "outputs": [],
   "source": [
    "modelR2_tr11 = modelRSquared(y1_train, predictedTarget_tr11);\n",
    "modelR2_tr21 = modelRSquared(y1_train, predictedTarget_tr21);\n",
    "modelR2_tr31 = modelRSquared(y1_train, predictedTarget_tr31);\n",
    "modelR2_tr41 = modelRSquared(y1_train, predictedTarget_tr41);\n",
    "modelR2_tr51 = modelRSquared(y1_train, predictedTarget_tr51);\n",
    "\n",
    "modelR2_te11 = modelRSquared(y1_test, predictedTarget_te11);\n",
    "modelR2_te21 = modelRSquared(y1_test, predictedTarget_te21);\n",
    "modelR2_te31 = modelRSquared(y1_test, predictedTarget_te31);\n",
    "modelR2_te41 = modelRSquared(y1_test, predictedTarget_te41);\n",
    "modelR2_te51 = modelRSquared(y1_test, predictedTarget_te51);"
   ]
  },
  {
   "cell_type": "code",
   "execution_count": 140,
   "metadata": {},
   "outputs": [
    {
     "name": "stdout",
     "output_type": "stream",
     "text": [
      "Model R-Squared for Training:  \n",
      " 0.5179478257799297 \n",
      " 0.5179478257799297 \n",
      " 0.5179478257799297 \n",
      " 0.5179478257799297 \n",
      " 0.5179478257799297 \n",
      "\n"
     ]
    }
   ],
   "source": [
    "print('Model R-Squared for Training: ','\\n', modelR2_tr11,'\\n', modelR2_tr21,'\\n', \n",
    "      modelR2_tr31,'\\n', modelR2_tr41,'\\n',modelR2_tr51, '\\n');"
   ]
  },
  {
   "cell_type": "code",
   "execution_count": 141,
   "metadata": {},
   "outputs": [
    {
     "name": "stdout",
     "output_type": "stream",
     "text": [
      "Model R-Squared for Test:  \n",
      " 0.5202555685349817 \n",
      " 0.5202555685349817 \n",
      " 0.5202555685349817 \n",
      " 0.5202555685349817 \n",
      " 0.5202555685349817 \n",
      "\n"
     ]
    }
   ],
   "source": [
    "print('Model R-Squared for Test: ','\\n', modelR2_te11,'\\n', modelR2_te21,'\\n', \n",
    "      modelR2_te31,'\\n', modelR2_te41,'\\n',modelR2_te51, '\\n');"
   ]
  },
  {
   "cell_type": "markdown",
   "metadata": {},
   "source": [
    "# Experimet 3"
   ]
  },
  {
   "cell_type": "code",
   "execution_count": 142,
   "metadata": {},
   "outputs": [],
   "source": [
    "feature_c = ['MWG', 'NWG', 'KWG', 'MDIMC', 'NDIMC', 'MDIMA', 'NDIMB', 'KWI', 'VWM', 'VWN']\n",
    "feature_3 = gpu_usage_a[feature_c]\n",
    "target_3 = gpu_usage_a[avg_gpu_usage_1]"
   ]
  },
  {
   "cell_type": "code",
   "execution_count": 143,
   "metadata": {},
   "outputs": [],
   "source": [
    "x3_train, x3_test, y3_train, y3_test = train_test_split(feature_3, target_3, test_size = 0.2, random_state = 0)"
   ]
  },
  {
   "cell_type": "code",
   "execution_count": 144,
   "metadata": {},
   "outputs": [],
   "source": [
    "x3_train=scaler.fit_transform(x3_train)\n",
    "x3_test=scaler.transform(x3_test)\n",
    "y3_train = scaler.fit_transform(y3_train)\n",
    "y3_test=scaler.transform(y3_test)"
   ]
  },
  {
   "cell_type": "code",
   "execution_count": 145,
   "metadata": {},
   "outputs": [
    {
     "name": "stdout",
     "output_type": "stream",
     "text": [
      "[[0. 0. 0. 0. 0. 0. 0. 0. 0. 0.]]\n",
      "\n",
      "Initial Cost:  0.5000000000000001 \n",
      "\n",
      "Threshold level 1e-07 \n",
      "\n",
      "Cost Function converges at 56 \n",
      "\n",
      "Model Cost:  0.22752108849868247 \n",
      "\n",
      "Model Coefficients: \n",
      "[[ 0.50227688  0.39675927  0.08463525 -0.39620961 -0.38205337  0.00070927\n",
      "  -0.00144764 -0.01320392 -0.01557582 -0.04111946]]\n",
      "alpha: 0.2\n"
     ]
    },
    {
     "data": {
      "image/png": "[encoded data removed]",
      "text/plain": [
       "<Figure size 432x288 with 1 Axes>"
      ]
     },
     "metadata": {},
     "output_type": "display_data"
    },
    {
     "name": "stdout",
     "output_type": "stream",
     "text": [
      "[[0. 0. 0. 0. 0. 0. 0. 0. 0. 0.]]\n",
      "\n",
      "Initial Cost:  0.5013704313109258 \n",
      "\n",
      "Threshold level 1e-07 \n",
      "\n",
      "Cost Function converges at 56 \n",
      "\n",
      "Model Cost:  0.22681219615712456 \n",
      "\n",
      "Model Coefficients: \n",
      "[[ 0.50448357  0.39745478  0.07737854 -0.39532266 -0.38197565 -0.00057184\n",
      "  -0.00205928 -0.01748972 -0.01507099 -0.04149835]]\n",
      "alpha: 0.2\n"
     ]
    },
    {
     "data": {
      "image/png": "[encoded data removed]",
      "text/plain": [
       "<Figure size 432x288 with 1 Axes>"
      ]
     },
     "metadata": {},
     "output_type": "display_data"
    }
   ],
   "source": [
    "def developLinearModel(dataFile, dataTarget):\n",
    "    coeffMatrix = np.zeros((1, len(dataFile[0])));\n",
    "    print(coeffMatrix);\n",
    "    print();\n",
    "    initialCost = costFunction(dataFile, dataTarget, coeffMatrix);\n",
    "    print('Initial Cost: ', initialCost, '\\n');\n",
    "    coeffMatrix, costHistory = gradientDescent(dataFile, dataTarget, coeffMatrix,0.2, 50000);\n",
    "    return coeffMatrix;\n",
    "linearModel_31 = developLinearModel(x3_train,y3_train)\n",
    "linearModel_32 = developLinearModel(x3_test,y3_test)"
   ]
  },
  {
   "cell_type": "code",
   "execution_count": 146,
   "metadata": {},
   "outputs": [
    {
     "name": "stdout",
     "output_type": "stream",
     "text": [
      "Model MSE Train: [0.45369907] \n",
      "\n",
      "Model R-Squared for Train:  0.5475338184190661\n"
     ]
    }
   ],
   "source": [
    "predictedTarget_31 = predict(x3_test, linearModel_31);\n",
    "\n",
    "modelMSE_31 = calculateMSE(y3_test, predictedTarget_31);\n",
    "\n",
    "print('Model MSE Train:', modelMSE_31,'\\n');\n",
    "\n",
    "modelR2_31 = modelRSquared(y3_test, predictedTarget_31);\n",
    "print('Model R-Squared for Train: ', modelR2_31,);"
   ]
  },
  {
   "cell_type": "code",
   "execution_count": 147,
   "metadata": {},
   "outputs": [
    {
     "name": "stdout",
     "output_type": "stream",
     "text": [
      "Model MSE Text: [0.45362344] \n",
      "\n",
      "Model R-Squared for Test:  0.5475338184190661\n"
     ]
    }
   ],
   "source": [
    "predictedTarget_32 = predict(x3_test, linearModel_32);\n",
    "\n",
    "modelMSE_32 = calculateMSE(y3_test, predictedTarget_32);\n",
    "\n",
    "print('Model MSE Text:', modelMSE_32,'\\n');\n",
    "\n",
    "modelR2_32 = modelRSquared(y3_test, predictedTarget_31);\n",
    "print('Model R-Squared for Test: ', modelR2_32,);"
   ]
  },
  {
   "cell_type": "code",
   "execution_count": 148,
   "metadata": {},
   "outputs": [
    {
     "name": "stdout",
     "output_type": "stream",
     "text": [
      "Learning rate:  1.25\n",
      "Accuracy score (training): 0.869\n",
      "Accuracy score (test): 0.870\n",
      "Confusion Matrix:\n",
      "[[21682  2468]\n",
      " [ 3792 20276]]\n",
      "Classification Report\n",
      "              precision    recall  f1-score   support\n",
      "\n",
      "           0       0.85      0.90      0.87     24150\n",
      "           1       0.89      0.84      0.87     24068\n",
      "\n",
      "    accuracy                           0.87     48218\n",
      "   macro avg       0.87      0.87      0.87     48218\n",
      "weighted avg       0.87      0.87      0.87     48218\n",
      "\n"
     ]
    }
   ],
   "source": [
    "from sklearn.model_selection import train_test_split\n",
    "X_train_l3, X_test_l3, y_train_l3, y_test_l3 = train_test_split(feature_3, target_2, test_size = 0.20, random_state = 0)\n",
    "gb_clf = GradientBoostingClassifier( learning_rate=1.25, max_features=2, max_depth=2, random_state=0)\n",
    "gb_clf.fit(X_train_l3, y_train_l3)\n",
    "\n",
    "print(\"Learning rate: \", learning_rate)\n",
    "print(\"Accuracy score (training): {0:.3f}\".format(gb_clf.score(X_train_l3, y_train_l3)))\n",
    "print(\"Accuracy score (test): {0:.3f}\".format(gb_clf.score(X_test_l3, y_test_l3)))\n",
    "predictions = gb_clf.predict(X_test_l3)\n",
    "print(\"Confusion Matrix:\")\n",
    "print(confusion_matrix(y_test_l3, predictions))\n",
    "print(\"Classification Report\")\n",
    "print(classification_report(y_test_l3, predictions))"
   ]
  },
  {
   "cell_type": "markdown",
   "metadata": {},
   "source": [
    "# Exp 4"
   ]
  },
  {
   "cell_type": "code",
   "execution_count": 149,
   "metadata": {},
   "outputs": [
    {
     "data": {
      "text/html": [
       "<div>\n",
       "<style scoped>\n",
       "    .dataframe tbody tr th:only-of-type {\n",
       "        vertical-align: middle;\n",
       "    }\n",
       "\n",
       "    .dataframe tbody tr th {\n",
       "        vertical-align: top;\n",
       "    }\n",
       "\n",
       "    .dataframe thead th {\n",
       "        text-align: right;\n",
       "    }\n",
       "</style>\n",
       "<table border=\"1\" class=\"dataframe\">\n",
       "  <thead>\n",
       "    <tr style=\"text-align: right;\">\n",
       "      <th></th>\n",
       "      <th>NDIMC</th>\n",
       "      <th>MDIMA</th>\n",
       "      <th>NDIMB</th>\n",
       "      <th>KWI</th>\n",
       "      <th>VWM</th>\n",
       "      <th>VWN</th>\n",
       "      <th>STRM</th>\n",
       "      <th>STRN</th>\n",
       "      <th>SA</th>\n",
       "      <th>SB</th>\n",
       "    </tr>\n",
       "  </thead>\n",
       "  <tbody>\n",
       "    <tr>\n",
       "      <th>0</th>\n",
       "      <td>8</td>\n",
       "      <td>8</td>\n",
       "      <td>8</td>\n",
       "      <td>2</td>\n",
       "      <td>1</td>\n",
       "      <td>1</td>\n",
       "      <td>0</td>\n",
       "      <td>0</td>\n",
       "      <td>0</td>\n",
       "      <td>0</td>\n",
       "    </tr>\n",
       "    <tr>\n",
       "      <th>1</th>\n",
       "      <td>8</td>\n",
       "      <td>8</td>\n",
       "      <td>8</td>\n",
       "      <td>2</td>\n",
       "      <td>1</td>\n",
       "      <td>1</td>\n",
       "      <td>0</td>\n",
       "      <td>0</td>\n",
       "      <td>0</td>\n",
       "      <td>1</td>\n",
       "    </tr>\n",
       "    <tr>\n",
       "      <th>2</th>\n",
       "      <td>8</td>\n",
       "      <td>8</td>\n",
       "      <td>8</td>\n",
       "      <td>2</td>\n",
       "      <td>1</td>\n",
       "      <td>1</td>\n",
       "      <td>0</td>\n",
       "      <td>0</td>\n",
       "      <td>1</td>\n",
       "      <td>0</td>\n",
       "    </tr>\n",
       "    <tr>\n",
       "      <th>3</th>\n",
       "      <td>8</td>\n",
       "      <td>8</td>\n",
       "      <td>8</td>\n",
       "      <td>2</td>\n",
       "      <td>1</td>\n",
       "      <td>1</td>\n",
       "      <td>0</td>\n",
       "      <td>0</td>\n",
       "      <td>1</td>\n",
       "      <td>1</td>\n",
       "    </tr>\n",
       "    <tr>\n",
       "      <th>4</th>\n",
       "      <td>8</td>\n",
       "      <td>8</td>\n",
       "      <td>8</td>\n",
       "      <td>2</td>\n",
       "      <td>1</td>\n",
       "      <td>1</td>\n",
       "      <td>0</td>\n",
       "      <td>1</td>\n",
       "      <td>0</td>\n",
       "      <td>0</td>\n",
       "    </tr>\n",
       "  </tbody>\n",
       "</table>\n",
       "</div>"
      ],
      "text/plain": [
       "   NDIMC  MDIMA  NDIMB  KWI  VWM  VWN  STRM  STRN  SA  SB\n",
       "0      8      8      8    2    1    1     0     0   0   0\n",
       "1      8      8      8    2    1    1     0     0   0   1\n",
       "2      8      8      8    2    1    1     0     0   1   0\n",
       "3      8      8      8    2    1    1     0     0   1   1\n",
       "4      8      8      8    2    1    1     0     1   0   0"
      ]
     },
     "execution_count": 149,
     "metadata": {},
     "output_type": "execute_result"
    }
   ],
   "source": [
    "feature_d = ['NDIMC', 'MDIMA', 'NDIMB', 'KWI', 'VWM', 'VWN', 'STRM', 'STRN', 'SA', 'SB']\n",
    "feature_4 = gpu_usage_a[feature_d]\n",
    "target_4 = gpu_usage_a[avg_gpu_usage_1]\n",
    "feature_4.head()"
   ]
  },
  {
   "cell_type": "code",
   "execution_count": 150,
   "metadata": {},
   "outputs": [],
   "source": [
    "x4_train, x4_test, y4_train, y4_test = train_test_split(feature_4, target_4, test_size = 0.2, random_state = 0)"
   ]
  },
  {
   "cell_type": "code",
   "execution_count": 151,
   "metadata": {},
   "outputs": [],
   "source": [
    "x4_train=scaler.fit_transform(x4_train)\n",
    "x4_test=scaler.transform(x4_test)\n",
    "y4_train = scaler.fit_transform(y4_train)\n",
    "y4_test=scaler.transform(y4_test)"
   ]
  },
  {
   "cell_type": "code",
   "execution_count": 152,
   "metadata": {},
   "outputs": [
    {
     "name": "stdout",
     "output_type": "stream",
     "text": [
      "[[0. 0. 0. 0. 0. 0. 0. 0. 0. 0.]]\n",
      "\n",
      "Initial Cost:  0.5000000000000001 \n",
      "\n",
      "Threshold level 1e-07 \n",
      "\n",
      "Cost Function converges at 33 \n",
      "\n",
      "Model Cost:  0.4341525774121366 \n",
      "\n",
      "Model Coefficients: \n",
      "[[-0.23851744  0.03901579  0.03891266 -0.01610124  0.21997064  0.12033569\n",
      "  -0.0605377  -0.00828265 -0.09095263 -0.0279165 ]]\n",
      "alpha: 0.2\n"
     ]
    },
    {
     "data": {
      "image/png": "[encoded data removed]",
      "text/plain": [
       "<Figure size 432x288 with 1 Axes>"
      ]
     },
     "metadata": {},
     "output_type": "display_data"
    }
   ],
   "source": [
    "def developLinearModel(dataFile, dataTarget):\n",
    "    coeffMatrix = np.zeros((1, len(dataFile[0])));\n",
    "    print(coeffMatrix);\n",
    "    print();\n",
    "    initialCost = costFunction(dataFile, dataTarget, coeffMatrix);\n",
    "    print('Initial Cost: ', initialCost, '\\n');\n",
    "    coeffMatrix, costHistory = gradientDescent(dataFile, dataTarget, coeffMatrix,0.2, 50000);\n",
    "    return coeffMatrix;\n",
    "linearModel_4 = developLinearModel(x4_train,y4_train)"
   ]
  },
  {
   "cell_type": "markdown",
   "metadata": {},
   "source": [
    "# Eval uation matrics"
   ]
  },
  {
   "cell_type": "code",
   "execution_count": 153,
   "metadata": {},
   "outputs": [
    {
     "name": "stdout",
     "output_type": "stream",
     "text": [
      "Model MSE Train: [0.86830447] \n",
      "\n",
      "Model R-Squared for Test:  0.13169552584161515\n"
     ]
    }
   ],
   "source": [
    "predictedTarget_41 = predict(x4_train, linearModel_4);\n",
    "\n",
    "modelMSE_41 = calculateMSE(y4_train, predictedTarget_41);\n",
    "\n",
    "print('Model MSE Train:', modelMSE_41,'\\n');\n",
    "\n",
    "modelR2_41 = modelRSquared(y4_train, predictedTarget_41);\n",
    "print('Model R-Squared for Test: ', modelR2_41);"
   ]
  },
  {
   "cell_type": "code",
   "execution_count": 154,
   "metadata": {},
   "outputs": [
    {
     "name": "stdout",
     "output_type": "stream",
     "text": [
      "Model MSE: [0.8714047] \n",
      "\n",
      "Model R-Squared for Test:  0.13096327305033695\n"
     ]
    }
   ],
   "source": [
    "predictedTarget_4 = predict(x4_test, linearModel_4);\n",
    "\n",
    "modelMSE_4 = calculateMSE(y4_test, predictedTarget_4);\n",
    "\n",
    "print('Model MSE:', modelMSE_4,'\\n');\n",
    "\n",
    "modelR2_4 = modelRSquared(y4_test, predictedTarget_4);\n",
    "print('Model R-Squared for Test: ', modelR2_4);"
   ]
  },
  {
   "cell_type": "code",
   "execution_count": 155,
   "metadata": {},
   "outputs": [
    {
     "name": "stdout",
     "output_type": "stream",
     "text": [
      "Learning rate:  1.25\n",
      "Accuracy score (training): 0.655\n",
      "Accuracy score (test): 0.654\n",
      "Confusion Matrix:\n",
      "[[16478  7672]\n",
      " [ 9009 15059]]\n",
      "Classification Report\n",
      "              precision    recall  f1-score   support\n",
      "\n",
      "           0       0.65      0.68      0.66     24150\n",
      "           1       0.66      0.63      0.64     24068\n",
      "\n",
      "    accuracy                           0.65     48218\n",
      "   macro avg       0.65      0.65      0.65     48218\n",
      "weighted avg       0.65      0.65      0.65     48218\n",
      "\n"
     ]
    }
   ],
   "source": [
    "from sklearn.model_selection import train_test_split\n",
    "X_train_l4, X_test_l4, y_train_l4, y_test_l4 = train_test_split(feature_4, target_2, test_size = 0.20, random_state = 0)\n",
    "gb_clf = GradientBoostingClassifier( learning_rate=1.25, max_features=2, max_depth=2, random_state=0)\n",
    "gb_clf.fit(X_train_l4, y_train_l4)\n",
    "\n",
    "print(\"Learning rate: \", learning_rate)\n",
    "print(\"Accuracy score (training): {0:.3f}\".format(gb_clf.score(X_train_l4, y_train_l4)))\n",
    "print(\"Accuracy score (test): {0:.3f}\".format(gb_clf.score(X_test_l4, y_test_l4)))\n",
    "predictions = gb_clf.predict(X_test_l4)\n",
    "print(\"Confusion Matrix:\")\n",
    "print(confusion_matrix(y_test_l4, predictions))\n",
    "print(\"Classification Report\")\n",
    "print(classification_report(y_test_l4, predictions))"
   ]
  },
  {
   "cell_type": "markdown",
   "metadata": {},
   "source": [
    "# Exp 4 - b"
   ]
  },
  {
   "cell_type": "code",
   "execution_count": 165,
   "metadata": {},
   "outputs": [],
   "source": [
    "feature_e = [\"MWG\", \"NWG\", \"KWG\", \"MDIMC\", \"NDIMC\", \"MDIMA\", \"NDIMB\", \"KWI\", \"VWM\", \"VWN\", \"STRM\", \"STRN\", \"SA\", \"SB\"]\n",
    "feature_4b = gpu_usage_a[feature_e]\n",
    "target_4b = gpu_usage_a[avg_gpu_usage_1]"
   ]
  },
  {
   "cell_type": "code",
   "execution_count": 166,
   "metadata": {},
   "outputs": [],
   "source": [
    "x4b_train, x4b_test, y4b_train, y4b_test = train_test_split(feature_4b, target_4b, test_size = 0.2, random_state = 0)"
   ]
  },
  {
   "cell_type": "code",
   "execution_count": 167,
   "metadata": {},
   "outputs": [],
   "source": [
    "x4b_train=scaler.fit_transform(x4b_train)\n",
    "x4b_test=scaler.transform(x4b_test)\n",
    "y4b_train = scaler.fit_transform(y4b_train)\n",
    "y4b_test=scaler.transform(y4b_test)"
   ]
  },
  {
   "cell_type": "code",
   "execution_count": 168,
   "metadata": {},
   "outputs": [
    {
     "name": "stdout",
     "output_type": "stream",
     "text": [
      "[[0. 0. 0. 0. 0. 0. 0. 0. 0. 0. 0. 0. 0. 0.]]\n",
      "\n",
      "Initial Cost:  0.5000000000000001 \n",
      "\n",
      "Threshold level 1e-07 \n",
      "\n",
      "Cost Function converges at 56 \n",
      "\n",
      "Model Cost:  0.2214328936484323 \n",
      "\n",
      "Model Coefficients: \n",
      "[[ 0.50203577  0.39637015  0.08442112 -0.39594155 -0.38179981  0.00059929\n",
      "  -0.00129512 -0.01332445 -0.01542743 -0.04102379 -0.06070891 -0.00880489\n",
      "  -0.0883344  -0.02479818]]\n",
      "alpha: 0.2\n"
     ]
    },
    {
     "data": {
      "image/png": "[encoded data removed]",
      "text/plain": [
       "<Figure size 432x288 with 1 Axes>"
      ]
     },
     "metadata": {},
     "output_type": "display_data"
    }
   ],
   "source": [
    "def developLinearModel(dataFile, dataTarget):\n",
    "    coeffMatrix = np.zeros((1, len(dataFile[0])));\n",
    "    print(coeffMatrix);\n",
    "    print();\n",
    "    initialCost = costFunction(dataFile, dataTarget, coeffMatrix);\n",
    "    print('Initial Cost: ', initialCost, '\\n');\n",
    "    coeffMatrix, costHistory = gradientDescent(dataFile, dataTarget, coeffMatrix,0.2, 50000);\n",
    "    return coeffMatrix;\n",
    "linearModel_4b = developLinearModel(x4b_train,y4b_train)"
   ]
  },
  {
   "cell_type": "code",
   "execution_count": 169,
   "metadata": {},
   "outputs": [
    {
     "name": "stdout",
     "output_type": "stream",
     "text": [
      "Model MSE Train: [0.44286479] \n",
      "\n",
      "Model R-Squared for Train:  0.5571352075376292\n"
     ]
    }
   ],
   "source": [
    "predictedTarget_4b1 = predict(x4b_train, linearModel_4b);\n",
    "\n",
    "modelMSE_4b1 = calculateMSE(y4b_train, predictedTarget_4b1);\n",
    "\n",
    "print('Model MSE Train:', modelMSE_4b1,'\\n');\n",
    "\n",
    "modelR2_4b1 = modelRSquared(y4b_train, predictedTarget_4b1);\n",
    "print('Model R-Squared for Train: ', modelR2_4b1);"
   ]
  },
  {
   "cell_type": "code",
   "execution_count": 170,
   "metadata": {},
   "outputs": [
    {
     "name": "stdout",
     "output_type": "stream",
     "text": [
      "Model MSE: [0.44222978] \n",
      "\n",
      "Model R-Squared for Test:  0.5589719497228809\n"
     ]
    }
   ],
   "source": [
    "predictedTarget_4b = predict(x4b_test, linearModel_4b);\n",
    "\n",
    "modelMSE_4b = calculateMSE(y4b_test, predictedTarget_4b);\n",
    "\n",
    "print('Model MSE:', modelMSE_4b,'\\n');\n",
    "\n",
    "modelR2_4b = modelRSquared(y4b_test, predictedTarget_4b);\n",
    "print('Model R-Squared for Test: ', modelR2_4b,);"
   ]
  },
  {
   "cell_type": "code",
   "execution_count": 171,
   "metadata": {},
   "outputs": [
    {
     "name": "stdout",
     "output_type": "stream",
     "text": [
      "Learning rate:  1.25\n",
      "Accuracy score (training): 0.885\n",
      "Accuracy score (test): 0.884\n",
      "Confusion Matrix:\n",
      "[[21453  2697]\n",
      " [ 2894 21174]]\n",
      "Classification Report\n",
      "              precision    recall  f1-score   support\n",
      "\n",
      "           0       0.88      0.89      0.88     24150\n",
      "           1       0.89      0.88      0.88     24068\n",
      "\n",
      "    accuracy                           0.88     48218\n",
      "   macro avg       0.88      0.88      0.88     48218\n",
      "weighted avg       0.88      0.88      0.88     48218\n",
      "\n"
     ]
    }
   ],
   "source": [
    "from sklearn.model_selection import train_test_split\n",
    "X_train_l4b, X_test_l4b, y_train_l4b, y_test_l4b = train_test_split(feature_4b, target_2, test_size = 0.20, random_state = 0)\n",
    "gb_clf = GradientBoostingClassifier( learning_rate=1.25, max_features=2, max_depth=2, random_state=0)\n",
    "gb_clf.fit(X_train_l4b, y_train_l4b)\n",
    "\n",
    "print(\"Learning rate: \", learning_rate)\n",
    "print(\"Accuracy score (training): {0:.3f}\".format(gb_clf.score(X_train_l4b, y_train_l4b)))\n",
    "print(\"Accuracy score (test): {0:.3f}\".format(gb_clf.score(X_test_l4b, y_test_l4b)))\n",
    "predictions = gb_clf.predict(X_test_l4b)\n",
    "print(\"Confusion Matrix:\")\n",
    "print(confusion_matrix(y_test_l4b, predictions))\n",
    "print(\"Classification Report\")\n",
    "print(classification_report(y_test_l4b, predictions))"
   ]
  },
  {
   "cell_type": "code",
   "execution_count": null,
   "metadata": {},
   "outputs": [],
   "source": []
  }
 ],
 "metadata": {
  "kernelspec": {
   "display_name": "Python 3",
   "language": "python",
   "name": "python3"
  },
  "language_info": {
   "codemirror_mode": {
    "name": "ipython",
    "version": 3
   },
   "file_extension": ".py",
   "mimetype": "text/x-python",
   "name": "python",
   "nbconvert_exporter": "python",
   "pygments_lexer": "ipython3",
   "version": "3.6.3"
  }
 },
 "nbformat": 4,
 "nbformat_minor": 2
}
